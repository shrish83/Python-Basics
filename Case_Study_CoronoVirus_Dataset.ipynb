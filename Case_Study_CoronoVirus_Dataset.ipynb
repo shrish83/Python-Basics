{
  "nbformat": 4,
  "nbformat_minor": 0,
  "metadata": {
    "colab": {
      "name": "Case Study - CoronoVirus Dataset.ipynb",
      "provenance": [],
      "toc_visible": true,
      "authorship_tag": "ABX9TyMMwGWfeLz74LVLzilxTU7B",
      "include_colab_link": true
    },
    "kernelspec": {
      "name": "python3",
      "display_name": "Python 3"
    },
    "language_info": {
      "name": "python"
    }
  },
  "cells": [
    {
      "cell_type": "markdown",
      "metadata": {
        "id": "view-in-github",
        "colab_type": "text"
      },
      "source": [
        "<a href=\"https://colab.research.google.com/github/shrish83/Python-Basics/blob/master/Case_Study_CoronoVirus_Dataset.ipynb\" target=\"_parent\"><img src=\"https://colab.research.google.com/assets/colab-badge.svg\" alt=\"Open In Colab\"/></a>"
      ]
    },
    {
      "cell_type": "markdown",
      "metadata": {
        "id": "QvIoI4M7NyFO"
      },
      "source": [
        "# **Case Study - CoronoVirus Dataset**"
      ]
    },
    {
      "cell_type": "markdown",
      "metadata": {
        "id": "sOPco8adOIur"
      },
      "source": [
        "### A common perception about Covid-19 is that Warm Climate is more reistant to covid outbreak and we verify this using Hypothesis Testing."
      ]
    },
    {
      "cell_type": "markdown",
      "metadata": {
        "id": "zlEULkvKn4l0"
      },
      "source": [
        "\n",
        "\n",
        "*   H0: Temperature doesn't affect Covid-19 Outbreak\n",
        "*   H1: Temperature affects Covid-19 Outbreak\n",
        "\n"
      ]
    },
    {
      "cell_type": "markdown",
      "metadata": {
        "id": "lWu74RTBOeXs"
      },
      "source": [
        "***We are considering Temperature below 24 as Cold Climate and above 24 as Hot Climate.***"
      ]
    },
    {
      "cell_type": "markdown",
      "metadata": {
        "id": "cq7pfDqZOtr2"
      },
      "source": [
        "### Loading Packages and Dataset"
      ]
    },
    {
      "cell_type": "code",
      "metadata": {
        "id": "TzlSOpJcOb-M"
      },
      "source": [
        "import numpy as np\n",
        "import pandas as pd\n",
        "\n",
        "df = pd.read_csv('/content/Corona_Updated.csv')\n",
        "df_ori = df.copy()"
      ],
      "execution_count": 2,
      "outputs": []
    },
    {
      "cell_type": "code",
      "metadata": {
        "colab": {
          "base_uri": "https://localhost:8080/"
        },
        "id": "9YEvwoG8Pdyk",
        "outputId": "b44f8c8c-e13e-40d6-f548-c453759ec682"
      },
      "source": [
        "df.shape"
      ],
      "execution_count": 3,
      "outputs": [
        {
          "output_type": "execute_result",
          "data": {
            "text/plain": [
              "(206, 12)"
            ]
          },
          "metadata": {
            "tags": []
          },
          "execution_count": 3
        }
      ]
    },
    {
      "cell_type": "code",
      "metadata": {
        "colab": {
          "base_uri": "https://localhost:8080/"
        },
        "id": "sYklCz0aPgCK",
        "outputId": "85abf446-86c9-4e3b-9f97-09385e6a65ef"
      },
      "source": [
        "df.info()"
      ],
      "execution_count": 4,
      "outputs": [
        {
          "output_type": "stream",
          "text": [
            "<class 'pandas.core.frame.DataFrame'>\n",
            "RangeIndex: 206 entries, 0 to 205\n",
            "Data columns (total 12 columns):\n",
            " #   Column          Non-Null Count  Dtype  \n",
            "---  ------          --------------  -----  \n",
            " 0   Province/State  99 non-null     object \n",
            " 1   Country/Region  206 non-null    object \n",
            " 2   Last Update     206 non-null    object \n",
            " 3   Confirmed       206 non-null    int64  \n",
            " 4   Deaths          206 non-null    int64  \n",
            " 5   Recovered       206 non-null    int64  \n",
            " 6   Latitude        206 non-null    float64\n",
            " 7   Longitude       206 non-null    float64\n",
            " 8   Temprature      206 non-null    float64\n",
            " 9   Humidity        206 non-null    int64  \n",
            " 10  Temp_Cat        206 non-null    int64  \n",
            " 11  Humid_Cat       206 non-null    int64  \n",
            "dtypes: float64(3), int64(6), object(3)\n",
            "memory usage: 19.4+ KB\n"
          ],
          "name": "stdout"
        }
      ]
    },
    {
      "cell_type": "code",
      "metadata": {
        "colab": {
          "base_uri": "https://localhost:8080/",
          "height": 326
        },
        "id": "-uw_uOaBPidq",
        "outputId": "369db522-b305-45d7-b518-82f8dfcaa487"
      },
      "source": [
        "df.head()"
      ],
      "execution_count": 5,
      "outputs": [
        {
          "output_type": "execute_result",
          "data": {
            "text/html": [
              "<div>\n",
              "<style scoped>\n",
              "    .dataframe tbody tr th:only-of-type {\n",
              "        vertical-align: middle;\n",
              "    }\n",
              "\n",
              "    .dataframe tbody tr th {\n",
              "        vertical-align: top;\n",
              "    }\n",
              "\n",
              "    .dataframe thead th {\n",
              "        text-align: right;\n",
              "    }\n",
              "</style>\n",
              "<table border=\"1\" class=\"dataframe\">\n",
              "  <thead>\n",
              "    <tr style=\"text-align: right;\">\n",
              "      <th></th>\n",
              "      <th>Province/State</th>\n",
              "      <th>Country/Region</th>\n",
              "      <th>Last Update</th>\n",
              "      <th>Confirmed</th>\n",
              "      <th>Deaths</th>\n",
              "      <th>Recovered</th>\n",
              "      <th>Latitude</th>\n",
              "      <th>Longitude</th>\n",
              "      <th>Temprature</th>\n",
              "      <th>Humidity</th>\n",
              "      <th>Temp_Cat</th>\n",
              "      <th>Humid_Cat</th>\n",
              "    </tr>\n",
              "  </thead>\n",
              "  <tbody>\n",
              "    <tr>\n",
              "      <th>0</th>\n",
              "      <td>Hubei</td>\n",
              "      <td>Mainland China</td>\n",
              "      <td>2020-03-10T15:13:05</td>\n",
              "      <td>67760</td>\n",
              "      <td>3024</td>\n",
              "      <td>47743</td>\n",
              "      <td>30.9756</td>\n",
              "      <td>112.2707</td>\n",
              "      <td>12.5</td>\n",
              "      <td>86</td>\n",
              "      <td>1</td>\n",
              "      <td>1</td>\n",
              "    </tr>\n",
              "    <tr>\n",
              "      <th>1</th>\n",
              "      <td>NaN</td>\n",
              "      <td>Italy</td>\n",
              "      <td>2020-03-10T17:53:02</td>\n",
              "      <td>10149</td>\n",
              "      <td>631</td>\n",
              "      <td>724</td>\n",
              "      <td>43.0000</td>\n",
              "      <td>12.0000</td>\n",
              "      <td>12.9</td>\n",
              "      <td>64</td>\n",
              "      <td>1</td>\n",
              "      <td>1</td>\n",
              "    </tr>\n",
              "    <tr>\n",
              "      <th>2</th>\n",
              "      <td>NaN</td>\n",
              "      <td>Iran (Islamic Republic of)</td>\n",
              "      <td>2020-03-10T19:13:20</td>\n",
              "      <td>8042</td>\n",
              "      <td>291</td>\n",
              "      <td>2731</td>\n",
              "      <td>32.0000</td>\n",
              "      <td>53.0000</td>\n",
              "      <td>11.9</td>\n",
              "      <td>9</td>\n",
              "      <td>0</td>\n",
              "      <td>0</td>\n",
              "    </tr>\n",
              "    <tr>\n",
              "      <th>3</th>\n",
              "      <td>NaN</td>\n",
              "      <td>Republic of Korea</td>\n",
              "      <td>2020-03-10T19:13:20</td>\n",
              "      <td>7513</td>\n",
              "      <td>54</td>\n",
              "      <td>247</td>\n",
              "      <td>36.0000</td>\n",
              "      <td>128.0000</td>\n",
              "      <td>4.9</td>\n",
              "      <td>41</td>\n",
              "      <td>0</td>\n",
              "      <td>0</td>\n",
              "    </tr>\n",
              "    <tr>\n",
              "      <th>4</th>\n",
              "      <td>NaN</td>\n",
              "      <td>France</td>\n",
              "      <td>2020-03-10T18:53:02</td>\n",
              "      <td>1784</td>\n",
              "      <td>33</td>\n",
              "      <td>12</td>\n",
              "      <td>47.0000</td>\n",
              "      <td>2.0000</td>\n",
              "      <td>11.9</td>\n",
              "      <td>93</td>\n",
              "      <td>0</td>\n",
              "      <td>0</td>\n",
              "    </tr>\n",
              "  </tbody>\n",
              "</table>\n",
              "</div>"
            ],
            "text/plain": [
              "  Province/State              Country/Region  ... Temp_Cat  Humid_Cat\n",
              "0          Hubei              Mainland China  ...        1          1\n",
              "1            NaN                       Italy  ...        1          1\n",
              "2            NaN  Iran (Islamic Republic of)  ...        0          0\n",
              "3            NaN           Republic of Korea  ...        0          0\n",
              "4            NaN                      France  ...        0          0\n",
              "\n",
              "[5 rows x 12 columns]"
            ]
          },
          "metadata": {
            "tags": []
          },
          "execution_count": 5
        }
      ]
    },
    {
      "cell_type": "markdown",
      "metadata": {
        "id": "l-h2cMWjQmUP"
      },
      "source": [
        "*Temperature in Temp_Cat is 0 if it is less than 24 else 1*"
      ]
    },
    {
      "cell_type": "code",
      "metadata": {
        "colab": {
          "base_uri": "https://localhost:8080/",
          "height": 204
        },
        "id": "-tz9mJiQOH24",
        "outputId": "9fd70cdb-368c-47f0-b171-57cde400a8ac"
      },
      "source": [
        "df_new = df[['Confirmed','Temp_Cat']]\n",
        "df_new.head()"
      ],
      "execution_count": 6,
      "outputs": [
        {
          "output_type": "execute_result",
          "data": {
            "text/html": [
              "<div>\n",
              "<style scoped>\n",
              "    .dataframe tbody tr th:only-of-type {\n",
              "        vertical-align: middle;\n",
              "    }\n",
              "\n",
              "    .dataframe tbody tr th {\n",
              "        vertical-align: top;\n",
              "    }\n",
              "\n",
              "    .dataframe thead th {\n",
              "        text-align: right;\n",
              "    }\n",
              "</style>\n",
              "<table border=\"1\" class=\"dataframe\">\n",
              "  <thead>\n",
              "    <tr style=\"text-align: right;\">\n",
              "      <th></th>\n",
              "      <th>Confirmed</th>\n",
              "      <th>Temp_Cat</th>\n",
              "    </tr>\n",
              "  </thead>\n",
              "  <tbody>\n",
              "    <tr>\n",
              "      <th>0</th>\n",
              "      <td>67760</td>\n",
              "      <td>1</td>\n",
              "    </tr>\n",
              "    <tr>\n",
              "      <th>1</th>\n",
              "      <td>10149</td>\n",
              "      <td>1</td>\n",
              "    </tr>\n",
              "    <tr>\n",
              "      <th>2</th>\n",
              "      <td>8042</td>\n",
              "      <td>0</td>\n",
              "    </tr>\n",
              "    <tr>\n",
              "      <th>3</th>\n",
              "      <td>7513</td>\n",
              "      <td>0</td>\n",
              "    </tr>\n",
              "    <tr>\n",
              "      <th>4</th>\n",
              "      <td>1784</td>\n",
              "      <td>0</td>\n",
              "    </tr>\n",
              "  </tbody>\n",
              "</table>\n",
              "</div>"
            ],
            "text/plain": [
              "   Confirmed  Temp_Cat\n",
              "0      67760         1\n",
              "1      10149         1\n",
              "2       8042         0\n",
              "3       7513         0\n",
              "4       1784         0"
            ]
          },
          "metadata": {
            "tags": []
          },
          "execution_count": 6
        }
      ]
    },
    {
      "cell_type": "markdown",
      "metadata": {
        "id": "UyiS8QAFQ4K9"
      },
      "source": [
        "### Using two sample z-test comparing temperatures above and below 24"
      ]
    },
    {
      "cell_type": "code",
      "metadata": {
        "id": "ZU8JHQIMQdKe"
      },
      "source": [
        "def TwoSampZ(X1,X2,sigma1,sigma2,N1,N2):\n",
        "  from numpy import sqrt, abs, round\n",
        "  from scipy.stats import norm\n",
        "  sig = sqrt(sigma1**2/N1 + sigma2**2/N2)\n",
        "  z = (X1-X2)/sig\n",
        "  p_val = 2*(1-norm.cdf(abs(z)))\n",
        "  return z, p_val"
      ],
      "execution_count": 7,
      "outputs": []
    },
    {
      "cell_type": "code",
      "metadata": {
        "id": "eAvLsXYeSUUt"
      },
      "source": [
        "#Confirmed Cases when Temp > 24\n",
        "confirm_1 =  df_new[df_new['Temp_Cat']==1]['Confirmed']\n",
        "#Confirmed Cases when Temp < 24\n",
        "confirm_0 =  df_new[df_new['Temp_Cat']==0]['Confirmed']\n"
      ],
      "execution_count": 9,
      "outputs": []
    },
    {
      "cell_type": "code",
      "metadata": {
        "id": "cTFbbon8lzk1"
      },
      "source": [
        "m1, m2 = confirm_1.mean(), confirm_0.mean()\n",
        "sd1, sd2 = confirm_1.std(), confirm_0.std()\n",
        "n1, n2 = confirm_1.shape[0], confirm_0.shape[0]"
      ],
      "execution_count": 10,
      "outputs": []
    },
    {
      "cell_type": "code",
      "metadata": {
        "id": "t6Q3IT-EmoUY"
      },
      "source": [
        "z, p = TwoSampZ(m1,m2,sd1,sd2,n1,n2)\n",
        "z_val = np.round(z,8)\n",
        "p_val = np.round(z,6) "
      ],
      "execution_count": 11,
      "outputs": []
    },
    {
      "cell_type": "code",
      "metadata": {
        "id": "QGFDW8kLm_-T",
        "outputId": "108a62cf-b141-46db-d29c-5951ab67b9c7",
        "colab": {
          "base_uri": "https://localhost:8080/"
        }
      },
      "source": [
        "if p_val<0.05:\n",
        "  print(p_val,'Status: Reject H0 : Significant')\n",
        "else:\n",
        "  print(p_val,'Status: Fail to Reject H0 : Not Significant')"
      ],
      "execution_count": 17,
      "outputs": [
        {
          "output_type": "stream",
          "text": [
            "0.896174 Status: Fail to Reject H0 : Not Significant\n"
          ],
          "name": "stdout"
        }
      ]
    },
    {
      "cell_type": "markdown",
      "metadata": {
        "id": "p3sI8VolodIv"
      },
      "source": [
        "## Thus, we fail to reject H0 that is we do not have enough evidence to say that Climate affects Covid-19 Outbreak."
      ]
    }
  ]
}
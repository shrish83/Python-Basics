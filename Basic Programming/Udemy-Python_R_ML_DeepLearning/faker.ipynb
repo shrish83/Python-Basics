{
 "metadata": {
  "language_info": {
   "codemirror_mode": {
    "name": "ipython",
    "version": 3
   },
   "file_extension": ".py",
   "mimetype": "text/x-python",
   "name": "python",
   "nbconvert_exporter": "python",
   "pygments_lexer": "ipython3",
   "version": "3.8.3-final"
  },
  "orig_nbformat": 2,
  "kernelspec": {
   "name": "Python 3.8.3 64-bit",
   "display_name": "Python 3.8.3 64-bit",
   "metadata": {
    "interpreter": {
     "hash": "f03be3766e3c437524d2d17bf3553c4cd1a66ace052a6ec45adfa86fbf075197"
    }
   }
  }
 },
 "nbformat": 4,
 "nbformat_minor": 2,
 "cells": [
  {
   "cell_type": "code",
   "execution_count": 1,
   "metadata": {},
   "outputs": [],
   "source": [
    "import numpy as np\n",
    "import pandas as pd\n",
    "import matplotlib.pyplot as plt\n",
    "from sklearn.datasets import make_blobs\n",
    "from faker import Faker"
   ]
  },
  {
   "cell_type": "code",
   "execution_count": 3,
   "metadata": {},
   "outputs": [],
   "source": [
    "df = pd.read_csv(\"data.csv\")"
   ]
  },
  {
   "cell_type": "code",
   "execution_count": 5,
   "metadata": {},
   "outputs": [
    {
     "output_type": "execute_result",
     "data": {
      "text/plain": [
       "(1877, 19)"
      ]
     },
     "metadata": {},
     "execution_count": 5
    }
   ],
   "source": [
    "df.shape"
   ]
  },
  {
   "cell_type": "code",
   "execution_count": 6,
   "metadata": {},
   "outputs": [
    {
     "output_type": "execute_result",
     "data": {
      "text/plain": [
       "   ID            Name of Business  \\\n",
       "0   1            C to C Tile, inc   \n",
       "1   2       Con Artist Collective   \n",
       "2   3     Coffee Project New York   \n",
       "3   4          Golden Bridge Yoga   \n",
       "4   5    Three Guys from Brooklyn   \n",
       "5   6                 NYC iRepair   \n",
       "6   7  Macaron Parlour - Columbus   \n",
       "7   8                Meow Parlour   \n",
       "8   9    Macaron Parlour - Hester   \n",
       "9  10            Mystery Room NYC   \n",
       "\n",
       "                                   Short Description  \\\n",
       "0                         Tile Designs and Solutions   \n",
       "1                         Art Gallery and Collective   \n",
       "2                                        Coffee Shop   \n",
       "3  Kundalini Yoga Studio and Holistic Store with ...   \n",
       "4  Grocery store featuring Fresh Fruit and Vegeta...   \n",
       "5                                 iPhone Repair Shop   \n",
       "6                                             Bakery   \n",
       "7                                           Cat Cafe   \n",
       "8                                             Bakery   \n",
       "9                                        Escape Room   \n",
       "\n",
       "                       Address      City State Postcode    Phone Number  \\\n",
       "0              48 west 21st st  New York    NY    10024  (347) 820-2113   \n",
       "1               119 Ludlow st.  New York    NY    10002  (646) 504-2323   \n",
       "2             239 E 5th Street  New York    NY    10003  (212) 228-7888   \n",
       "3            253 Centre Street  New York    NY    10013  (212) 343-8191   \n",
       "4      6502 Fort Hamilton Pkwy  Brooklyn    NY    11219  (718) 748-8340   \n",
       "5  147 West 35th St Suite 1206  New York    NY    10001  (212) 777-6955   \n",
       "6            560 Columbus Ave.  New York    NY    10024  (212) 799-9169   \n",
       "7             46 Hester Street  New York    NY    10002  (212) 387-9169   \n",
       "8             44 Hester Street  New York    NY    10002  (212) 387-9169   \n",
       "9            190 Mercer Street  New York    NY    10012  (302) 401-1373   \n",
       "\n",
       "  Which type of business is this?     Business Website or Other URL  \\\n",
       "0                          Retail           http://www.ctoctile.com   \n",
       "1                          Retail           http://conartistnyc.com   \n",
       "2               Food and Beverage    http://www.coffeeprojectny.com   \n",
       "3                         Service   http://www.goldenbridgeyoga.com   \n",
       "4                          Retail  http://www.3guysfrombrooklyn.com   \n",
       "5                         Service         http://www.nycirepair.com   \n",
       "6               Food and Beverage     http://www.macaronparlour.com   \n",
       "7                           Other        http://www.meowparlour.com   \n",
       "8               Food and Beverage     http://www.macaronparlour.com   \n",
       "9                         Service     http://www.mysteryroomnyc.com   \n",
       "\n",
       "     Borough   Latitude  Longitude  Community Board  Council District  \\\n",
       "0  MANHATTAN  40.740915 -73.992083              5.0               3.0   \n",
       "1  MANHATTAN  40.719585 -73.988618              3.0               1.0   \n",
       "2  MANHATTAN  40.727345 -73.990305              3.0               2.0   \n",
       "3  MANHATTAN  40.720478 -73.997962              2.0               1.0   \n",
       "4  BROOKLYN   40.630553 -74.009360             10.0              38.0   \n",
       "5  MANHATTAN  40.751123 -73.988844              5.0               3.0   \n",
       "6  MANHATTAN  40.787312 -73.971587              7.0               6.0   \n",
       "7  MANHATTAN  40.715680 -73.990203              3.0               1.0   \n",
       "8  MANHATTAN  40.715655 -73.990123              3.0               1.0   \n",
       "9  MANHATTAN  40.726300 -73.997175              2.0               1.0   \n",
       "\n",
       "   Census Tract        BIN           BBL  \\\n",
       "0          54.0  1015510.0  1.008220e+09   \n",
       "1          18.0  1005315.0  1.004100e+09   \n",
       "2          38.0  1006629.0  1.004610e+09   \n",
       "3          45.0  1007004.0  1.004720e+09   \n",
       "4         120.0  3328767.0  3.057500e+09   \n",
       "5         109.0  1015224.0  1.008110e+09   \n",
       "6         173.0  1032246.0  1.012188e+09   \n",
       "7          16.0  1003810.0  1.002970e+09   \n",
       "8          16.0  1003811.0  1.002970e+09   \n",
       "9        5501.0  1008239.0  1.005230e+09   \n",
       "\n",
       "                                                 NTA  \n",
       "0  Hudson Yards-Chelsea-Flatiron-Union Square    ...  \n",
       "1  Chinatown                                     ...  \n",
       "2  East Village                                  ...  \n",
       "3  SoHo-TriBeCa-Civic Center-Little Italy        ...  \n",
       "4  Sunset Park East                              ...  \n",
       "5  Midtown-Midtown South                         ...  \n",
       "6  Upper West Side                               ...  \n",
       "7  Chinatown                                     ...  \n",
       "8  Chinatown                                     ...  \n",
       "9  West Village                                  ...  "
      ],
      "text/html": "<div>\n<style scoped>\n    .dataframe tbody tr th:only-of-type {\n        vertical-align: middle;\n    }\n\n    .dataframe tbody tr th {\n        vertical-align: top;\n    }\n\n    .dataframe thead th {\n        text-align: right;\n    }\n</style>\n<table border=\"1\" class=\"dataframe\">\n  <thead>\n    <tr style=\"text-align: right;\">\n      <th></th>\n      <th>ID</th>\n      <th>Name of Business</th>\n      <th>Short Description</th>\n      <th>Address</th>\n      <th>City</th>\n      <th>State</th>\n      <th>Postcode</th>\n      <th>Phone Number</th>\n      <th>Which type of business is this?</th>\n      <th>Business Website or Other URL</th>\n      <th>Borough</th>\n      <th>Latitude</th>\n      <th>Longitude</th>\n      <th>Community Board</th>\n      <th>Council District</th>\n      <th>Census Tract</th>\n      <th>BIN</th>\n      <th>BBL</th>\n      <th>NTA</th>\n    </tr>\n  </thead>\n  <tbody>\n    <tr>\n      <th>0</th>\n      <td>1</td>\n      <td>C to C Tile, inc</td>\n      <td>Tile Designs and Solutions</td>\n      <td>48 west 21st st</td>\n      <td>New York</td>\n      <td>NY</td>\n      <td>10024</td>\n      <td>(347) 820-2113</td>\n      <td>Retail</td>\n      <td>http://www.ctoctile.com</td>\n      <td>MANHATTAN</td>\n      <td>40.740915</td>\n      <td>-73.992083</td>\n      <td>5.0</td>\n      <td>3.0</td>\n      <td>54.0</td>\n      <td>1015510.0</td>\n      <td>1.008220e+09</td>\n      <td>Hudson Yards-Chelsea-Flatiron-Union Square    ...</td>\n    </tr>\n    <tr>\n      <th>1</th>\n      <td>2</td>\n      <td>Con Artist Collective</td>\n      <td>Art Gallery and Collective</td>\n      <td>119 Ludlow st.</td>\n      <td>New York</td>\n      <td>NY</td>\n      <td>10002</td>\n      <td>(646) 504-2323</td>\n      <td>Retail</td>\n      <td>http://conartistnyc.com</td>\n      <td>MANHATTAN</td>\n      <td>40.719585</td>\n      <td>-73.988618</td>\n      <td>3.0</td>\n      <td>1.0</td>\n      <td>18.0</td>\n      <td>1005315.0</td>\n      <td>1.004100e+09</td>\n      <td>Chinatown                                     ...</td>\n    </tr>\n    <tr>\n      <th>2</th>\n      <td>3</td>\n      <td>Coffee Project New York</td>\n      <td>Coffee Shop</td>\n      <td>239 E 5th Street</td>\n      <td>New York</td>\n      <td>NY</td>\n      <td>10003</td>\n      <td>(212) 228-7888</td>\n      <td>Food and Beverage</td>\n      <td>http://www.coffeeprojectny.com</td>\n      <td>MANHATTAN</td>\n      <td>40.727345</td>\n      <td>-73.990305</td>\n      <td>3.0</td>\n      <td>2.0</td>\n      <td>38.0</td>\n      <td>1006629.0</td>\n      <td>1.004610e+09</td>\n      <td>East Village                                  ...</td>\n    </tr>\n    <tr>\n      <th>3</th>\n      <td>4</td>\n      <td>Golden Bridge Yoga</td>\n      <td>Kundalini Yoga Studio and Holistic Store with ...</td>\n      <td>253 Centre Street</td>\n      <td>New York</td>\n      <td>NY</td>\n      <td>10013</td>\n      <td>(212) 343-8191</td>\n      <td>Service</td>\n      <td>http://www.goldenbridgeyoga.com</td>\n      <td>MANHATTAN</td>\n      <td>40.720478</td>\n      <td>-73.997962</td>\n      <td>2.0</td>\n      <td>1.0</td>\n      <td>45.0</td>\n      <td>1007004.0</td>\n      <td>1.004720e+09</td>\n      <td>SoHo-TriBeCa-Civic Center-Little Italy        ...</td>\n    </tr>\n    <tr>\n      <th>4</th>\n      <td>5</td>\n      <td>Three Guys from Brooklyn</td>\n      <td>Grocery store featuring Fresh Fruit and Vegeta...</td>\n      <td>6502 Fort Hamilton Pkwy</td>\n      <td>Brooklyn</td>\n      <td>NY</td>\n      <td>11219</td>\n      <td>(718) 748-8340</td>\n      <td>Retail</td>\n      <td>http://www.3guysfrombrooklyn.com</td>\n      <td>BROOKLYN</td>\n      <td>40.630553</td>\n      <td>-74.009360</td>\n      <td>10.0</td>\n      <td>38.0</td>\n      <td>120.0</td>\n      <td>3328767.0</td>\n      <td>3.057500e+09</td>\n      <td>Sunset Park East                              ...</td>\n    </tr>\n    <tr>\n      <th>5</th>\n      <td>6</td>\n      <td>NYC iRepair</td>\n      <td>iPhone Repair Shop</td>\n      <td>147 West 35th St Suite 1206</td>\n      <td>New York</td>\n      <td>NY</td>\n      <td>10001</td>\n      <td>(212) 777-6955</td>\n      <td>Service</td>\n      <td>http://www.nycirepair.com</td>\n      <td>MANHATTAN</td>\n      <td>40.751123</td>\n      <td>-73.988844</td>\n      <td>5.0</td>\n      <td>3.0</td>\n      <td>109.0</td>\n      <td>1015224.0</td>\n      <td>1.008110e+09</td>\n      <td>Midtown-Midtown South                         ...</td>\n    </tr>\n    <tr>\n      <th>6</th>\n      <td>7</td>\n      <td>Macaron Parlour - Columbus</td>\n      <td>Bakery</td>\n      <td>560 Columbus Ave.</td>\n      <td>New York</td>\n      <td>NY</td>\n      <td>10024</td>\n      <td>(212) 799-9169</td>\n      <td>Food and Beverage</td>\n      <td>http://www.macaronparlour.com</td>\n      <td>MANHATTAN</td>\n      <td>40.787312</td>\n      <td>-73.971587</td>\n      <td>7.0</td>\n      <td>6.0</td>\n      <td>173.0</td>\n      <td>1032246.0</td>\n      <td>1.012188e+09</td>\n      <td>Upper West Side                               ...</td>\n    </tr>\n    <tr>\n      <th>7</th>\n      <td>8</td>\n      <td>Meow Parlour</td>\n      <td>Cat Cafe</td>\n      <td>46 Hester Street</td>\n      <td>New York</td>\n      <td>NY</td>\n      <td>10002</td>\n      <td>(212) 387-9169</td>\n      <td>Other</td>\n      <td>http://www.meowparlour.com</td>\n      <td>MANHATTAN</td>\n      <td>40.715680</td>\n      <td>-73.990203</td>\n      <td>3.0</td>\n      <td>1.0</td>\n      <td>16.0</td>\n      <td>1003810.0</td>\n      <td>1.002970e+09</td>\n      <td>Chinatown                                     ...</td>\n    </tr>\n    <tr>\n      <th>8</th>\n      <td>9</td>\n      <td>Macaron Parlour - Hester</td>\n      <td>Bakery</td>\n      <td>44 Hester Street</td>\n      <td>New York</td>\n      <td>NY</td>\n      <td>10002</td>\n      <td>(212) 387-9169</td>\n      <td>Food and Beverage</td>\n      <td>http://www.macaronparlour.com</td>\n      <td>MANHATTAN</td>\n      <td>40.715655</td>\n      <td>-73.990123</td>\n      <td>3.0</td>\n      <td>1.0</td>\n      <td>16.0</td>\n      <td>1003811.0</td>\n      <td>1.002970e+09</td>\n      <td>Chinatown                                     ...</td>\n    </tr>\n    <tr>\n      <th>9</th>\n      <td>10</td>\n      <td>Mystery Room NYC</td>\n      <td>Escape Room</td>\n      <td>190 Mercer Street</td>\n      <td>New York</td>\n      <td>NY</td>\n      <td>10012</td>\n      <td>(302) 401-1373</td>\n      <td>Service</td>\n      <td>http://www.mysteryroomnyc.com</td>\n      <td>MANHATTAN</td>\n      <td>40.726300</td>\n      <td>-73.997175</td>\n      <td>2.0</td>\n      <td>1.0</td>\n      <td>5501.0</td>\n      <td>1008239.0</td>\n      <td>1.005230e+09</td>\n      <td>West Village                                  ...</td>\n    </tr>\n  </tbody>\n</table>\n</div>"
     },
     "metadata": {},
     "execution_count": 6
    }
   ],
   "source": [
    "df.head(10)"
   ]
  },
  {
   "cell_type": "code",
   "execution_count": 9,
   "metadata": {},
   "outputs": [],
   "source": [
    "fake = Faker()"
   ]
  },
  {
   "cell_type": "code",
   "execution_count": 10,
   "metadata": {},
   "outputs": [
    {
     "output_type": "error",
     "ename": "AttributeError",
     "evalue": "'Random' object has no attribute 'number'",
     "traceback": [
      "\u001b[1;31m---------------------------------------------------------------------------\u001b[0m",
      "\u001b[1;31mAttributeError\u001b[0m                            Traceback (most recent call last)",
      "\u001b[1;32m<ipython-input-10-504c4b77aefc>\u001b[0m in \u001b[0;36m<module>\u001b[1;34m\u001b[0m\n\u001b[0;32m      1\u001b[0m \u001b[0mprice_tag\u001b[0m \u001b[1;33m=\u001b[0m \u001b[1;36m0\u001b[0m\u001b[1;33m\u001b[0m\u001b[1;33m\u001b[0m\u001b[0m\n\u001b[0;32m      2\u001b[0m \u001b[1;32mfor\u001b[0m \u001b[0m_\u001b[0m \u001b[1;32min\u001b[0m \u001b[0mrange\u001b[0m\u001b[1;33m(\u001b[0m\u001b[1;36m1877\u001b[0m\u001b[1;33m)\u001b[0m\u001b[1;33m:\u001b[0m\u001b[1;33m\u001b[0m\u001b[1;33m\u001b[0m\u001b[0m\n\u001b[1;32m----> 3\u001b[1;33m     \u001b[0mdf\u001b[0m\u001b[1;33m[\u001b[0m\u001b[1;34m\"Price Tag\"\u001b[0m\u001b[1;33m]\u001b[0m \u001b[1;33m=\u001b[0m \u001b[0mfake\u001b[0m\u001b[1;33m.\u001b[0m\u001b[0mrandom\u001b[0m\u001b[1;33m.\u001b[0m\u001b[0mnumber\u001b[0m\u001b[1;33m(\u001b[0m\u001b[1;36m0\u001b[0m\u001b[1;33m,\u001b[0m\u001b[1;36m5\u001b[0m\u001b[1;33m)\u001b[0m\u001b[1;33m\u001b[0m\u001b[1;33m\u001b[0m\u001b[0m\n\u001b[0m",
      "\u001b[1;31mAttributeError\u001b[0m: 'Random' object has no attribute 'number'"
     ]
    }
   ],
   "source": [
    "price_tag = 0\n",
    "for _ in range(1877):\n",
    "    df[\"Price Tag\"] = fake.random.number(0,5)\n"
   ]
  },
  {
   "cell_type": "code",
   "execution_count": null,
   "metadata": {},
   "outputs": [],
   "source": []
  }
 ]
}
{
  "nbformat": 4,
  "nbformat_minor": 0,
  "metadata": {
    "colab": {
      "name": "BlackKofferAssignment.ipynb",
      "provenance": [],
      "collapsed_sections": [],
      "authorship_tag": "ABX9TyOO5aR9UHNZ1eidqNa/lnMY",
      "include_colab_link": true
    },
    "kernelspec": {
      "name": "python3",
      "display_name": "Python 3"
    },
    "language_info": {
      "name": "python"
    }
  },
  "cells": [
    {
      "cell_type": "markdown",
      "metadata": {
        "id": "view-in-github",
        "colab_type": "text"
      },
      "source": [
        "<a href=\"https://colab.research.google.com/github/shrish83/Python-Basics/blob/master/BlackKofferAssignment.ipynb\" target=\"_parent\"><img src=\"https://colab.research.google.com/assets/colab-badge.svg\" alt=\"Open In Colab\"/></a>"
      ]
    },
    {
      "cell_type": "markdown",
      "metadata": {
        "id": "VnZoaWegYhe5"
      },
      "source": [
        "# Data Extraction an Text Analysis "
      ]
    },
    {
      "cell_type": "code",
      "metadata": {
        "id": "2dCvUk-LYeac"
      },
      "source": [
        "import pandas as pd\n",
        "import numpy as np\n"
      ],
      "execution_count": null,
      "outputs": []
    },
    {
      "cell_type": "code",
      "metadata": {
        "colab": {
          "base_uri": "https://localhost:8080/"
        },
        "id": "9uzZ-fvIZx2N",
        "outputId": "4adf3fd7-0257-44e3-da83-767ea1a35f4c"
      },
      "source": [
        "res = pd.read_excel('/content/cik_list.xlsx')\n",
        "result = res.copy()\n",
        "res.info()"
      ],
      "execution_count": null,
      "outputs": [
        {
          "output_type": "stream",
          "text": [
            "<class 'pandas.core.frame.DataFrame'>\n",
            "RangeIndex: 152 entries, 0 to 151\n",
            "Data columns (total 6 columns):\n",
            " #   Column    Non-Null Count  Dtype         \n",
            "---  ------    --------------  -----         \n",
            " 0   CIK       152 non-null    int64         \n",
            " 1   CONAME    152 non-null    object        \n",
            " 2   FYRMO     152 non-null    int64         \n",
            " 3   FDATE     152 non-null    datetime64[ns]\n",
            " 4   FORM      152 non-null    object        \n",
            " 5   SECFNAME  152 non-null    object        \n",
            "dtypes: datetime64[ns](1), int64(2), object(3)\n",
            "memory usage: 7.2+ KB\n"
          ],
          "name": "stdout"
        }
      ]
    },
    {
      "cell_type": "code",
      "metadata": {
        "colab": {
          "base_uri": "https://localhost:8080/",
          "height": 204
        },
        "id": "-Qsg8WCCZ7bP",
        "outputId": "ca2065ac-89ee-4942-d2e8-ecf3cb46d4f7"
      },
      "source": [
        "res.head()"
      ],
      "execution_count": null,
      "outputs": [
        {
          "output_type": "execute_result",
          "data": {
            "text/html": [
              "<div>\n",
              "<style scoped>\n",
              "    .dataframe tbody tr th:only-of-type {\n",
              "        vertical-align: middle;\n",
              "    }\n",
              "\n",
              "    .dataframe tbody tr th {\n",
              "        vertical-align: top;\n",
              "    }\n",
              "\n",
              "    .dataframe thead th {\n",
              "        text-align: right;\n",
              "    }\n",
              "</style>\n",
              "<table border=\"1\" class=\"dataframe\">\n",
              "  <thead>\n",
              "    <tr style=\"text-align: right;\">\n",
              "      <th></th>\n",
              "      <th>CIK</th>\n",
              "      <th>CONAME</th>\n",
              "      <th>FYRMO</th>\n",
              "      <th>FDATE</th>\n",
              "      <th>FORM</th>\n",
              "      <th>SECFNAME</th>\n",
              "    </tr>\n",
              "  </thead>\n",
              "  <tbody>\n",
              "    <tr>\n",
              "      <th>0</th>\n",
              "      <td>3662</td>\n",
              "      <td>SUNBEAM CORP/FL/</td>\n",
              "      <td>199803</td>\n",
              "      <td>1998-03-06</td>\n",
              "      <td>10-K405</td>\n",
              "      <td>edgar/data/3662/0000950170-98-000413.txt</td>\n",
              "    </tr>\n",
              "    <tr>\n",
              "      <th>1</th>\n",
              "      <td>3662</td>\n",
              "      <td>SUNBEAM CORP/FL/</td>\n",
              "      <td>199805</td>\n",
              "      <td>1998-05-15</td>\n",
              "      <td>10-Q</td>\n",
              "      <td>edgar/data/3662/0000950170-98-001001.txt</td>\n",
              "    </tr>\n",
              "    <tr>\n",
              "      <th>2</th>\n",
              "      <td>3662</td>\n",
              "      <td>SUNBEAM CORP/FL/</td>\n",
              "      <td>199808</td>\n",
              "      <td>1998-08-13</td>\n",
              "      <td>NT 10-Q</td>\n",
              "      <td>edgar/data/3662/0000950172-98-000783.txt</td>\n",
              "    </tr>\n",
              "    <tr>\n",
              "      <th>3</th>\n",
              "      <td>3662</td>\n",
              "      <td>SUNBEAM CORP/FL/</td>\n",
              "      <td>199811</td>\n",
              "      <td>1998-11-12</td>\n",
              "      <td>10-K/A</td>\n",
              "      <td>edgar/data/3662/0000950170-98-002145.txt</td>\n",
              "    </tr>\n",
              "    <tr>\n",
              "      <th>4</th>\n",
              "      <td>3662</td>\n",
              "      <td>SUNBEAM CORP/FL/</td>\n",
              "      <td>199811</td>\n",
              "      <td>1998-11-16</td>\n",
              "      <td>NT 10-Q</td>\n",
              "      <td>edgar/data/3662/0000950172-98-001203.txt</td>\n",
              "    </tr>\n",
              "  </tbody>\n",
              "</table>\n",
              "</div>"
            ],
            "text/plain": [
              "    CIK            CONAME  ...     FORM                                  SECFNAME\n",
              "0  3662  SUNBEAM CORP/FL/  ...  10-K405  edgar/data/3662/0000950170-98-000413.txt\n",
              "1  3662  SUNBEAM CORP/FL/  ...     10-Q  edgar/data/3662/0000950170-98-001001.txt\n",
              "2  3662  SUNBEAM CORP/FL/  ...  NT 10-Q  edgar/data/3662/0000950172-98-000783.txt\n",
              "3  3662  SUNBEAM CORP/FL/  ...   10-K/A  edgar/data/3662/0000950170-98-002145.txt\n",
              "4  3662  SUNBEAM CORP/FL/  ...  NT 10-Q  edgar/data/3662/0000950172-98-001203.txt\n",
              "\n",
              "[5 rows x 6 columns]"
            ]
          },
          "metadata": {
            "tags": []
          },
          "execution_count": 24
        }
      ]
    },
    {
      "cell_type": "code",
      "metadata": {
        "colab": {
          "base_uri": "https://localhost:8080/"
        },
        "id": "NjcrqlTbV9Xd",
        "outputId": "826c7f5b-c991-4543-eb16-bc4673f39262"
      },
      "source": [
        "res.shape"
      ],
      "execution_count": null,
      "outputs": [
        {
          "output_type": "execute_result",
          "data": {
            "text/plain": [
              "(152, 6)"
            ]
          },
          "metadata": {
            "tags": []
          },
          "execution_count": 25
        }
      ]
    },
    {
      "cell_type": "code",
      "metadata": {
        "id": "uv0r1hqkaGtX"
      },
      "source": [
        "from bs4 import BeautifulSoup as bs\n",
        "import urllib\n",
        "from urllib.request import Request, urlopen\n",
        "pre = 'https://www.sec.gov/Archives/'"
      ],
      "execution_count": null,
      "outputs": []
    },
    {
      "cell_type": "markdown",
      "metadata": {
        "id": "57Q1So-e-mXf"
      },
      "source": [
        "## Extracting Derived variables"
      ]
    },
    {
      "cell_type": "code",
      "metadata": {
        "colab": {
          "base_uri": "https://localhost:8080/"
        },
        "id": "YQuRvnJb-xsr",
        "outputId": "21c9747b-0ff7-41f4-8ccf-e70999547635"
      },
      "source": [
        "!pip install --upgrade pip setuptools wheel\n",
        "!pip install nltk"
      ],
      "execution_count": null,
      "outputs": [
        {
          "output_type": "stream",
          "text": [
            "Requirement already satisfied: pip in /usr/local/lib/python3.7/dist-packages (21.1.2)\n",
            "Requirement already satisfied: setuptools in /usr/local/lib/python3.7/dist-packages (57.0.0)\n",
            "Requirement already satisfied: wheel in /usr/local/lib/python3.7/dist-packages (0.36.2)\n",
            "\u001b[33mWARNING: Running pip as root will break packages and permissions. You should install packages reliably by using venv: https://pip.pypa.io/warnings/venv\u001b[0m\n",
            "Requirement already satisfied: nltk in /usr/local/lib/python3.7/dist-packages (3.2.5)\n",
            "Requirement already satisfied: six in /usr/local/lib/python3.7/dist-packages (from nltk) (1.15.0)\n",
            "\u001b[33mWARNING: Running pip as root will break packages and permissions. You should install packages reliably by using venv: https://pip.pypa.io/warnings/venv\u001b[0m\n"
          ],
          "name": "stdout"
        }
      ]
    },
    {
      "cell_type": "code",
      "metadata": {
        "colab": {
          "base_uri": "https://localhost:8080/"
        },
        "id": "dhkqO2TwBNGo",
        "outputId": "ef633e49-12c2-4317-dc67-23cf104d656f"
      },
      "source": [
        "import nltk\n",
        "nltk.download('punkt')\n",
        "from nltk.tokenize import word_tokenize, sent_tokenize\n",
        "import statistics"
      ],
      "execution_count": null,
      "outputs": [
        {
          "output_type": "stream",
          "text": [
            "[nltk_data] Downloading package punkt to /root/nltk_data...\n",
            "[nltk_data]   Package punkt is already up-to-date!\n"
          ],
          "name": "stdout"
        }
      ]
    },
    {
      "cell_type": "code",
      "metadata": {
        "id": "cSDsyEBO_uNV"
      },
      "source": [
        "#import cookielib\n",
        "contraining_words_whole_report = []\n",
        "\n",
        "#Creating positive and negative dictionaries\n",
        "master = pd.read_excel('/content/LoughranMcDonald_MasterDictionary_2018.xlsx')\n",
        "pos = master['Word'].loc[master.Positive != 0]\n",
        "neg = master['Word'].loc[master.Negative != 0]\n",
        "\n",
        "#Number of StopWords\n",
        "stopwords = open('/content/StopWords_GenericLong.txt','r+')\n",
        "stopwords = list(bs(stopwords.read()))\n",
        "\n",
        "#Uncertain and ConstrainDictionaries\n",
        "uncertain = pd.read_excel('/content/uncertainty_dictionary.xlsx')\n",
        "constrain = pd.read_excel('/content/constraining_dictionary.xlsx')\n",
        "uncertain = list(uncertain['Word'])\n",
        "constrain = list(constrain['Word'])\n",
        "\n",
        "src = list(res['SECFNAME'])\n",
        "\n",
        "def eval(df):\n",
        "  #Get text\n",
        "  url = pre+df['SECFNAME']\n",
        "  hdr = {'User-Agent': 'Mozilla/5.0','Accept': 'text/html,application/xhtml+xml,application/xml;q=0.9,*/*;q=0.8'}\n",
        "  req = Request(url,headers=hdr)\n",
        "  try:\n",
        "    global html\n",
        "    html = urlopen(url).read()\n",
        "  except urllib.error.HTTPError as e:\n",
        "    print(e.reason)\n",
        "  soup = bs(html)\n",
        "  soup = soup.get_text()\n",
        "\n",
        "    #Tokenize words and sentences\n",
        "  word_token = word_tokenize(soup)\n",
        "  sen_token = sent_tokenize(soup)\n",
        "\n",
        "    #Cleaning using Stopwords\n",
        "  cleanedData = [word for word in word_token if word not in stopwords]\n",
        "\n",
        "    #Extracting derived variables\n",
        "  pos_count = 0                       #postive score\n",
        "  for word in pos:\n",
        "    for w in cleanedData:\n",
        "      if word == w:\n",
        "        pos_count = pos_count +1\n",
        "\n",
        "  neg_count = 0               #negative score\n",
        "  for word in neg:\n",
        "    for w in cleanedData:\n",
        "      if word == w:\n",
        "        neg_count = neg_count +1\n",
        "    \n",
        "    #polarity\n",
        "  polarity = (pos_count-neg_count)/((pos_count+neg_count)+0.000001)\n",
        "\n",
        "    #subjectivity\n",
        "  subjective = (pos_count+neg_count)/(len(word_token)+0.000001)\n",
        "\n",
        "    ###Analysis of Readability\n",
        "  length_list = [len(word) for word in word_token]\n",
        "  avg_sent_len = float(format(statistics.mean(length_list), '.2f'))\n",
        "    \n",
        "    #complex_word\n",
        "  syllable_count = 0 \n",
        "  complex_word = []\n",
        "  for word in word_token:\n",
        "    for w in word:\n",
        "      if (w=='a' or w=='e' or w=='i' or w=='o' or w=='u' or w=='A' or w=='E' or w=='I' or w=='O' or w=='U'):\n",
        "        syllable_count=syllable_count+1\n",
        "      if syllable_count > 2:\n",
        "        complex_word.append(word)\n",
        "\n",
        "  complex_word = list(set(complex_word))\n",
        "  per_complex_word = len(complex_word)/len(word_token)\n",
        "\n",
        "    #Fog Index\n",
        "  fog_index = 0.4 * (avg_sent_len + per_complex_word)\n",
        "\n",
        "    #Average number of words per sentence\n",
        "  avg_num_words = len(word_token)/len(sen_token)\n",
        "\n",
        "    #Constraining and Uncertainity Scores\n",
        "  uncertain_score = len([word for word in word_token if word in uncertain])\n",
        "  constrain_score = len([word for word in word_token if word in constrain])\n",
        "\n",
        "    #positive word proportion\n",
        "  pos_ratio = pos_count/len(word_token)\n",
        "\n",
        "    #negative word proportion\n",
        "  neg_ratio = neg_count/len(word_token)\n",
        "\n",
        "    #constrain word proportion\n",
        "  constrain_ratio = constrain_score/len(word_token)\n",
        "\n",
        "    #uncertain word proportion\n",
        "  uncertain_ratio = uncertain_score/len(word_token)\n",
        "    \n",
        "    #Constraining word for the whole report\n",
        "  contraining_words_whole_report.append(constrain_score)\n",
        "\n",
        "    #print(source,neg_ratio, constrain_score, polarity, fog_index)\n",
        "  df['positive_score'] = pos_count\n",
        "  df['negative_score'] = neg_count\n",
        "  df['polarity_score'] = polarity\n",
        "  df['average_sentence_length'] = avg_sent_len\n",
        "  df['percentage_of_complex_words'] = per_complex_word\n",
        "  df['fog_index'] = fog_index\n",
        "  df['complex_word_count'] = len(complex_word)\n",
        "  df['word_count'] = len(word_token)\n",
        "  df['uncertainty_score'] = uncertain_score\n",
        "  df['constraining_score'] = constrain_score\n",
        "  df['positive_word_proportion'] = pos_ratio\n",
        "  df['negative_word_proportion'] = neg_ratio\n",
        "  df['uncertainty_word_proportion'] = uncertain_ratio\n",
        "  df['constraining_word_proportion'] = constrain_ratio\n",
        "  \n",
        "  return df\n",
        "  "
      ],
      "execution_count": null,
      "outputs": []
    },
    {
      "cell_type": "code",
      "metadata": {
        "colab": {
          "base_uri": "https://localhost:8080/"
        },
        "id": "TZQGCBjbcUDf",
        "outputId": "67930c15-d418-401e-ed82-dd764e885f0c"
      },
      "source": [
        "new = result.apply(eval,axis=1)"
      ],
      "execution_count": null,
      "outputs": [
        {
          "output_type": "stream",
          "text": [
            "Forbidden\n",
            "Forbidden\n",
            "Forbidden\n",
            "Forbidden\n",
            "Forbidden\n",
            "Forbidden\n",
            "Forbidden\n",
            "Forbidden\n",
            "Forbidden\n",
            "Forbidden\n",
            "Forbidden\n",
            "Forbidden\n",
            "Forbidden\n",
            "Forbidden\n",
            "Forbidden\n",
            "Forbidden\n",
            "Forbidden\n",
            "Forbidden\n",
            "Forbidden\n",
            "Forbidden\n",
            "Forbidden\n",
            "Forbidden\n",
            "Forbidden\n",
            "Forbidden\n",
            "Forbidden\n",
            "Forbidden\n",
            "Forbidden\n",
            "Forbidden\n",
            "Forbidden\n",
            "Forbidden\n",
            "Forbidden\n",
            "Forbidden\n",
            "Forbidden\n",
            "Forbidden\n",
            "Forbidden\n",
            "Forbidden\n",
            "Forbidden\n"
          ],
          "name": "stdout"
        }
      ]
    },
    {
      "cell_type": "code",
      "metadata": {
        "id": "hVQfTxjx6RkR",
        "colab": {
          "base_uri": "https://localhost:8080/",
          "height": 309
        },
        "outputId": "446ad60e-6d34-422e-a273-2d0b64bf1cc9"
      },
      "source": [
        "#new['contraining_words_whole_report'] = contraining_words_whole_report\n",
        "new.head()"
      ],
      "execution_count": null,
      "outputs": [
        {
          "output_type": "execute_result",
          "data": {
            "text/html": [
              "<div>\n",
              "<style scoped>\n",
              "    .dataframe tbody tr th:only-of-type {\n",
              "        vertical-align: middle;\n",
              "    }\n",
              "\n",
              "    .dataframe tbody tr th {\n",
              "        vertical-align: top;\n",
              "    }\n",
              "\n",
              "    .dataframe thead th {\n",
              "        text-align: right;\n",
              "    }\n",
              "</style>\n",
              "<table border=\"1\" class=\"dataframe\">\n",
              "  <thead>\n",
              "    <tr style=\"text-align: right;\">\n",
              "      <th></th>\n",
              "      <th>CIK</th>\n",
              "      <th>CONAME</th>\n",
              "      <th>FYRMO</th>\n",
              "      <th>FDATE</th>\n",
              "      <th>FORM</th>\n",
              "      <th>SECFNAME</th>\n",
              "      <th>positive_score</th>\n",
              "      <th>negative_score</th>\n",
              "      <th>polarity_score</th>\n",
              "      <th>average_sentence_length</th>\n",
              "      <th>percentage_of_complex_words</th>\n",
              "      <th>fog_index</th>\n",
              "      <th>complex_word_count</th>\n",
              "      <th>word_count</th>\n",
              "      <th>uncertainty_score</th>\n",
              "      <th>constraining_score</th>\n",
              "      <th>positive_word_proportion</th>\n",
              "      <th>negative_word_proportion</th>\n",
              "      <th>uncertainty_word_proportion</th>\n",
              "      <th>constraining_word_proportion</th>\n",
              "    </tr>\n",
              "  </thead>\n",
              "  <tbody>\n",
              "    <tr>\n",
              "      <th>0</th>\n",
              "      <td>3662</td>\n",
              "      <td>SUNBEAM CORP/FL/</td>\n",
              "      <td>199803</td>\n",
              "      <td>1998-03-06</td>\n",
              "      <td>10-K405</td>\n",
              "      <td>edgar/data/3662/0000950170-98-000413.txt</td>\n",
              "      <td>40</td>\n",
              "      <td>176</td>\n",
              "      <td>-0.629630</td>\n",
              "      <td>4.46</td>\n",
              "      <td>0.039963</td>\n",
              "      <td>1.799985</td>\n",
              "      <td>8381</td>\n",
              "      <td>209718</td>\n",
              "      <td>13</td>\n",
              "      <td>78</td>\n",
              "      <td>0.000191</td>\n",
              "      <td>0.000839</td>\n",
              "      <td>0.000062</td>\n",
              "      <td>0.000372</td>\n",
              "    </tr>\n",
              "    <tr>\n",
              "      <th>1</th>\n",
              "      <td>3662</td>\n",
              "      <td>SUNBEAM CORP/FL/</td>\n",
              "      <td>199805</td>\n",
              "      <td>1998-05-15</td>\n",
              "      <td>10-Q</td>\n",
              "      <td>edgar/data/3662/0000950170-98-001001.txt</td>\n",
              "      <td>26</td>\n",
              "      <td>70</td>\n",
              "      <td>-0.458333</td>\n",
              "      <td>4.47</td>\n",
              "      <td>0.047442</td>\n",
              "      <td>1.806977</td>\n",
              "      <td>6353</td>\n",
              "      <td>133910</td>\n",
              "      <td>16</td>\n",
              "      <td>85</td>\n",
              "      <td>0.000194</td>\n",
              "      <td>0.000523</td>\n",
              "      <td>0.000119</td>\n",
              "      <td>0.000635</td>\n",
              "    </tr>\n",
              "    <tr>\n",
              "      <th>2</th>\n",
              "      <td>3662</td>\n",
              "      <td>SUNBEAM CORP/FL/</td>\n",
              "      <td>199808</td>\n",
              "      <td>1998-08-13</td>\n",
              "      <td>NT 10-Q</td>\n",
              "      <td>edgar/data/3662/0000950172-98-000783.txt</td>\n",
              "      <td>26</td>\n",
              "      <td>70</td>\n",
              "      <td>-0.458333</td>\n",
              "      <td>4.47</td>\n",
              "      <td>0.047442</td>\n",
              "      <td>1.806977</td>\n",
              "      <td>6353</td>\n",
              "      <td>133910</td>\n",
              "      <td>16</td>\n",
              "      <td>85</td>\n",
              "      <td>0.000194</td>\n",
              "      <td>0.000523</td>\n",
              "      <td>0.000119</td>\n",
              "      <td>0.000635</td>\n",
              "    </tr>\n",
              "    <tr>\n",
              "      <th>3</th>\n",
              "      <td>3662</td>\n",
              "      <td>SUNBEAM CORP/FL/</td>\n",
              "      <td>199811</td>\n",
              "      <td>1998-11-12</td>\n",
              "      <td>10-K/A</td>\n",
              "      <td>edgar/data/3662/0000950170-98-002145.txt</td>\n",
              "      <td>17</td>\n",
              "      <td>99</td>\n",
              "      <td>-0.706897</td>\n",
              "      <td>4.46</td>\n",
              "      <td>0.068781</td>\n",
              "      <td>1.811512</td>\n",
              "      <td>7290</td>\n",
              "      <td>105989</td>\n",
              "      <td>13</td>\n",
              "      <td>43</td>\n",
              "      <td>0.000160</td>\n",
              "      <td>0.000934</td>\n",
              "      <td>0.000123</td>\n",
              "      <td>0.000406</td>\n",
              "    </tr>\n",
              "    <tr>\n",
              "      <th>4</th>\n",
              "      <td>3662</td>\n",
              "      <td>SUNBEAM CORP/FL/</td>\n",
              "      <td>199811</td>\n",
              "      <td>1998-11-16</td>\n",
              "      <td>NT 10-Q</td>\n",
              "      <td>edgar/data/3662/0000950172-98-001203.txt</td>\n",
              "      <td>0</td>\n",
              "      <td>1</td>\n",
              "      <td>-0.999999</td>\n",
              "      <td>4.37</td>\n",
              "      <td>0.328244</td>\n",
              "      <td>1.879298</td>\n",
              "      <td>473</td>\n",
              "      <td>1441</td>\n",
              "      <td>0</td>\n",
              "      <td>0</td>\n",
              "      <td>0.000000</td>\n",
              "      <td>0.000694</td>\n",
              "      <td>0.000000</td>\n",
              "      <td>0.000000</td>\n",
              "    </tr>\n",
              "  </tbody>\n",
              "</table>\n",
              "</div>"
            ],
            "text/plain": [
              "    CIK  ... constraining_word_proportion\n",
              "0  3662  ...                     0.000372\n",
              "1  3662  ...                     0.000635\n",
              "2  3662  ...                     0.000635\n",
              "3  3662  ...                     0.000406\n",
              "4  3662  ...                     0.000000\n",
              "\n",
              "[5 rows x 20 columns]"
            ]
          },
          "metadata": {
            "tags": []
          },
          "execution_count": 35
        }
      ]
    },
    {
      "cell_type": "code",
      "metadata": {
        "colab": {
          "base_uri": "https://localhost:8080/"
        },
        "id": "kjFPF3C1DUcf",
        "outputId": "4471ca66-1e7d-4650-fc17-21dabe273f66"
      },
      "source": [
        "new.shape"
      ],
      "execution_count": null,
      "outputs": [
        {
          "output_type": "execute_result",
          "data": {
            "text/plain": [
              "(152, 20)"
            ]
          },
          "metadata": {
            "tags": []
          },
          "execution_count": 36
        }
      ]
    },
    {
      "cell_type": "code",
      "metadata": {
        "id": "KiHhuYWmxjqO"
      },
      "source": [
        "new.to_excel('output.xlsx')"
      ],
      "execution_count": null,
      "outputs": []
    },
    {
      "cell_type": "code",
      "metadata": {
        "id": "Zcl5yob2Dank"
      },
      "source": [
        ""
      ],
      "execution_count": null,
      "outputs": []
    }
  ]
}
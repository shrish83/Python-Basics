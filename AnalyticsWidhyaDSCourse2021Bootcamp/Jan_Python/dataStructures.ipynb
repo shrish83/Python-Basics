{
 "metadata": {
  "language_info": {
   "codemirror_mode": {
    "name": "ipython",
    "version": 3
   },
   "file_extension": ".py",
   "mimetype": "text/x-python",
   "name": "python",
   "nbconvert_exporter": "python",
   "pygments_lexer": "ipython3",
   "version": "3.8.3"
  },
  "orig_nbformat": 2,
  "kernelspec": {
   "name": "python38364bit850a066139d0462d8015500887b614ea",
   "display_name": "Python 3.8.3 64-bit"
  },
  "metadata": {
   "interpreter": {
    "hash": "f03be3766e3c437524d2d17bf3553c4cd1a66ace052a6ec45adfa86fbf075197"
   }
  }
 },
 "nbformat": 4,
 "nbformat_minor": 2,
 "cells": [
  {
   "source": [
    "Lists: stores mix type of data in sequential format \n",
    "separated by commas and  enclosed in square vbrackets.; are mutable,changeable,orderwed/sequential."
   ],
   "cell_type": "markdown",
   "metadata": {}
  },
  {
   "cell_type": "code",
   "execution_count": 1,
   "metadata": {},
   "outputs": [
    {
     "output_type": "execute_result",
     "data": {
      "text/plain": [
       "2"
      ]
     },
     "metadata": {},
     "execution_count": 1
    }
   ],
   "source": [
    "l = [1,'Python',2,True]\n",
    "l[2]"
   ]
  },
  {
   "cell_type": "code",
   "execution_count": 2,
   "metadata": {},
   "outputs": [
    {
     "output_type": "execute_result",
     "data": {
      "text/plain": [
       "['Python', 2, True]"
      ]
     },
     "metadata": {},
     "execution_count": 2
    }
   ],
   "source": [
    "l[1:4]"
   ]
  },
  {
   "cell_type": "code",
   "execution_count": 3,
   "metadata": {},
   "outputs": [
    {
     "output_type": "execute_result",
     "data": {
      "text/plain": [
       "True"
      ]
     },
     "metadata": {},
     "execution_count": 3
    }
   ],
   "source": [
    "l[-1]"
   ]
  },
  {
   "cell_type": "code",
   "execution_count": 4,
   "metadata": {},
   "outputs": [
    {
     "output_type": "execute_result",
     "data": {
      "text/plain": [
       "[1, 'Python', 2, True, '456']"
      ]
     },
     "metadata": {},
     "execution_count": 4
    }
   ],
   "source": [
    "#add single element\n",
    "l.append('456')\n",
    "l"
   ]
  },
  {
   "cell_type": "code",
   "execution_count": 5,
   "metadata": {},
   "outputs": [
    {
     "output_type": "execute_result",
     "data": {
      "text/plain": [
       "[1, 'Python', 2, True, '456', [9, 34, False]]"
      ]
     },
     "metadata": {},
     "execution_count": 5
    }
   ],
   "source": [
    "#add multiple elements\n",
    "l.append([9,34,False])\n",
    "l"
   ]
  },
  {
   "cell_type": "code",
   "execution_count": 8,
   "metadata": {},
   "outputs": [
    {
     "output_type": "execute_result",
     "data": {
      "text/plain": [
       "[1, 'Python', 2, True, '456', [9, 34, False], 67, 67, 98]"
      ]
     },
     "metadata": {},
     "execution_count": 8
    }
   ],
   "source": [
    "#extend a list\n",
    "l.extend([67,98])\n",
    "l"
   ]
  },
  {
   "cell_type": "code",
   "execution_count": 11,
   "metadata": {},
   "outputs": [
    {
     "output_type": "execute_result",
     "data": {
      "text/plain": [
       "['Python', 2, True, '456', [9, 34, False], 67, 98]"
      ]
     },
     "metadata": {},
     "execution_count": 11
    }
   ],
   "source": [
    "#delete element 67\n",
    "l.remove(67)\n",
    "l"
   ]
  },
  {
   "cell_type": "code",
   "execution_count": 12,
   "metadata": {},
   "outputs": [],
   "source": [
    "#delete element at index 6\n",
    "del l[6]"
   ]
  },
  {
   "cell_type": "code",
   "execution_count": 13,
   "metadata": {},
   "outputs": [
    {
     "output_type": "execute_result",
     "data": {
      "text/plain": [
       "['Python', 2, True, '456', [9, 34, False], 67]"
      ]
     },
     "metadata": {},
     "execution_count": 13
    }
   ],
   "source": [
    "l"
   ]
  },
  {
   "cell_type": "code",
   "execution_count": 15,
   "metadata": {},
   "outputs": [
    {
     "output_type": "stream",
     "name": "stdout",
     "text": [
      "Python\n2\nTrue\n456\n[9, 34, False]\n67\n"
     ]
    }
   ],
   "source": [
    "#looping\n",
    "for i in l:\n",
    "    print(i)"
   ]
  },
  {
   "source": [
    "Disctionaries: Stores mix type of data in unordered format; key value pairs in curly braces"
   ],
   "cell_type": "markdown",
   "metadata": {}
  },
  {
   "cell_type": "code",
   "execution_count": 16,
   "metadata": {},
   "outputs": [
    {
     "output_type": "execute_result",
     "data": {
      "text/plain": [
       "150"
      ]
     },
     "metadata": {},
     "execution_count": 16
    }
   ],
   "source": [
    "d = {'Ramesh': 150,'Sureah':83,'Danish': 137}  #key:value\n",
    "d['Ramesh'] "
   ]
  },
  {
   "cell_type": "code",
   "execution_count": 17,
   "metadata": {},
   "outputs": [
    {
     "output_type": "execute_result",
     "data": {
      "text/plain": [
       "{'Ramesh': 150, 'Sureah': 83, 'Danish': 137, 'Shalini': 738}"
      ]
     },
     "metadata": {},
     "execution_count": 17
    }
   ],
   "source": [
    "#add single\n",
    "d['Shalini'] = 738\n",
    "d"
   ]
  },
  {
   "cell_type": "code",
   "execution_count": 18,
   "metadata": {},
   "outputs": [
    {
     "output_type": "execute_result",
     "data": {
      "text/plain": [
       "{'Ramesh': 150,\n",
       " 'Sureah': 83,\n",
       " 'Danish': 137,\n",
       " 'Shalini': 738,\n",
       " 'Dincy': 233,\n",
       " 'Paridhi': 147}"
      ]
     },
     "metadata": {},
     "execution_count": 18
    }
   ],
   "source": [
    "#add multiple\n",
    "d.update({'Dincy':233,'Paridhi':147})\n",
    "d"
   ]
  },
  {
   "cell_type": "code",
   "execution_count": 21,
   "metadata": {},
   "outputs": [
    {
     "output_type": "execute_result",
     "data": {
      "text/plain": [
       "{'Ramesh': 150, 'Danish': 137, 'Shalini': 738, 'Dincy': 233, 'Paridhi': 147}"
      ]
     },
     "metadata": {},
     "execution_count": 21
    }
   ],
   "source": [
    "#delete\n",
    "del d['Sureah']\n",
    "d"
   ]
  },
  {
   "source": [
    "NESTED DICTIONARIES"
   ],
   "cell_type": "markdown",
   "metadata": {}
  },
  {
   "cell_type": "code",
   "execution_count": 7,
   "metadata": {},
   "outputs": [
    {
     "output_type": "execute_result",
     "data": {
      "text/plain": [
       "{'car1': {'Mercedes': 1960},\n",
       " 'car2': {'Audi': 1970},\n",
       " 'car3': {'Ambassador': 1980}}"
      ]
     },
     "metadata": {},
     "execution_count": 7
    }
   ],
   "source": [
    "mod1 = {'Mercedes':1960}\n",
    "mod2 = {'Audi':1970}\n",
    "mod3 = {'Ambassador':1980}\n",
    "\n",
    "models = {'car1':mod1,'car2':mod2,'car3':mod3}\n",
    "models"
   ]
  },
  {
   "source": [
    "SETS"
   ],
   "cell_type": "markdown",
   "metadata": {}
  },
  {
   "source": [
    "unordered collection, iterable,mutable and has no duplicat elements...based on a data sructure as a hash table"
   ],
   "cell_type": "markdown",
   "metadata": {}
  },
  {
   "cell_type": "code",
   "execution_count": 2,
   "metadata": {},
   "outputs": [
    {
     "output_type": "stream",
     "name": "stdout",
     "text": [
      "set()\n<class 'set'>\n"
     ]
    }
   ],
   "source": [
    "set_var = set()\n",
    "print(set_var)\n",
    "print(type(set_var))"
   ]
  },
  {
   "cell_type": "code",
   "execution_count": 3,
   "metadata": {},
   "outputs": [
    {
     "output_type": "execute_result",
     "data": {
      "text/plain": [
       "{'abs', 'max', 'min'}"
      ]
     },
     "metadata": {},
     "execution_count": 3
    }
   ],
   "source": [
    " set_var = {\"abs\",\"max\",\"min\"}\n",
    " set_var"
   ]
  },
  {
   "cell_type": "code",
   "execution_count": 4,
   "metadata": {},
   "outputs": [
    {
     "output_type": "execute_result",
     "data": {
      "text/plain": [
       "{'abs', 'max', 'min'}"
      ]
     },
     "metadata": {},
     "execution_count": 4
    }
   ],
   "source": [
    " set_var = {\"abs\",\"max\",\"min\",\"min\"}\n",
    " set_var"
   ]
  },
  {
   "cell_type": "code",
   "execution_count": 6,
   "metadata": {},
   "outputs": [
    {
     "output_type": "execute_result",
     "data": {
      "text/plain": [
       "{'abs', 'max', 'min', 'mnb'}"
      ]
     },
     "metadata": {},
     "execution_count": 6
    }
   ],
   "source": [
    "set_var.add(\"mnb\")\n",
    "set_var"
   ]
  },
  {
   "source": [
    "TUPLES  ::: Non Mutable"
   ],
   "cell_type": "markdown",
   "metadata": {}
  },
  {
   "cell_type": "code",
   "execution_count": 8,
   "metadata": {},
   "outputs": [
    {
     "output_type": "stream",
     "name": "stdout",
     "text": [
      "('A', 'B', 'C')\n<class 'tuple'>\n"
     ]
    }
   ],
   "source": [
    "t = ('A','B','C')\n",
    "print(t)\n",
    "print(type(t))"
   ]
  },
  {
   "cell_type": "code",
   "execution_count": null,
   "metadata": {},
   "outputs": [],
   "source": []
  }
 ]
}
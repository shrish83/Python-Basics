{
 "metadata": {
  "language_info": {
   "codemirror_mode": {
    "name": "ipython",
    "version": 3
   },
   "file_extension": ".py",
   "mimetype": "text/x-python",
   "name": "python",
   "nbconvert_exporter": "python",
   "pygments_lexer": "ipython3",
   "version": "3.8.3-final"
  },
  "orig_nbformat": 2,
  "kernelspec": {
   "name": "python38364bit850a066139d0462d8015500887b614ea",
   "display_name": "Python 3.8.3 64-bit",
   "language": "python"
  }
 },
 "nbformat": 4,
 "nbformat_minor": 2,
 "cells": [
  {
   "cell_type": "code",
   "execution_count": 1,
   "metadata": {},
   "outputs": [],
   "source": [
    "import re"
   ]
  },
  {
   "source": [
    "1. re.match(pattern, string) : matches pattern at the beginning of the string"
   ],
   "cell_type": "markdown",
   "metadata": {}
  },
  {
   "cell_type": "code",
   "execution_count": 3,
   "metadata": {},
   "outputs": [
    {
     "output_type": "stream",
     "name": "stdout",
     "text": [
      "<re.Match object; span=(0, 2), match='AV'>\n"
     ]
    }
   ],
   "source": [
    "print(re.match(r'AV','AV Analytics Vidhya AV'))\n",
    "# here, 'r' at the starting is to denote  a python raw string\n",
    "# the output tells that the match has been found"
   ]
  },
  {
   "cell_type": "code",
   "execution_count": 4,
   "metadata": {},
   "outputs": [
    {
     "output_type": "stream",
     "name": "stdout",
     "text": [
      "AV\n"
     ]
    }
   ],
   "source": [
    "print(re.match(r'AV','AV Analytics Vidhya AV').group(0))"
   ]
  },
  {
   "cell_type": "code",
   "execution_count": 5,
   "metadata": {},
   "outputs": [
    {
     "output_type": "stream",
     "name": "stdout",
     "text": [
      "0\n"
     ]
    }
   ],
   "source": [
    "print(re.match(r'AV','AV Analytics Vidhya AV').start())  #to know the start of pattern in the string\n",
    "#print(re.match(r'AV','AV Analytics Vidhya AV').end())  #to know the end of pattern in the string"
   ]
  },
  {
   "source": [
    "2. re.search(pattern,string): search anywhere"
   ],
   "cell_type": "markdown",
   "metadata": {}
  },
  {
   "source": [
    "3. re.findall(pattern,string): search+match: return list of all occurences of a pattern in a tring"
   ],
   "cell_type": "markdown",
   "metadata": {}
  },
  {
   "source": [
    "4. re.split(pattern,string, [maxsplit=0])"
   ],
   "cell_type": "markdown",
   "metadata": {}
  },
  {
   "cell_type": "code",
   "execution_count": 6,
   "metadata": {},
   "outputs": [
    {
     "output_type": "execute_result",
     "data": {
      "text/plain": [
       "['Anal', 'tics']"
      ]
     },
     "metadata": {},
     "execution_count": 6
    }
   ],
   "source": [
    "result = re.split(r'y','Analytics')\n",
    "result"
   ]
  },
  {
   "cell_type": "code",
   "execution_count": 7,
   "metadata": {},
   "outputs": [
    {
     "output_type": "execute_result",
     "data": {
      "text/plain": [
       "[' BC', 'MIN Analytics']"
      ]
     },
     "metadata": {},
     "execution_count": 7
    }
   ],
   "source": [
    "re.split(r'A',' BCAMIN Analytics', maxsplit=1) #splits only one time"
   ]
  },
  {
   "cell_type": "code",
   "execution_count": 8,
   "metadata": {},
   "outputs": [
    {
     "output_type": "execute_result",
     "data": {
      "text/plain": [
       "[' BC', 'MIN ', 'nalytics']"
      ]
     },
     "metadata": {},
     "execution_count": 8
    }
   ],
   "source": [
    "re.split(r'A',' BCAMIN Analytics')"
   ]
  },
  {
   "source": [
    "re.sub(pattern,repl,string): replace pattern with repl in the string"
   ],
   "cell_type": "markdown",
   "metadata": {}
  },
  {
   "cell_type": "code",
   "execution_count": 9,
   "metadata": {},
   "outputs": [
    {
     "output_type": "execute_result",
     "data": {
      "text/plain": [
       "'I eat bananas!'"
      ]
     },
     "metadata": {},
     "execution_count": 9
    }
   ],
   "source": [
    "re.sub(r'like','eat','I like bananas!')"
   ]
  },
  {
   "cell_type": "code",
   "execution_count": null,
   "metadata": {},
   "outputs": [],
   "source": [
    "pattern = re.compile('AV')"
   ]
  },
  {
   "source": [
    "Regex Operators:\n",
    "*,$,^,[],{},\\d,\\w,etc\n"
   ],
   "cell_type": "markdown",
   "metadata": {}
  }
 ]
}
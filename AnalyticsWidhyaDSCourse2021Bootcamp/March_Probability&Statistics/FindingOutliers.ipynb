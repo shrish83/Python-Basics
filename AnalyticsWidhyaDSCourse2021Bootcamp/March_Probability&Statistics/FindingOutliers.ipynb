{
 "metadata": {
  "language_info": {
   "codemirror_mode": {
    "name": "ipython",
    "version": 3
   },
   "file_extension": ".py",
   "mimetype": "text/x-python",
   "name": "python",
   "nbconvert_exporter": "python",
   "pygments_lexer": "ipython3",
   "version": "3.8.3"
  },
  "orig_nbformat": 2,
  "kernelspec": {
   "name": "python38364bit850a066139d0462d8015500887b614ea",
   "display_name": "Python 3.8.3 64-bit"
  },
  "metadata": {
   "interpreter": {
    "hash": "f03be3766e3c437524d2d17bf3553c4cd1a66ace052a6ec45adfa86fbf075197"
   }
  }
 },
 "nbformat": 4,
 "nbformat_minor": 2,
 "cells": [
  {
   "cell_type": "code",
   "execution_count": 1,
   "metadata": {},
   "outputs": [],
   "source": [
    "import numpy as np\n",
    "import matplotlib.pyplot as plt\n",
    "%matplotlib inline"
   ]
  },
  {
   "source": [
    "Criteria to identify an outlier:\n",
    "\n",
    "1. IQR: Data point falls outside of 1.5 times of an interquartile range above the 3rd quartile and below the 1st quartile\n",
    "\n",
    "IQR = Q3 - Q1\n",
    "\n",
    "2. Z-score: Data point falls outside of 3 standard deviations; we can use a z-score and if the score falls outside of 2 standardd deviations\n",
    "\n",
    "Z = (X-mu)/sd"
   ],
   "cell_type": "markdown",
   "metadata": {}
  },
  {
   "source": [
    "Various ways of finding an outlier:\n",
    "\n",
    "1. Box Plots\n",
    "2. Scatter Plots\n",
    "3. z-score\n",
    "4. IQR\n"
   ],
   "cell_type": "markdown",
   "metadata": {}
  },
  {
   "cell_type": "code",
   "execution_count": 13,
   "metadata": {},
   "outputs": [],
   "source": [
    "df = [11,10,12,13,14,12,15,13,102,13,14,12,17,101,107,12,16,14,15,17,14,11,101,13,15,20,15,560,1000,2348]"
   ]
  },
  {
   "cell_type": "code",
   "execution_count": 14,
   "metadata": {},
   "outputs": [],
   "source": [
    "#z-score\n",
    "outliers = []\n",
    "def detect_outlier(data):\n",
    "    threshold = 3   #3rd standard deviation\n",
    "    mean = np.mean(data)\n",
    "    std = np.std(data)\n",
    "\n",
    "    for i in data:\n",
    "        z_score = (i-mean)/std\n",
    "        if np.abs(z_score) > threshold:\n",
    "            outliers.append(i)\n",
    "    return outliers"
   ]
  },
  {
   "cell_type": "code",
   "execution_count": 15,
   "metadata": {},
   "outputs": [
    {
     "output_type": "execute_result",
     "data": {
      "text/plain": [
       "[2348]"
      ]
     },
     "metadata": {},
     "execution_count": 15
    }
   ],
   "source": [
    "outlier_pt = detect_outlier(df)\n",
    "outlier_pt"
   ]
  },
  {
   "source": [
    "#IQR\n",
    "Steps\n",
    "\n",
    "1. Arrange in increasing order\n",
    "2. Calculate Q1 and Q3\n",
    "3. Find Q3-Q1\n",
    "4. find lower bound: Q1*1.5\n",
    "5. Find upper bound: Q3*1.5\n"
   ],
   "cell_type": "markdown",
   "metadata": {}
  },
  {
   "cell_type": "code",
   "execution_count": 16,
   "metadata": {},
   "outputs": [
    {
     "output_type": "stream",
     "name": "stdout",
     "text": [
      "13.0 19.25\n"
     ]
    }
   ],
   "source": [
    "q1,q3 = np.percentile(df,[25,75])\n",
    "print(q1,q3)"
   ]
  },
  {
   "cell_type": "code",
   "execution_count": 17,
   "metadata": {},
   "outputs": [
    {
     "output_type": "execute_result",
     "data": {
      "text/plain": [
       "6.25"
      ]
     },
     "metadata": {},
     "execution_count": 17
    }
   ],
   "source": [
    "iqr_value = q3-q1\n",
    "iqr_value"
   ]
  },
  {
   "cell_type": "code",
   "execution_count": 18,
   "metadata": {},
   "outputs": [
    {
     "output_type": "stream",
     "name": "stdout",
     "text": [
      "19.5 28.875\n"
     ]
    }
   ],
   "source": [
    "lower_bound = q1*1.5\n",
    "upper_bound = q3*1.5\n",
    "\n",
    "print(lower_bound,upper_bound)"
   ]
  },
  {
   "cell_type": "code",
   "execution_count": null,
   "metadata": {},
   "outputs": [],
   "source": []
  }
 ]
}
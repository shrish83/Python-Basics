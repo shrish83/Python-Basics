{
 "metadata": {
  "language_info": {
   "codemirror_mode": {
    "name": "ipython",
    "version": 3
   },
   "file_extension": ".py",
   "mimetype": "text/x-python",
   "name": "python",
   "nbconvert_exporter": "python",
   "pygments_lexer": "ipython3",
   "version": "3.8.3"
  },
  "orig_nbformat": 2,
  "kernelspec": {
   "name": "python38364bit850a066139d0462d8015500887b614ea",
   "display_name": "Python 3.8.3 64-bit"
  },
  "metadata": {
   "interpreter": {
    "hash": "f03be3766e3c437524d2d17bf3553c4cd1a66ace052a6ec45adfa86fbf075197"
   }
  }
 },
 "nbformat": 4,
 "nbformat_minor": 2,
 "cells": [
  {
   "source": [
    "## T test\n",
    "\n",
    "A t-test is a type of inferential statistics which is used to determine if there is a significant difference between the means of two groups which may have certain related features.\n",
    "\n",
    "#### 1. One Sampled t-test\n",
    "#### 2. Two Sampled t-test "
   ],
   "cell_type": "markdown",
   "metadata": {}
  },
  {
   "source": [
    "### One Sample t-test\n",
    "(One group)\n",
    "It will tell us whether means of the sample and population are different or not.\n",
    "\n",
    "###         t = (Mean(x) - mu)/SD(x) \n",
    "         ### where\n",
    "###         SD(x) = s/sqrt(n)\n",
    "\n",
    "where\n",
    "\n",
    "### mu = Proposed constant for the population\n",
    "### Mean(x) = Sample mean\n",
    "### n = Sample Size\n",
    "### s = Sample SD\n",
    "### SD(x) = Estimated SD error of the mean(s/sqrt(n)) "
   ],
   "cell_type": "markdown",
   "metadata": {}
  },
  {
   "cell_type": "code",
   "execution_count": 1,
   "metadata": {},
   "outputs": [],
   "source": [
    "ages = [10,20,35,50,28,40,55,18,16,55,30,25,43,18,30,28,14,24,16,17,32,35,26,27,65,18,43,23,21,20,19,70]"
   ]
  },
  {
   "cell_type": "code",
   "execution_count": 2,
   "metadata": {},
   "outputs": [
    {
     "output_type": "execute_result",
     "data": {
      "text/plain": [
       "30.34375"
      ]
     },
     "metadata": {},
     "execution_count": 2
    }
   ],
   "source": [
    "import numpy as np\n",
    "ages_mean = np.mean(ages)\n",
    "ages_mean"
   ]
  },
  {
   "cell_type": "code",
   "execution_count": 3,
   "metadata": {},
   "outputs": [
    {
     "output_type": "execute_result",
     "data": {
      "text/plain": [
       "array([25, 19, 23, 18, 24, 10, 65, 18, 24, 21])"
      ]
     },
     "metadata": {},
     "execution_count": 3
    }
   ],
   "source": [
    "#Let's take sample\n",
    "sample_size = 10\n",
    "age_sample = np.random.choice(ages,sample_size)\n",
    "age_sample"
   ]
  },
  {
   "cell_type": "code",
   "execution_count": 4,
   "metadata": {},
   "outputs": [],
   "source": [
    "import scipy\n",
    "from scipy.stats import ttest_1samp"
   ]
  },
  {
   "cell_type": "code",
   "execution_count": 5,
   "metadata": {},
   "outputs": [
    {
     "output_type": "execute_result",
     "data": {
      "text/plain": [
       "0.2598796401589057"
      ]
     },
     "metadata": {},
     "execution_count": 5
    }
   ],
   "source": [
    "ttest, p_value = ttest_1samp(age_sample,30.34)\n",
    "p_value"
   ]
  },
  {
   "cell_type": "code",
   "execution_count": 6,
   "metadata": {},
   "outputs": [
    {
     "output_type": "stream",
     "name": "stdout",
     "text": [
      "We accept H0.\n"
     ]
    }
   ],
   "source": [
    "# H0: There is no difference\n",
    "# H1: There is difference\n",
    "\n",
    "if(p_value < 0.05):        ## alpha value is 0.05 or 5%\n",
    "    print(\"We reject H0.\")\n",
    "else:\n",
    "    print(\"We accept H0.\") "
   ]
  },
  {
   "source": [
    "### Two Sample T test (Independent T test)\n",
    "\n",
    "(Two Independent groups)\n",
    "It compares the means of two independent groups in order to determine whether there is statistical evidence that the associated population means are significantly different.\n",
    "\n",
    "####  t = (x1_bar - x2_bar)/sqrt(s**2*((1/n1)+(1/n2)))\n",
    "\n",
    "where\n",
    "\n",
    "####  s**2 =          "
   ],
   "cell_type": "markdown",
   "metadata": {}
  },
  {
   "cell_type": "code",
   "execution_count": 7,
   "metadata": {},
   "outputs": [
    {
     "output_type": "stream",
     "name": "stdout",
     "text": [
      "47.4 50.63333333333333\n"
     ]
    }
   ],
   "source": [
    "import scipy.stats as stats\n",
    "import math\n",
    "np.random.seed(12)\n",
    "ClassB_ages = stats.poisson.rvs(loc=18,mu=33,size =60)\n",
    "ClassA_ages = stats.poisson.rvs(loc=18,mu=30,size=60)\n",
    "print(ClassA_ages.mean(),ClassB_ages.mean())"
   ]
  },
  {
   "cell_type": "code",
   "execution_count": 8,
   "metadata": {},
   "outputs": [
    {
     "output_type": "execute_result",
     "data": {
      "text/plain": [
       "0.00148827761873106"
      ]
     },
     "metadata": {},
     "execution_count": 8
    }
   ],
   "source": [
    "_,p_value = stats.ttest_ind(a=ClassA_ages,b=ClassB_ages,equal_var=False)\n",
    "p_value"
   ]
  },
  {
   "cell_type": "code",
   "execution_count": 9,
   "metadata": {},
   "outputs": [
    {
     "output_type": "stream",
     "name": "stdout",
     "text": [
      "We reject H0.\n"
     ]
    }
   ],
   "source": [
    "if p_value < 0.05:\n",
    "    print(\"We reject H0.\")\n",
    "else:\n",
    "    print(\"We accept H0.\")"
   ]
  },
  {
   "source": [
    "### Paired T test\n",
    "Checks how different samples are from the same group based on time interval or situation, etc."
   ],
   "cell_type": "markdown",
   "metadata": {}
  },
  {
   "cell_type": "code",
   "execution_count": 10,
   "metadata": {},
   "outputs": [
    {
     "output_type": "execute_result",
     "data": {
      "text/plain": [
       "[25, 30, 28, 35, 28, 34, 26, 29, 30, 26, 28, 32, 31, 30, 45]"
      ]
     },
     "metadata": {},
     "execution_count": 10
    }
   ],
   "source": [
    "weight1 = [25,30,28,35,28,34,26,29,30,26,28,32,31,30,45]\n",
    "weight2 = weight1+stats.norm.rvs(scale=5,loc=1.25,size=15)\n",
    "weight1"
   ]
  },
  {
   "cell_type": "code",
   "execution_count": 11,
   "metadata": {},
   "outputs": [
    {
     "output_type": "execute_result",
     "data": {
      "text/plain": [
       "array([28.15056793, 26.46663484, 35.59929495, 37.00259688, 25.4243432 ,\n",
       "       32.56489822, 19.1935255 , 31.07494424, 26.19611891, 26.67300315,\n",
       "       34.9501934 , 34.94001222, 34.62757231, 44.4452304 , 49.70553787])"
      ]
     },
     "metadata": {},
     "execution_count": 11
    }
   ],
   "source": [
    "weight2"
   ]
  },
  {
   "cell_type": "code",
   "execution_count": 12,
   "metadata": {},
   "outputs": [
    {
     "output_type": "display_data",
     "data": {
      "text/plain": "<IPython.core.display.Javascript object>",
      "application/javascript": "\n        if (window._pyforest_update_imports_cell) { window._pyforest_update_imports_cell('import pandas as pd'); }\n    "
     },
     "metadata": {}
    },
    {
     "output_type": "execute_result",
     "data": {
      "text/plain": [
       "    weight_10  weight_20  weight_change\n",
       "0          25  28.150568       3.150568\n",
       "1          30  26.466635      -3.533365\n",
       "2          28  35.599295       7.599295\n",
       "3          35  37.002597       2.002597\n",
       "4          28  25.424343      -2.575657\n",
       "5          34  32.564898      -1.435102\n",
       "6          26  19.193525      -6.806475\n",
       "7          29  31.074944       2.074944\n",
       "8          30  26.196119      -3.803881\n",
       "9          26  26.673003       0.673003\n",
       "10         28  34.950193       6.950193\n",
       "11         32  34.940012       2.940012\n",
       "12         31  34.627572       3.627572\n",
       "13         30  44.445230      14.445230\n",
       "14         45  49.705538       4.705538"
      ],
      "text/html": "<div>\n<style scoped>\n    .dataframe tbody tr th:only-of-type {\n        vertical-align: middle;\n    }\n\n    .dataframe tbody tr th {\n        vertical-align: top;\n    }\n\n    .dataframe thead th {\n        text-align: right;\n    }\n</style>\n<table border=\"1\" class=\"dataframe\">\n  <thead>\n    <tr style=\"text-align: right;\">\n      <th></th>\n      <th>weight_10</th>\n      <th>weight_20</th>\n      <th>weight_change</th>\n    </tr>\n  </thead>\n  <tbody>\n    <tr>\n      <th>0</th>\n      <td>25</td>\n      <td>28.150568</td>\n      <td>3.150568</td>\n    </tr>\n    <tr>\n      <th>1</th>\n      <td>30</td>\n      <td>26.466635</td>\n      <td>-3.533365</td>\n    </tr>\n    <tr>\n      <th>2</th>\n      <td>28</td>\n      <td>35.599295</td>\n      <td>7.599295</td>\n    </tr>\n    <tr>\n      <th>3</th>\n      <td>35</td>\n      <td>37.002597</td>\n      <td>2.002597</td>\n    </tr>\n    <tr>\n      <th>4</th>\n      <td>28</td>\n      <td>25.424343</td>\n      <td>-2.575657</td>\n    </tr>\n    <tr>\n      <th>5</th>\n      <td>34</td>\n      <td>32.564898</td>\n      <td>-1.435102</td>\n    </tr>\n    <tr>\n      <th>6</th>\n      <td>26</td>\n      <td>19.193525</td>\n      <td>-6.806475</td>\n    </tr>\n    <tr>\n      <th>7</th>\n      <td>29</td>\n      <td>31.074944</td>\n      <td>2.074944</td>\n    </tr>\n    <tr>\n      <th>8</th>\n      <td>30</td>\n      <td>26.196119</td>\n      <td>-3.803881</td>\n    </tr>\n    <tr>\n      <th>9</th>\n      <td>26</td>\n      <td>26.673003</td>\n      <td>0.673003</td>\n    </tr>\n    <tr>\n      <th>10</th>\n      <td>28</td>\n      <td>34.950193</td>\n      <td>6.950193</td>\n    </tr>\n    <tr>\n      <th>11</th>\n      <td>32</td>\n      <td>34.940012</td>\n      <td>2.940012</td>\n    </tr>\n    <tr>\n      <th>12</th>\n      <td>31</td>\n      <td>34.627572</td>\n      <td>3.627572</td>\n    </tr>\n    <tr>\n      <th>13</th>\n      <td>30</td>\n      <td>44.445230</td>\n      <td>14.445230</td>\n    </tr>\n    <tr>\n      <th>14</th>\n      <td>45</td>\n      <td>49.705538</td>\n      <td>4.705538</td>\n    </tr>\n  </tbody>\n</table>\n</div>"
     },
     "metadata": {},
     "execution_count": 12
    }
   ],
   "source": [
    "weight_df =  pd.DataFrame({\"weight_10\" : np.array(weight1), \"weight_20\" : np.array(weight2), \"weight_change\": np.array(weight2) - np.array(weight1)})\n",
    "weight_df"
   ]
  },
  {
   "cell_type": "code",
   "execution_count": 13,
   "metadata": {},
   "outputs": [
    {
     "output_type": "execute_result",
     "data": {
      "text/plain": [
       "0.1687755106412083"
      ]
     },
     "metadata": {},
     "execution_count": 13
    }
   ],
   "source": [
    "_,p_value = stats.ttest_rel(a=weight1,b=weight2)\n",
    "p_value"
   ]
  },
  {
   "cell_type": "code",
   "execution_count": 14,
   "metadata": {},
   "outputs": [
    {
     "output_type": "stream",
     "name": "stdout",
     "text": [
      "We accpet H0.\n"
     ]
    }
   ],
   "source": [
    "if p_value < 0.05:\n",
    "    print(\"We reject H0.\")\n",
    "else:\n",
    "    print(\"We accpet H0.\")"
   ]
  },
  {
   "source": [
    "## Chi Square Test\n",
    "\n",
    "- Two categorical variables froma a single population\n",
    "- Used to determine if there is significant association between any two categorical variables"
   ],
   "cell_type": "markdown",
   "metadata": {}
  },
  {
   "cell_type": "code",
   "execution_count": 15,
   "metadata": {},
   "outputs": [
    {
     "output_type": "execute_result",
     "data": {
      "text/plain": [
       "   total_bill   tip     sex smoker  day    time  size\n",
       "0       16.99  1.01  Female     No  Sun  Dinner     2\n",
       "1       10.34  1.66    Male     No  Sun  Dinner     3\n",
       "2       21.01  3.50    Male     No  Sun  Dinner     3\n",
       "3       23.68  3.31    Male     No  Sun  Dinner     2\n",
       "4       24.59  3.61  Female     No  Sun  Dinner     4"
      ],
      "text/html": "<div>\n<style scoped>\n    .dataframe tbody tr th:only-of-type {\n        vertical-align: middle;\n    }\n\n    .dataframe tbody tr th {\n        vertical-align: top;\n    }\n\n    .dataframe thead th {\n        text-align: right;\n    }\n</style>\n<table border=\"1\" class=\"dataframe\">\n  <thead>\n    <tr style=\"text-align: right;\">\n      <th></th>\n      <th>total_bill</th>\n      <th>tip</th>\n      <th>sex</th>\n      <th>smoker</th>\n      <th>day</th>\n      <th>time</th>\n      <th>size</th>\n    </tr>\n  </thead>\n  <tbody>\n    <tr>\n      <th>0</th>\n      <td>16.99</td>\n      <td>1.01</td>\n      <td>Female</td>\n      <td>No</td>\n      <td>Sun</td>\n      <td>Dinner</td>\n      <td>2</td>\n    </tr>\n    <tr>\n      <th>1</th>\n      <td>10.34</td>\n      <td>1.66</td>\n      <td>Male</td>\n      <td>No</td>\n      <td>Sun</td>\n      <td>Dinner</td>\n      <td>3</td>\n    </tr>\n    <tr>\n      <th>2</th>\n      <td>21.01</td>\n      <td>3.50</td>\n      <td>Male</td>\n      <td>No</td>\n      <td>Sun</td>\n      <td>Dinner</td>\n      <td>3</td>\n    </tr>\n    <tr>\n      <th>3</th>\n      <td>23.68</td>\n      <td>3.31</td>\n      <td>Male</td>\n      <td>No</td>\n      <td>Sun</td>\n      <td>Dinner</td>\n      <td>2</td>\n    </tr>\n    <tr>\n      <th>4</th>\n      <td>24.59</td>\n      <td>3.61</td>\n      <td>Female</td>\n      <td>No</td>\n      <td>Sun</td>\n      <td>Dinner</td>\n      <td>4</td>\n    </tr>\n  </tbody>\n</table>\n</div>"
     },
     "metadata": {},
     "execution_count": 15
    }
   ],
   "source": [
    "import seaborn as sns\n",
    "data = sns.load_dataset('tips')\n",
    "data.head()"
   ]
  },
  {
   "cell_type": "code",
   "execution_count": 16,
   "metadata": {},
   "outputs": [
    {
     "output_type": "display_data",
     "data": {
      "text/plain": "<IPython.core.display.Javascript object>",
      "application/javascript": "\n        if (window._pyforest_update_imports_cell) { window._pyforest_update_imports_cell('import pandas as pd'); }\n    "
     },
     "metadata": {}
    },
    {
     "output_type": "execute_result",
     "data": {
      "text/plain": [
       "smoker  Yes  No\n",
       "sex            \n",
       "Male     60  97\n",
       "Female   33  54"
      ],
      "text/html": "<div>\n<style scoped>\n    .dataframe tbody tr th:only-of-type {\n        vertical-align: middle;\n    }\n\n    .dataframe tbody tr th {\n        vertical-align: top;\n    }\n\n    .dataframe thead th {\n        text-align: right;\n    }\n</style>\n<table border=\"1\" class=\"dataframe\">\n  <thead>\n    <tr style=\"text-align: right;\">\n      <th>smoker</th>\n      <th>Yes</th>\n      <th>No</th>\n    </tr>\n    <tr>\n      <th>sex</th>\n      <th></th>\n      <th></th>\n    </tr>\n  </thead>\n  <tbody>\n    <tr>\n      <th>Male</th>\n      <td>60</td>\n      <td>97</td>\n    </tr>\n    <tr>\n      <th>Female</th>\n      <td>33</td>\n      <td>54</td>\n    </tr>\n  </tbody>\n</table>\n</div>"
     },
     "metadata": {},
     "execution_count": 16
    }
   ],
   "source": [
    "data_table = pd.crosstab(data['sex'],data['smoker'])\n",
    "data_table"
   ]
  },
  {
   "cell_type": "code",
   "execution_count": 17,
   "metadata": {},
   "outputs": [
    {
     "output_type": "execute_result",
     "data": {
      "text/plain": [
       "array([[60, 97],\n",
       "       [33, 54]], dtype=int64)"
      ]
     },
     "metadata": {},
     "execution_count": 17
    }
   ],
   "source": [
    "#Observed Values\n",
    "obs = data_table.values\n",
    "obs"
   ]
  },
  {
   "cell_type": "code",
   "execution_count": 18,
   "metadata": {},
   "outputs": [],
   "source": [
    "val = stats.chi2_contingency(data_table)"
   ]
  },
  {
   "cell_type": "code",
   "execution_count": 19,
   "metadata": {},
   "outputs": [
    {
     "output_type": "execute_result",
     "data": {
      "text/plain": [
       "(0.008763290531773594,\n",
       " 0.925417020494423,\n",
       " 1,\n",
       " array([[59.84016393, 97.15983607],\n",
       "        [33.15983607, 53.84016393]]))"
      ]
     },
     "metadata": {},
     "execution_count": 19
    }
   ],
   "source": [
    "val"
   ]
  },
  {
   "cell_type": "code",
   "execution_count": 20,
   "metadata": {},
   "outputs": [
    {
     "output_type": "execute_result",
     "data": {
      "text/plain": [
       "array([[59.84016393, 97.15983607],\n",
       "       [33.15983607, 53.84016393]])"
      ]
     },
     "metadata": {},
     "execution_count": 20
    }
   ],
   "source": [
    "Expected = val[3]\n",
    "Expected"
   ]
  },
  {
   "cell_type": "code",
   "execution_count": 21,
   "metadata": {},
   "outputs": [
    {
     "output_type": "stream",
     "name": "stdout",
     "text": [
      "Degree of Freedom 1\n"
     ]
    }
   ],
   "source": [
    "no_of_rows = len(data_table.iloc[0:2,0])\n",
    "no_of_col = len(data_table.iloc[0,0:2])\n",
    "ddof = (no_of_rows-1)*(no_of_col-1)\n",
    "print(\"Degree of Freedom\", ddof)\n",
    "alpha = 0.05"
   ]
  },
  {
   "cell_type": "code",
   "execution_count": 26,
   "metadata": {},
   "outputs": [
    {
     "output_type": "stream",
     "name": "stdout",
     "text": [
      "- 0.001934818536627623\n"
     ]
    }
   ],
   "source": [
    "from scipy.stats import chi2\n",
    "chiSq = sum([(o-e)**2/e for o,e in zip(obs,Expected)])\n",
    "chiSq_stat = chiSq[0] + chiSq[1]\n",
    "print(\"-\",chiSq_stat)"
   ]
  },
  {
   "source": [
    "#### Calculate Chi Square Statistic OR P Value"
   ],
   "cell_type": "markdown",
   "metadata": {}
  },
  {
   "cell_type": "code",
   "execution_count": 28,
   "metadata": {},
   "outputs": [
    {
     "output_type": "execute_result",
     "data": {
      "text/plain": [
       "3.841458820694124"
      ]
     },
     "metadata": {},
     "execution_count": 28
    }
   ],
   "source": [
    "critical_value = chi2.ppf(q=1-alpha,df=ddof)\n",
    "critical_value"
   ]
  },
  {
   "cell_type": "code",
   "execution_count": 32,
   "metadata": {},
   "outputs": [
    {
     "output_type": "stream",
     "name": "stdout",
     "text": [
      "0.964915107315732 0.05 1\n"
     ]
    }
   ],
   "source": [
    "p_value = 1-chi2.cdf(x=chiSq_stat,df=ddof)\n",
    "print(p_value,alpha,ddof)"
   ]
  },
  {
   "cell_type": "code",
   "execution_count": 34,
   "metadata": {},
   "outputs": [
    {
     "output_type": "stream",
     "name": "stdout",
     "text": [
      "Accept H0.\nAccept H0.\n"
     ]
    }
   ],
   "source": [
    "if chiSq_stat >= critical_value:\n",
    "    print(\"Reject H0.\")\n",
    "else:\n",
    "    print(\"Accept H0.\")\n",
    "\n",
    "if p_value <= alpha:\n",
    "    print(\"Reject H0.\")\n",
    "else:\n",
    "    print(\"Accept H0.\")"
   ]
  },
  {
   "cell_type": "code",
   "execution_count": null,
   "metadata": {},
   "outputs": [],
   "source": []
  }
 ]
}
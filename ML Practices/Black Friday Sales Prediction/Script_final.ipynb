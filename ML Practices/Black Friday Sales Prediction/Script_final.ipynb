{
 "metadata": {
  "language_info": {
   "codemirror_mode": {
    "name": "ipython",
    "version": 3
   },
   "file_extension": ".py",
   "mimetype": "text/x-python",
   "name": "python",
   "nbconvert_exporter": "python",
   "pygments_lexer": "ipython3",
   "version": "3.8.3"
  },
  "orig_nbformat": 2,
  "kernelspec": {
   "name": "python38364bit850a066139d0462d8015500887b614ea",
   "display_name": "Python 3.8.3 64-bit"
  },
  "metadata": {
   "interpreter": {
    "hash": "f03be3766e3c437524d2d17bf3553c4cd1a66ace052a6ec45adfa86fbf075197"
   }
  }
 },
 "nbformat": 4,
 "nbformat_minor": 2,
 "cells": [
  {
   "cell_type": "code",
   "execution_count": 9,
   "metadata": {},
   "outputs": [],
   "source": [
    "import numpy as np\n",
    "import pandas as pd\n",
    "from sklearn.model_selection import train_test_split\n",
    "from sklearn.linear_model import LinearRegression"
   ]
  },
  {
   "cell_type": "code",
   "execution_count": 37,
   "metadata": {},
   "outputs": [],
   "source": [
    "train = pd.read_csv(\"train_final.csv\")\n",
    "test = pd.read_csv(\"test_final.csv\")"
   ]
  },
  {
   "cell_type": "code",
   "execution_count": 38,
   "metadata": {},
   "outputs": [
    {
     "output_type": "execute_result",
     "data": {
      "text/plain": [
       "   Product_ID  Gender  Age  Occupation  City_Category  \\\n",
       "0        1229       0    0          10              0   \n",
       "1         889       1    4           7              1   \n",
       "2         675       1    2          20              0   \n",
       "3        1152       0    5           9              0   \n",
       "4        1784       0    5           9              0   \n",
       "\n",
       "   Stay_In_Current_City_Years  Marital_Status  Product_Category_1  \\\n",
       "0                           2               0                   0   \n",
       "1                           2               1                   0   \n",
       "2                           1               1                   0   \n",
       "3                           1               0                   4   \n",
       "4                           1               0                   1   \n",
       "\n",
       "   Product_Category_2  Purchase  Product_Category_3  \n",
       "0                 6.0     15200                14.0  \n",
       "1                 8.0     19215                17.0  \n",
       "2                 2.0     15665                 5.0  \n",
       "3                 8.0      5378                14.0  \n",
       "4                 3.0     13055                 4.0  "
      ],
      "text/html": "<div>\n<style scoped>\n    .dataframe tbody tr th:only-of-type {\n        vertical-align: middle;\n    }\n\n    .dataframe tbody tr th {\n        vertical-align: top;\n    }\n\n    .dataframe thead th {\n        text-align: right;\n    }\n</style>\n<table border=\"1\" class=\"dataframe\">\n  <thead>\n    <tr style=\"text-align: right;\">\n      <th></th>\n      <th>Product_ID</th>\n      <th>Gender</th>\n      <th>Age</th>\n      <th>Occupation</th>\n      <th>City_Category</th>\n      <th>Stay_In_Current_City_Years</th>\n      <th>Marital_Status</th>\n      <th>Product_Category_1</th>\n      <th>Product_Category_2</th>\n      <th>Purchase</th>\n      <th>Product_Category_3</th>\n    </tr>\n  </thead>\n  <tbody>\n    <tr>\n      <th>0</th>\n      <td>1229</td>\n      <td>0</td>\n      <td>0</td>\n      <td>10</td>\n      <td>0</td>\n      <td>2</td>\n      <td>0</td>\n      <td>0</td>\n      <td>6.0</td>\n      <td>15200</td>\n      <td>14.0</td>\n    </tr>\n    <tr>\n      <th>1</th>\n      <td>889</td>\n      <td>1</td>\n      <td>4</td>\n      <td>7</td>\n      <td>1</td>\n      <td>2</td>\n      <td>1</td>\n      <td>0</td>\n      <td>8.0</td>\n      <td>19215</td>\n      <td>17.0</td>\n    </tr>\n    <tr>\n      <th>2</th>\n      <td>675</td>\n      <td>1</td>\n      <td>2</td>\n      <td>20</td>\n      <td>0</td>\n      <td>1</td>\n      <td>1</td>\n      <td>0</td>\n      <td>2.0</td>\n      <td>15665</td>\n      <td>5.0</td>\n    </tr>\n    <tr>\n      <th>3</th>\n      <td>1152</td>\n      <td>0</td>\n      <td>5</td>\n      <td>9</td>\n      <td>0</td>\n      <td>1</td>\n      <td>0</td>\n      <td>4</td>\n      <td>8.0</td>\n      <td>5378</td>\n      <td>14.0</td>\n    </tr>\n    <tr>\n      <th>4</th>\n      <td>1784</td>\n      <td>0</td>\n      <td>5</td>\n      <td>9</td>\n      <td>0</td>\n      <td>1</td>\n      <td>0</td>\n      <td>1</td>\n      <td>3.0</td>\n      <td>13055</td>\n      <td>4.0</td>\n    </tr>\n  </tbody>\n</table>\n</div>"
     },
     "metadata": {},
     "execution_count": 38
    }
   ],
   "source": [
    "train = train.drop(['Unnamed: 0'],axis=1)\n",
    "train.head()"
   ]
  },
  {
   "cell_type": "code",
   "execution_count": 39,
   "metadata": {},
   "outputs": [
    {
     "output_type": "execute_result",
     "data": {
      "text/plain": [
       "(550068, 11)"
      ]
     },
     "metadata": {},
     "execution_count": 39
    }
   ],
   "source": [
    "train.shape"
   ]
  },
  {
   "cell_type": "code",
   "execution_count": 40,
   "metadata": {},
   "outputs": [
    {
     "output_type": "execute_result",
     "data": {
      "text/plain": [
       "LinearRegression()"
      ]
     },
     "metadata": {},
     "execution_count": 40
    }
   ],
   "source": [
    "X_train = train.drop(['Purchase'], axis=1)\n",
    "y_train = train['Purchase']\n",
    "\n",
    "model = LinearRegression()\n",
    "model.fit(X_train,y_train)"
   ]
  },
  {
   "cell_type": "code",
   "execution_count": 41,
   "metadata": {},
   "outputs": [
    {
     "output_type": "execute_result",
     "data": {
      "text/plain": [
       "   Unnamed: 0  Product_ID  Gender  Age  Occupation  City_Category  \\\n",
       "0           4         274       0    2           1              2   \n",
       "1           5        1643       1    4           1              2   \n",
       "2           6         717       1    4           1              2   \n",
       "3           7        1734       1    4           1              2   \n",
       "4           8         750       1    2           7              0   \n",
       "\n",
       "   Stay_In_Current_City_Years  Marital_Status  Product_Category_1  \\\n",
       "0                           1               0                   3   \n",
       "1                           3               1                   1   \n",
       "2                           3               1                   0   \n",
       "3                           3               1                   1   \n",
       "4                           1               0                   9   \n",
       "\n",
       "   Product_Category_2  Product_Category_3  User_ID Product_ID_1  \n",
       "0                 5.0                12.0  1000011    P00053842  \n",
       "1                 3.0                15.0  1000013    P00350442  \n",
       "2                11.0                15.0  1000013    P00155442  \n",
       "3                 4.0                 9.0  1000013     P0094542  \n",
       "4                13.0                16.0  1000015    P00161842  "
      ],
      "text/html": "<div>\n<style scoped>\n    .dataframe tbody tr th:only-of-type {\n        vertical-align: middle;\n    }\n\n    .dataframe tbody tr th {\n        vertical-align: top;\n    }\n\n    .dataframe thead th {\n        text-align: right;\n    }\n</style>\n<table border=\"1\" class=\"dataframe\">\n  <thead>\n    <tr style=\"text-align: right;\">\n      <th></th>\n      <th>Unnamed: 0</th>\n      <th>Product_ID</th>\n      <th>Gender</th>\n      <th>Age</th>\n      <th>Occupation</th>\n      <th>City_Category</th>\n      <th>Stay_In_Current_City_Years</th>\n      <th>Marital_Status</th>\n      <th>Product_Category_1</th>\n      <th>Product_Category_2</th>\n      <th>Product_Category_3</th>\n      <th>User_ID</th>\n      <th>Product_ID_1</th>\n    </tr>\n  </thead>\n  <tbody>\n    <tr>\n      <th>0</th>\n      <td>4</td>\n      <td>274</td>\n      <td>0</td>\n      <td>2</td>\n      <td>1</td>\n      <td>2</td>\n      <td>1</td>\n      <td>0</td>\n      <td>3</td>\n      <td>5.0</td>\n      <td>12.0</td>\n      <td>1000011</td>\n      <td>P00053842</td>\n    </tr>\n    <tr>\n      <th>1</th>\n      <td>5</td>\n      <td>1643</td>\n      <td>1</td>\n      <td>4</td>\n      <td>1</td>\n      <td>2</td>\n      <td>3</td>\n      <td>1</td>\n      <td>1</td>\n      <td>3.0</td>\n      <td>15.0</td>\n      <td>1000013</td>\n      <td>P00350442</td>\n    </tr>\n    <tr>\n      <th>2</th>\n      <td>6</td>\n      <td>717</td>\n      <td>1</td>\n      <td>4</td>\n      <td>1</td>\n      <td>2</td>\n      <td>3</td>\n      <td>1</td>\n      <td>0</td>\n      <td>11.0</td>\n      <td>15.0</td>\n      <td>1000013</td>\n      <td>P00155442</td>\n    </tr>\n    <tr>\n      <th>3</th>\n      <td>7</td>\n      <td>1734</td>\n      <td>1</td>\n      <td>4</td>\n      <td>1</td>\n      <td>2</td>\n      <td>3</td>\n      <td>1</td>\n      <td>1</td>\n      <td>4.0</td>\n      <td>9.0</td>\n      <td>1000013</td>\n      <td>P0094542</td>\n    </tr>\n    <tr>\n      <th>4</th>\n      <td>8</td>\n      <td>750</td>\n      <td>1</td>\n      <td>2</td>\n      <td>7</td>\n      <td>0</td>\n      <td>1</td>\n      <td>0</td>\n      <td>9</td>\n      <td>13.0</td>\n      <td>16.0</td>\n      <td>1000015</td>\n      <td>P00161842</td>\n    </tr>\n  </tbody>\n</table>\n</div>"
     },
     "metadata": {},
     "execution_count": 41
    }
   ],
   "source": [
    "test.head()"
   ]
  },
  {
   "cell_type": "code",
   "execution_count": 42,
   "metadata": {},
   "outputs": [
    {
     "output_type": "execute_result",
     "data": {
      "text/plain": [
       "array([10259., 11413., 11975., ...,  7960.,  7428.,  7976.])"
      ]
     },
     "metadata": {},
     "execution_count": 42
    }
   ],
   "source": [
    "test1 = test.drop(['Unnamed: 0','User_ID','Product_ID_1'],axis=1)\n",
    "predicted = np.round(model.predict(test1))\n",
    "predicted"
   ]
  },
  {
   "cell_type": "code",
   "execution_count": 45,
   "metadata": {},
   "outputs": [
    {
     "output_type": "execute_result",
     "data": {
      "text/plain": [
       "   Purchase  User_ID Product_ID\n",
       "0   10259.0  1000011  P00053842\n",
       "1   11413.0  1000013  P00350442\n",
       "2   11975.0  1000013  P00155442\n",
       "3    9823.0  1000013   P0094542\n",
       "4    7188.0  1000015  P00161842"
      ],
      "text/html": "<div>\n<style scoped>\n    .dataframe tbody tr th:only-of-type {\n        vertical-align: middle;\n    }\n\n    .dataframe tbody tr th {\n        vertical-align: top;\n    }\n\n    .dataframe thead th {\n        text-align: right;\n    }\n</style>\n<table border=\"1\" class=\"dataframe\">\n  <thead>\n    <tr style=\"text-align: right;\">\n      <th></th>\n      <th>Purchase</th>\n      <th>User_ID</th>\n      <th>Product_ID</th>\n    </tr>\n  </thead>\n  <tbody>\n    <tr>\n      <th>0</th>\n      <td>10259.0</td>\n      <td>1000011</td>\n      <td>P00053842</td>\n    </tr>\n    <tr>\n      <th>1</th>\n      <td>11413.0</td>\n      <td>1000013</td>\n      <td>P00350442</td>\n    </tr>\n    <tr>\n      <th>2</th>\n      <td>11975.0</td>\n      <td>1000013</td>\n      <td>P00155442</td>\n    </tr>\n    <tr>\n      <th>3</th>\n      <td>9823.0</td>\n      <td>1000013</td>\n      <td>P0094542</td>\n    </tr>\n    <tr>\n      <th>4</th>\n      <td>7188.0</td>\n      <td>1000015</td>\n      <td>P00161842</td>\n    </tr>\n  </tbody>\n</table>\n</div>"
     },
     "metadata": {},
     "execution_count": 45
    }
   ],
   "source": [
    "sub = {'Purchase' : predicted,'User_ID' : test['User_ID'],'Product_ID' : test['Product_ID_1']}\n",
    "sub = pd.DataFrame(sub)\n",
    "sub.head()"
   ]
  },
  {
   "cell_type": "code",
   "execution_count": 46,
   "metadata": {},
   "outputs": [],
   "source": [
    "sub.to_csv(\"sub1.csv\")"
   ]
  }
 ]
}
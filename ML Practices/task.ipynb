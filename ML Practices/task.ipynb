{
 "metadata": {
  "language_info": {
   "codemirror_mode": {
    "name": "ipython",
    "version": 3
   },
   "file_extension": ".py",
   "mimetype": "text/x-python",
   "name": "python",
   "nbconvert_exporter": "python",
   "pygments_lexer": "ipython3",
   "version": "3.8.3"
  },
  "orig_nbformat": 2,
  "kernelspec": {
   "name": "python38364bit850a066139d0462d8015500887b614ea",
   "display_name": "Python 3.8.3 64-bit"
  },
  "metadata": {
   "interpreter": {
    "hash": "f03be3766e3c437524d2d17bf3553c4cd1a66ace052a6ec45adfa86fbf075197"
   }
  }
 },
 "nbformat": 4,
 "nbformat_minor": 2,
 "cells": [
  {
   "cell_type": "code",
   "execution_count": 87,
   "metadata": {},
   "outputs": [],
   "source": [
    "import pandas as pd\n",
    "import numpy as np"
   ]
  },
  {
   "cell_type": "code",
   "execution_count": 104,
   "metadata": {},
   "outputs": [],
   "source": [
    "np.random.seed(1)\n",
    "data_50 =pd.DataFrame({\"birth_place\"  : np.random.choice(range(1,3),50, replace=True),\n",
    "\"fin_back\"  : np.random.choice(['<60k','61k-200k','200k-500k','>501k'],50, replace=True),\n",
    "\"medium\"  : np.random.choice(['english','hindi','both'],50, replace=True),\n",
    "\"performace\"  : np.random.choice(['<40','41-60','61-75','76-90','>91'],50, replace=True),\n",
    "\"board\"  : np.random.choice(['ISC','CBSE','State'],50, replace=True),\n",
    "\"school\"  : np.random.choice(['public','private'],50, replace=True),\n",
    "\"stream\"  : np.random.choice(['arts','cs','science','commerce'],50, replace=True),\n",
    "\"co-curr\"  : np.random.choice(['yes','no'],50, replace=True),\n",
    "\"extra-curr\"  : np.random.choice(['yes','no'],50, replace=True),\n",
    "\"school_location\"  : np.random.choice(range(1,3),50, replace=True),\n",
    "\"fameSchool\"  : np.random.choice(range(1,5),50, replace=True),\n",
    "\"interestedDomain\"  : np.random.choice(['aerospace','agriculture','automobile','banking','beauty','construction','arts','defence','education','tech','medical','law','management','design','media','civilSercies','Research','humanities','tourism'],50, replace=True),\n",
    "\"rateOnCurrDomain\"  : np.random.choice(range(1,5),50, replace=True),\n",
    "\"profCerti\"  : np.random.choice(['yes','no'],50, replace=True),\n",
    "\"personalDevCerti\"  : np.random.choice(['yes','no'],50, replace=True),\n",
    "\"languages\"  : np.random.choice(range(1,4),50, replace=True),\n",
    "\"personality\"  : np.random.choice(['authoritative','helping','reserved','management','freelancing','receivingOrders'],50, replace=True),\n",
    "\"hoursPerDay\"  : np.random.choice(range(1,24),50, replace=True),\n",
    "\"job/study\"  : np.random.choice(['Job','HigherStudies'],50, replace=True),\n",
    "\"learningMode\"  : np.random.choice(['Self','Guided'],50, replace=True),\n",
    "\"SuggestedCarrer\"  : np.random.choice(['aerospace','agriculture','automobile','banking','beauty','construction','arts','defence','education','tech','medical','law','management','design','media','civilSercies','Research','humanities','tourism'],50, replace=True)})\n",
    "# \"X1\" : np.where(np.random.normal(0.0, 1.0, size=20)<=0,0,1)"
   ]
  },
  {
   "cell_type": "code",
   "execution_count": 121,
   "metadata": {},
   "outputs": [],
   "source": [
    "np.random.seed(149)\n",
    "data_50 =pd.DataFrame({\"birth_place\"  : np.random.choice(range(1,3),500, replace=True),\n",
    "\"fin_back\"  : np.random.choice(['<60k','61k-200k','200k-500k','>501k'],500, replace=True),\n",
    "\"medium\"  : np.random.choice(['english','hindi','both'],500, replace=True),\n",
    "\"performace\"  : np.random.choice(['<40','41-60','61-75','76-90','>91'],500, replace=True),\n",
    "\"board\"  : np.random.choice(['ISC','CBSE','State'],500, replace=True),\n",
    "\"school\"  : np.random.choice(['public','private'],500, replace=True),\n",
    "\"stream\"  : np.random.choice(['arts','cs','science','commerce'],500, replace=True),\n",
    "\"co-curr\"  : np.random.choice(['yes','no'],500, replace=True),\n",
    "\"extra-curr\"  : np.random.choice(['yes','no'],500, replace=True),\n",
    "\"school_location\"  : np.random.choice(range(1,3),500, replace=True),\n",
    "\"fameSchool\"  : np.random.choice(range(1,5),500, replace=True),\n",
    "\"interestedDomain\"  : np.random.choice(['aerospace','agriculture','automobile','banking','beauty','construction','arts','defence','education','tech','medical','law','management','design','media','civilSercies','Research','humanities','tourism'],500, replace=True),\n",
    "\"rateOnCurrDomain\"  : np.random.choice(range(1,5),500, replace=True),\n",
    "\"profCerti\"  : np.random.choice(['yes','no'],500, replace=True),\n",
    "\"personalDevCerti\"  : np.random.choice(['yes','no'],500, replace=True),\n",
    "\"languages\"  : np.random.choice(range(1,4),500, replace=True),\n",
    "\"personality\"  : np.random.choice(['authoritative','helping','reserved','management','freelancing','receivingOrders'],500, replace=True),\n",
    "\"hoursPerDay\"  : np.random.choice(range(1,24),500, replace=True),\n",
    "\"job/study\"  : np.random.choice(['Job','HigherStudies'],500, replace=True),\n",
    "\"learningMode\"  : np.random.choice(['Self','Guided'],500, replace=True),\n",
    "\"SuggestedCarrer\"  : np.random.choice(['aerospace','agriculture','automobile','banking','beauty','construction','arts','defence','education','tech','medical','law','management','design','media','civilSercies','Research','humanities','tourism'],500, replace=True)})"
   ]
  },
  {
   "cell_type": "code",
   "execution_count": 137,
   "metadata": {},
   "outputs": [],
   "source": [
    "np.random.seed(128)\n",
    "data_50 =pd.DataFrame({\"birth_place\"  : np.random.choice(range(1,3),50000, replace=True),\n",
    "\"fin_back\"  : np.random.choice(['<60k','61k-200k','200k-500k','>501k'],50000, replace=True),\n",
    "\"medium\"  : np.random.choice(['english','hindi','both'],50000, replace=True),\n",
    "\"performace\"  : np.random.choice(['<40','41-60','61-75','76-90','>91'],50000, replace=True),\n",
    "\"board\"  : np.random.choice(['ISC','CBSE','State'],50000, replace=True),\n",
    "\"school\"  : np.random.choice(['public','private'],50000, replace=True),\n",
    "\"stream\"  : np.random.choice(['arts','cs','science','commerce'],50000, replace=True),\n",
    "\"co-curr\"  : np.random.choice(['yes','no'],50000, replace=True),\n",
    "\"extra-curr\"  : np.random.choice(['yes','no'],50000, replace=True),\n",
    "\"school_location\"  : np.random.choice(range(1,3),50000, replace=True),\n",
    "\"fameSchool\"  : np.random.choice(range(1,5),50000, replace=True),\n",
    "\"interestedDomain\"  : np.random.choice(['aerospace','agriculture','automobile','banking','beauty','construction','arts','defence','education','tech','medical','law','management','design','media','civilSercies','Research','humanities','tourism'],50000, replace=True),\n",
    "\"rateOnCurrDomain\"  : np.random.choice(range(1,5),50000, replace=True),\n",
    "\"profCerti\"  : np.random.choice(['yes','no'],50000, replace=True),\n",
    "\"personalDevCerti\"  : np.random.choice(['yes','no'],50000, replace=True),\n",
    "\"languages\"  : np.random.choice(range(1,4),50000, replace=True),\n",
    "\"personality\"  : np.random.choice(['authoritative','helping','reserved','management','freelancing','receivingOrders'],50000, replace=True),\n",
    "\"hoursPerDay\"  : np.random.choice(range(1,24),50000, replace=True),\n",
    "\"job/study\"  : np.random.choice(['Job','HigherStudies'],50000, replace=True),\n",
    "\"learningMode\"  : np.random.choice(['Self','Guided'],50000, replace=True),\n",
    "\"SuggestedCarrer\"  : np.random.choice(['aerospace','agriculture','automobile','banking','beauty','construction','arts','defence','education','tech','medical','law','management','design','media','civilSercies','Research','humanities','tourism'],50000, replace=True)})"
   ]
  },
  {
   "cell_type": "code",
   "execution_count": 138,
   "metadata": {},
   "outputs": [
    {
     "output_type": "execute_result",
     "data": {
      "text/plain": [
       "   birth_place   fin_back medium performace  board   school    stream co-curr  \\\n",
       "0            1      >501k   both        <40  State  private   science     yes   \n",
       "1            2  200k-500k   both      76-90    ISC   public        cs     yes   \n",
       "2            2   61k-200k   both        <40    ISC   public   science      no   \n",
       "3            1  200k-500k  hindi      41-60   CBSE   public      arts      no   \n",
       "4            2  200k-500k   both        >91    ISC  private  commerce     yes   \n",
       "\n",
       "  extra-curr  school_location  ...  interestedDomain rateOnCurrDomain  \\\n",
       "0         no                2  ...         education                3   \n",
       "1        yes                2  ...        humanities                1   \n",
       "2        yes                1  ...        management                3   \n",
       "3        yes                1  ...           medical                3   \n",
       "4        yes                2  ...       agriculture                1   \n",
       "\n",
       "   profCerti personalDevCerti languages  personality hoursPerDay  \\\n",
       "0         no               no         2  freelancing          17   \n",
       "1        yes              yes         3     reserved           1   \n",
       "2        yes              yes         2   management           5   \n",
       "3        yes               no         3   management           2   \n",
       "4        yes              yes         2      helping          12   \n",
       "\n",
       "       job/study learningMode SuggestedCarrer  \n",
       "0            Job         Self        Research  \n",
       "1            Job         Self       aerospace  \n",
       "2  HigherStudies       Guided      management  \n",
       "3            Job       Guided         medical  \n",
       "4  HigherStudies       Guided         tourism  \n",
       "\n",
       "[5 rows x 21 columns]"
      ],
      "text/html": "<div>\n<style scoped>\n    .dataframe tbody tr th:only-of-type {\n        vertical-align: middle;\n    }\n\n    .dataframe tbody tr th {\n        vertical-align: top;\n    }\n\n    .dataframe thead th {\n        text-align: right;\n    }\n</style>\n<table border=\"1\" class=\"dataframe\">\n  <thead>\n    <tr style=\"text-align: right;\">\n      <th></th>\n      <th>birth_place</th>\n      <th>fin_back</th>\n      <th>medium</th>\n      <th>performace</th>\n      <th>board</th>\n      <th>school</th>\n      <th>stream</th>\n      <th>co-curr</th>\n      <th>extra-curr</th>\n      <th>school_location</th>\n      <th>...</th>\n      <th>interestedDomain</th>\n      <th>rateOnCurrDomain</th>\n      <th>profCerti</th>\n      <th>personalDevCerti</th>\n      <th>languages</th>\n      <th>personality</th>\n      <th>hoursPerDay</th>\n      <th>job/study</th>\n      <th>learningMode</th>\n      <th>SuggestedCarrer</th>\n    </tr>\n  </thead>\n  <tbody>\n    <tr>\n      <th>0</th>\n      <td>1</td>\n      <td>&gt;501k</td>\n      <td>both</td>\n      <td>&lt;40</td>\n      <td>State</td>\n      <td>private</td>\n      <td>science</td>\n      <td>yes</td>\n      <td>no</td>\n      <td>2</td>\n      <td>...</td>\n      <td>education</td>\n      <td>3</td>\n      <td>no</td>\n      <td>no</td>\n      <td>2</td>\n      <td>freelancing</td>\n      <td>17</td>\n      <td>Job</td>\n      <td>Self</td>\n      <td>Research</td>\n    </tr>\n    <tr>\n      <th>1</th>\n      <td>2</td>\n      <td>200k-500k</td>\n      <td>both</td>\n      <td>76-90</td>\n      <td>ISC</td>\n      <td>public</td>\n      <td>cs</td>\n      <td>yes</td>\n      <td>yes</td>\n      <td>2</td>\n      <td>...</td>\n      <td>humanities</td>\n      <td>1</td>\n      <td>yes</td>\n      <td>yes</td>\n      <td>3</td>\n      <td>reserved</td>\n      <td>1</td>\n      <td>Job</td>\n      <td>Self</td>\n      <td>aerospace</td>\n    </tr>\n    <tr>\n      <th>2</th>\n      <td>2</td>\n      <td>61k-200k</td>\n      <td>both</td>\n      <td>&lt;40</td>\n      <td>ISC</td>\n      <td>public</td>\n      <td>science</td>\n      <td>no</td>\n      <td>yes</td>\n      <td>1</td>\n      <td>...</td>\n      <td>management</td>\n      <td>3</td>\n      <td>yes</td>\n      <td>yes</td>\n      <td>2</td>\n      <td>management</td>\n      <td>5</td>\n      <td>HigherStudies</td>\n      <td>Guided</td>\n      <td>management</td>\n    </tr>\n    <tr>\n      <th>3</th>\n      <td>1</td>\n      <td>200k-500k</td>\n      <td>hindi</td>\n      <td>41-60</td>\n      <td>CBSE</td>\n      <td>public</td>\n      <td>arts</td>\n      <td>no</td>\n      <td>yes</td>\n      <td>1</td>\n      <td>...</td>\n      <td>medical</td>\n      <td>3</td>\n      <td>yes</td>\n      <td>no</td>\n      <td>3</td>\n      <td>management</td>\n      <td>2</td>\n      <td>Job</td>\n      <td>Guided</td>\n      <td>medical</td>\n    </tr>\n    <tr>\n      <th>4</th>\n      <td>2</td>\n      <td>200k-500k</td>\n      <td>both</td>\n      <td>&gt;91</td>\n      <td>ISC</td>\n      <td>private</td>\n      <td>commerce</td>\n      <td>yes</td>\n      <td>yes</td>\n      <td>2</td>\n      <td>...</td>\n      <td>agriculture</td>\n      <td>1</td>\n      <td>yes</td>\n      <td>yes</td>\n      <td>2</td>\n      <td>helping</td>\n      <td>12</td>\n      <td>HigherStudies</td>\n      <td>Guided</td>\n      <td>tourism</td>\n    </tr>\n  </tbody>\n</table>\n<p>5 rows × 21 columns</p>\n</div>"
     },
     "metadata": {},
     "execution_count": 138
    }
   ],
   "source": [
    "data_50.head()"
   ]
  },
  {
   "cell_type": "code",
   "execution_count": 139,
   "metadata": {},
   "outputs": [],
   "source": [
    "data_50_orig = data_50.copy()"
   ]
  },
  {
   "cell_type": "code",
   "execution_count": 140,
   "metadata": {},
   "outputs": [
    {
     "output_type": "stream",
     "name": "stdout",
     "text": [
      "<class 'pandas.core.frame.DataFrame'>\nRangeIndex: 50000 entries, 0 to 49999\nData columns (total 21 columns):\n #   Column            Non-Null Count  Dtype \n---  ------            --------------  ----- \n 0   birth_place       50000 non-null  int32 \n 1   fin_back          50000 non-null  object\n 2   medium            50000 non-null  object\n 3   performace        50000 non-null  object\n 4   board             50000 non-null  object\n 5   school            50000 non-null  object\n 6   stream            50000 non-null  object\n 7   co-curr           50000 non-null  object\n 8   extra-curr        50000 non-null  object\n 9   school_location   50000 non-null  int32 \n 10  fameSchool        50000 non-null  int32 \n 11  interestedDomain  50000 non-null  object\n 12  rateOnCurrDomain  50000 non-null  int32 \n 13  profCerti         50000 non-null  object\n 14  personalDevCerti  50000 non-null  object\n 15  languages         50000 non-null  int32 \n 16  personality       50000 non-null  object\n 17  hoursPerDay       50000 non-null  int32 \n 18  job/study         50000 non-null  object\n 19  learningMode      50000 non-null  object\n 20  SuggestedCarrer   50000 non-null  object\ndtypes: int32(6), object(15)\nmemory usage: 6.9+ MB\n"
     ]
    }
   ],
   "source": [
    "data_50.info()"
   ]
  },
  {
   "cell_type": "code",
   "execution_count": 141,
   "metadata": {},
   "outputs": [],
   "source": [
    "data_50[\"fin_back\"] = data_50[\"fin_back\"].astype('category')\n",
    "data_50[\"medium\"] = data_50[\"medium\"].astype('category')\n",
    "data_50[\"performace\"] = data_50[\"performace\"].astype('category')\n",
    "data_50[\"board\"] = data_50[\"board\"].astype('category')\n",
    "data_50[\"school\"] = data_50[\"school\"].astype('category')\n",
    "data_50[\"stream\"] = data_50[\"stream\"].astype('category')\n",
    "data_50[\"co-curr\"] = data_50[\"co-curr\"].astype('category')\n",
    "data_50[\"extra-curr\"] = data_50[\"extra-curr\"].astype('category')\n",
    "data_50[\"interestedDomain\"] = data_50[\"interestedDomain\"].astype('category')\n",
    "data_50[\"profCerti\"] = data_50[\"profCerti\"].astype('category')\n",
    "data_50[\"personalDevCerti\"] = data_50[\"personalDevCerti\"].astype('category')\n",
    "data_50[\"personality\"] = data_50[\"personality\"].astype('category')\n",
    "data_50[\"job/study\"] = data_50[\"job/study\"].astype('category')\n",
    "data_50[\"learningMode\"] = data_50[\"learningMode\"].astype('category')\n",
    "data_50[\"SuggestedCarrer\"] = data_50[\"SuggestedCarrer\"].astype('category')"
   ]
  },
  {
   "cell_type": "code",
   "execution_count": 142,
   "metadata": {},
   "outputs": [],
   "source": [
    "data_50[\"fin_back\"] = data_50[\"fin_back\"].cat.codes\n",
    "data_50[\"medium\"] = data_50[\"medium\"].cat.codes\n",
    "data_50[\"performace\"] = data_50[\"performace\"].cat.codes\n",
    "data_50[\"board\"] = data_50[\"board\"].cat.codes\n",
    "data_50[\"school\"] = data_50[\"school\"].cat.codes\n",
    "data_50[\"stream\"] = data_50[\"stream\"].cat.codes\n",
    "data_50[\"co-curr\"] = data_50[\"co-curr\"].cat.codes\n",
    "data_50[\"extra-curr\"] = data_50[\"extra-curr\"].cat.codes\n",
    "data_50[\"interestedDomain\"] = data_50[\"interestedDomain\"].cat.codes\n",
    "data_50[\"profCerti\"] = data_50[\"profCerti\"].cat.codes\n",
    "data_50[\"personalDevCerti\"] = data_50[\"personalDevCerti\"].cat.codes\n",
    "data_50[\"personality\"] = data_50[\"personality\"].cat.codes\n",
    "data_50[\"job/study\"] = data_50[\"job/study\"].cat.codes\n",
    "data_50[\"learningMode\"] = data_50[\"learningMode\"].cat.codes\n",
    "data_50[\"SuggestedCarrer\"] = data_50[\"SuggestedCarrer\"].cat.codes"
   ]
  },
  {
   "source": [
    "Decision Tree"
   ],
   "cell_type": "markdown",
   "metadata": {}
  },
  {
   "cell_type": "code",
   "execution_count": 143,
   "metadata": {},
   "outputs": [],
   "source": [
    "from sklearn import tree\n",
    "from sklearn.model_selection import train_test_split\n",
    "model_tree = tree.DecisionTreeClassifier()"
   ]
  },
  {
   "cell_type": "code",
   "execution_count": 144,
   "metadata": {},
   "outputs": [],
   "source": [
    "output = data_50['SuggestedCarrer']\n",
    "inputs = data_50.drop('SuggestedCarrer',axis=1)"
   ]
  },
  {
   "cell_type": "code",
   "execution_count": 145,
   "metadata": {},
   "outputs": [],
   "source": [
    "X_train, X_test, y_train, y_test = train_test_split(inputs,output, test_size=0.33)"
   ]
  },
  {
   "cell_type": "code",
   "execution_count": 146,
   "metadata": {},
   "outputs": [
    {
     "output_type": "execute_result",
     "data": {
      "text/plain": [
       "DecisionTreeClassifier()"
      ]
     },
     "metadata": {},
     "execution_count": 146
    }
   ],
   "source": [
    "model_tree.fit(X_train,y_train)"
   ]
  },
  {
   "cell_type": "code",
   "execution_count": 147,
   "metadata": {},
   "outputs": [
    {
     "output_type": "execute_result",
     "data": {
      "text/plain": [
       "array([18,  2,  7, ...,  2,  8, 15], dtype=int8)"
      ]
     },
     "metadata": {},
     "execution_count": 147
    }
   ],
   "source": [
    "pred_tree = model_tree.predict(X_test)\n",
    "pred_tree"
   ]
  },
  {
   "cell_type": "code",
   "execution_count": 148,
   "metadata": {},
   "outputs": [
    {
     "output_type": "execute_result",
     "data": {
      "text/plain": [
       "5.03030303030303"
      ]
     },
     "metadata": {},
     "execution_count": 148
    }
   ],
   "source": [
    "from sklearn.metrics import accuracy_score\n",
    "accuracy_tree = accuracy_score(y_test,pred_tree)\n",
    "accuracy_tree*100"
   ]
  },
  {
   "source": [
    "SVM"
   ],
   "cell_type": "markdown",
   "metadata": {}
  },
  {
   "cell_type": "code",
   "execution_count": 149,
   "metadata": {},
   "outputs": [
    {
     "output_type": "execute_result",
     "data": {
      "text/plain": [
       "array([ 7, 13, 17, ..., 17,  2,  4], dtype=int8)"
      ]
     },
     "metadata": {},
     "execution_count": 149
    }
   ],
   "source": [
    "from sklearn import svm\n",
    "model_svm = svm.SVC()\n",
    "model_svm.fit(X_train, y_train)   #------giving test data as input----#\n",
    "pred_svm = model_svm.predict(X_test)\n",
    "pred_svm"
   ]
  },
  {
   "cell_type": "code",
   "execution_count": 150,
   "metadata": {},
   "outputs": [
    {
     "output_type": "execute_result",
     "data": {
      "text/plain": [
       "5.33939393939394"
      ]
     },
     "metadata": {},
     "execution_count": 150
    }
   ],
   "source": [
    "accuracy_svm = accuracy_score(y_test,pred_svm)\n",
    "accuracy_svm*100"
   ]
  },
  {
   "source": [
    "Naive Bayes"
   ],
   "cell_type": "markdown",
   "metadata": {}
  },
  {
   "cell_type": "code",
   "execution_count": 151,
   "metadata": {},
   "outputs": [
    {
     "output_type": "execute_result",
     "data": {
      "text/plain": [
       "array([ 2, 13, 10, ..., 17, 16,  4], dtype=int8)"
      ]
     },
     "metadata": {},
     "execution_count": 151
    }
   ],
   "source": [
    "from sklearn.naive_bayes import GaussianNB \n",
    "model_NB = GaussianNB()\n",
    "model_NB.fit(X_train,y_train)\n",
    "pred_nb = model_NB.predict(X_test)\n",
    "pred_nb"
   ]
  },
  {
   "cell_type": "code",
   "execution_count": 152,
   "metadata": {},
   "outputs": [
    {
     "output_type": "execute_result",
     "data": {
      "text/plain": [
       "5.2"
      ]
     },
     "metadata": {},
     "execution_count": 152
    }
   ],
   "source": [
    "accuracy_nb = accuracy_score(y_test,pred_nb)\n",
    "accuracy_nb*100"
   ]
  },
  {
   "source": [
    "Smaller samples showed better results with DTs but larger samples showed better results with SVM"
   ],
   "cell_type": "markdown",
   "metadata": {}
  }
 ]
}
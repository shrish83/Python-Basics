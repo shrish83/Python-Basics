{
 "metadata": {
  "language_info": {
   "codemirror_mode": {
    "name": "ipython",
    "version": 3
   },
   "file_extension": ".py",
   "mimetype": "text/x-python",
   "name": "python",
   "nbconvert_exporter": "python",
   "pygments_lexer": "ipython3",
   "version": "3.8.3-final"
  },
  "orig_nbformat": 2,
  "kernelspec": {
   "name": "python38364bit850a066139d0462d8015500887b614ea",
   "display_name": "Python 3.8.3 64-bit",
   "language": "python"
  }
 },
 "nbformat": 4,
 "nbformat_minor": 2,
 "cells": [
  {
   "cell_type": "code",
   "execution_count": 86,
   "metadata": {},
   "outputs": [],
   "source": [
    "import pandas as pd\n",
    "import numpy as np\n",
    "import seaborn as sns\n",
    "import random as rd\n",
    "import matplotlib.pyplot as plt\n",
    "from datetime import datetime as dt "
   ]
  },
  {
   "cell_type": "code",
   "execution_count": 69,
   "metadata": {},
   "outputs": [
    {
     "output_type": "execute_result",
     "data": {
      "text/plain": [
       "(1166835, 9)"
      ]
     },
     "metadata": {},
     "execution_count": 69
    }
   ],
   "source": [
    "data = pd.read_csv(\"booking_train_set.csv\", index_col=0)\n",
    "data.shape"
   ]
  },
  {
   "cell_type": "code",
   "execution_count": 70,
   "metadata": {},
   "outputs": [
    {
     "output_type": "execute_result",
     "data": {
      "text/plain": [
       "   user_id     checkin    checkout  city_id device_class  affiliate_id  \\\n",
       "0  1006220  2016-04-09  2016-04-11    31114      desktop           384   \n",
       "1  1006220  2016-04-11  2016-04-12    39641      desktop           384   \n",
       "2  1006220  2016-04-12  2016-04-16    20232      desktop           384   \n",
       "3  1006220  2016-04-16  2016-04-17    24144      desktop           384   \n",
       "4  1010293  2016-07-09  2016-07-10     5325       mobile           359   \n",
       "\n",
       "         booker_country hotel_country   utrip_id  \n",
       "0                Gondal        Gondal  1006220_1  \n",
       "1                Gondal        Gondal  1006220_1  \n",
       "2                Gondal  Glubbdubdrib  1006220_1  \n",
       "3                Gondal        Gondal  1006220_1  \n",
       "4  The Devilfire Empire  Cobra Island  1010293_1  "
      ],
      "text/html": "<div>\n<style scoped>\n    .dataframe tbody tr th:only-of-type {\n        vertical-align: middle;\n    }\n\n    .dataframe tbody tr th {\n        vertical-align: top;\n    }\n\n    .dataframe thead th {\n        text-align: right;\n    }\n</style>\n<table border=\"1\" class=\"dataframe\">\n  <thead>\n    <tr style=\"text-align: right;\">\n      <th></th>\n      <th>user_id</th>\n      <th>checkin</th>\n      <th>checkout</th>\n      <th>city_id</th>\n      <th>device_class</th>\n      <th>affiliate_id</th>\n      <th>booker_country</th>\n      <th>hotel_country</th>\n      <th>utrip_id</th>\n    </tr>\n  </thead>\n  <tbody>\n    <tr>\n      <th>0</th>\n      <td>1006220</td>\n      <td>2016-04-09</td>\n      <td>2016-04-11</td>\n      <td>31114</td>\n      <td>desktop</td>\n      <td>384</td>\n      <td>Gondal</td>\n      <td>Gondal</td>\n      <td>1006220_1</td>\n    </tr>\n    <tr>\n      <th>1</th>\n      <td>1006220</td>\n      <td>2016-04-11</td>\n      <td>2016-04-12</td>\n      <td>39641</td>\n      <td>desktop</td>\n      <td>384</td>\n      <td>Gondal</td>\n      <td>Gondal</td>\n      <td>1006220_1</td>\n    </tr>\n    <tr>\n      <th>2</th>\n      <td>1006220</td>\n      <td>2016-04-12</td>\n      <td>2016-04-16</td>\n      <td>20232</td>\n      <td>desktop</td>\n      <td>384</td>\n      <td>Gondal</td>\n      <td>Glubbdubdrib</td>\n      <td>1006220_1</td>\n    </tr>\n    <tr>\n      <th>3</th>\n      <td>1006220</td>\n      <td>2016-04-16</td>\n      <td>2016-04-17</td>\n      <td>24144</td>\n      <td>desktop</td>\n      <td>384</td>\n      <td>Gondal</td>\n      <td>Gondal</td>\n      <td>1006220_1</td>\n    </tr>\n    <tr>\n      <th>4</th>\n      <td>1010293</td>\n      <td>2016-07-09</td>\n      <td>2016-07-10</td>\n      <td>5325</td>\n      <td>mobile</td>\n      <td>359</td>\n      <td>The Devilfire Empire</td>\n      <td>Cobra Island</td>\n      <td>1010293_1</td>\n    </tr>\n  </tbody>\n</table>\n</div>"
     },
     "metadata": {},
     "execution_count": 70
    }
   ],
   "source": [
    "data.head()"
   ]
  },
  {
   "cell_type": "code",
   "execution_count": 71,
   "metadata": {},
   "outputs": [
    {
     "output_type": "execute_result",
     "data": {
      "text/plain": [
       "   user_id     checkin    checkout  city_id device_class  affiliate_id  \\\n",
       "0  1006220  2016-04-09  2016-04-11    31114      desktop           384   \n",
       "1  1006220  2016-04-11  2016-04-12    39641      desktop           384   \n",
       "2  1006220  2016-04-12  2016-04-16    20232      desktop           384   \n",
       "3  1006220  2016-04-16  2016-04-17    24144      desktop           384   \n",
       "4  1010293  2016-07-09  2016-07-10     5325       mobile           359   \n",
       "5  1010293  2016-07-10  2016-07-11       55       mobile           359   \n",
       "6  1010293  2016-07-12  2016-07-13    23921       mobile           359   \n",
       "7  1010293  2016-07-13  2016-07-15    65322      desktop          9924   \n",
       "8  1010293  2016-07-15  2016-07-16    23921      desktop          9924   \n",
       "9  1010293  2016-07-16  2016-07-17    20545      desktop         10573   \n",
       "\n",
       "         booker_country hotel_country   utrip_id duration  \n",
       "0                Gondal        Gondal  1006220_1   2 days  \n",
       "1                Gondal        Gondal  1006220_1   1 days  \n",
       "2                Gondal  Glubbdubdrib  1006220_1   4 days  \n",
       "3                Gondal        Gondal  1006220_1   1 days  \n",
       "4  The Devilfire Empire  Cobra Island  1010293_1   1 days  \n",
       "5  The Devilfire Empire  Cobra Island  1010293_1   1 days  \n",
       "6  The Devilfire Empire  Cobra Island  1010293_1   1 days  \n",
       "7  The Devilfire Empire  Cobra Island  1010293_1   2 days  \n",
       "8  The Devilfire Empire  Cobra Island  1010293_1   1 days  \n",
       "9  The Devilfire Empire  Cobra Island  1010293_1   1 days  "
      ],
      "text/html": "<div>\n<style scoped>\n    .dataframe tbody tr th:only-of-type {\n        vertical-align: middle;\n    }\n\n    .dataframe tbody tr th {\n        vertical-align: top;\n    }\n\n    .dataframe thead th {\n        text-align: right;\n    }\n</style>\n<table border=\"1\" class=\"dataframe\">\n  <thead>\n    <tr style=\"text-align: right;\">\n      <th></th>\n      <th>user_id</th>\n      <th>checkin</th>\n      <th>checkout</th>\n      <th>city_id</th>\n      <th>device_class</th>\n      <th>affiliate_id</th>\n      <th>booker_country</th>\n      <th>hotel_country</th>\n      <th>utrip_id</th>\n      <th>duration</th>\n    </tr>\n  </thead>\n  <tbody>\n    <tr>\n      <th>0</th>\n      <td>1006220</td>\n      <td>2016-04-09</td>\n      <td>2016-04-11</td>\n      <td>31114</td>\n      <td>desktop</td>\n      <td>384</td>\n      <td>Gondal</td>\n      <td>Gondal</td>\n      <td>1006220_1</td>\n      <td>2 days</td>\n    </tr>\n    <tr>\n      <th>1</th>\n      <td>1006220</td>\n      <td>2016-04-11</td>\n      <td>2016-04-12</td>\n      <td>39641</td>\n      <td>desktop</td>\n      <td>384</td>\n      <td>Gondal</td>\n      <td>Gondal</td>\n      <td>1006220_1</td>\n      <td>1 days</td>\n    </tr>\n    <tr>\n      <th>2</th>\n      <td>1006220</td>\n      <td>2016-04-12</td>\n      <td>2016-04-16</td>\n      <td>20232</td>\n      <td>desktop</td>\n      <td>384</td>\n      <td>Gondal</td>\n      <td>Glubbdubdrib</td>\n      <td>1006220_1</td>\n      <td>4 days</td>\n    </tr>\n    <tr>\n      <th>3</th>\n      <td>1006220</td>\n      <td>2016-04-16</td>\n      <td>2016-04-17</td>\n      <td>24144</td>\n      <td>desktop</td>\n      <td>384</td>\n      <td>Gondal</td>\n      <td>Gondal</td>\n      <td>1006220_1</td>\n      <td>1 days</td>\n    </tr>\n    <tr>\n      <th>4</th>\n      <td>1010293</td>\n      <td>2016-07-09</td>\n      <td>2016-07-10</td>\n      <td>5325</td>\n      <td>mobile</td>\n      <td>359</td>\n      <td>The Devilfire Empire</td>\n      <td>Cobra Island</td>\n      <td>1010293_1</td>\n      <td>1 days</td>\n    </tr>\n    <tr>\n      <th>5</th>\n      <td>1010293</td>\n      <td>2016-07-10</td>\n      <td>2016-07-11</td>\n      <td>55</td>\n      <td>mobile</td>\n      <td>359</td>\n      <td>The Devilfire Empire</td>\n      <td>Cobra Island</td>\n      <td>1010293_1</td>\n      <td>1 days</td>\n    </tr>\n    <tr>\n      <th>6</th>\n      <td>1010293</td>\n      <td>2016-07-12</td>\n      <td>2016-07-13</td>\n      <td>23921</td>\n      <td>mobile</td>\n      <td>359</td>\n      <td>The Devilfire Empire</td>\n      <td>Cobra Island</td>\n      <td>1010293_1</td>\n      <td>1 days</td>\n    </tr>\n    <tr>\n      <th>7</th>\n      <td>1010293</td>\n      <td>2016-07-13</td>\n      <td>2016-07-15</td>\n      <td>65322</td>\n      <td>desktop</td>\n      <td>9924</td>\n      <td>The Devilfire Empire</td>\n      <td>Cobra Island</td>\n      <td>1010293_1</td>\n      <td>2 days</td>\n    </tr>\n    <tr>\n      <th>8</th>\n      <td>1010293</td>\n      <td>2016-07-15</td>\n      <td>2016-07-16</td>\n      <td>23921</td>\n      <td>desktop</td>\n      <td>9924</td>\n      <td>The Devilfire Empire</td>\n      <td>Cobra Island</td>\n      <td>1010293_1</td>\n      <td>1 days</td>\n    </tr>\n    <tr>\n      <th>9</th>\n      <td>1010293</td>\n      <td>2016-07-16</td>\n      <td>2016-07-17</td>\n      <td>20545</td>\n      <td>desktop</td>\n      <td>10573</td>\n      <td>The Devilfire Empire</td>\n      <td>Cobra Island</td>\n      <td>1010293_1</td>\n      <td>1 days</td>\n    </tr>\n  </tbody>\n</table>\n</div>"
     },
     "metadata": {},
     "execution_count": 71
    }
   ],
   "source": [
    "#print ('Current date/time: {}'.format(dt.now()))\n",
    "checkin = pd.to_datetime(data['checkin'],format='%Y-%m-%d')\n",
    "checkout = pd.to_datetime(data['checkout'],format='%Y-%m-%d')\n",
    "\n",
    "data['duration'] = checkout - checkin\n",
    "#data['month'] = pd.to_datetime(data['checkout'],format='%m')\n",
    "#data['year'] = pd.to_datetime(data['checkout'],format='%Y')\n",
    "\n",
    "data.head(10)"
   ]
  },
  {
   "cell_type": "code",
   "execution_count": 72,
   "metadata": {},
   "outputs": [
    {
     "output_type": "stream",
     "name": "stdout",
     "text": [
      "<class 'pandas.core.frame.DataFrame'>\nInt64Index: 1166835 entries, 0 to 1166834\nData columns (total 10 columns):\n #   Column          Non-Null Count    Dtype \n---  ------          --------------    ----- \n 0   user_id         1166835 non-null  int64 \n 1   checkin         1166835 non-null  object\n 2   checkout        1166835 non-null  object\n 3   city_id         1166835 non-null  int64 \n 4   device_class    1166835 non-null  object\n 5   affiliate_id    1166835 non-null  int64 \n 6   booker_country  1166835 non-null  object\n 7   hotel_country   1166835 non-null  object\n 8   utrip_id        1166835 non-null  object\n 9   duration        1166835 non-null  int64 \ndtypes: int64(4), object(6)\nmemory usage: 97.9+ MB\n"
     ]
    }
   ],
   "source": [
    "#data['duration'].describe()\n",
    "data['duration'] = data['duration'].dt.days\n",
    "data.info()"
   ]
  },
  {
   "cell_type": "code",
   "execution_count": 73,
   "metadata": {},
   "outputs": [
    {
     "output_type": "execute_result",
     "data": {
      "text/plain": [
       "      checkin  city_id device_class  affiliate_id        booker_country  \\\n",
       "0  2016-04-09    31114      desktop           384                Gondal   \n",
       "1  2016-04-11    39641      desktop           384                Gondal   \n",
       "2  2016-04-12    20232      desktop           384                Gondal   \n",
       "3  2016-04-16    24144      desktop           384                Gondal   \n",
       "4  2016-07-09     5325       mobile           359  The Devilfire Empire   \n",
       "\n",
       "  hotel_country   utrip_id  duration  \n",
       "0        Gondal  1006220_1         2  \n",
       "1        Gondal  1006220_1         1  \n",
       "2  Glubbdubdrib  1006220_1         4  \n",
       "3        Gondal  1006220_1         1  \n",
       "4  Cobra Island  1010293_1         1  "
      ],
      "text/html": "<div>\n<style scoped>\n    .dataframe tbody tr th:only-of-type {\n        vertical-align: middle;\n    }\n\n    .dataframe tbody tr th {\n        vertical-align: top;\n    }\n\n    .dataframe thead th {\n        text-align: right;\n    }\n</style>\n<table border=\"1\" class=\"dataframe\">\n  <thead>\n    <tr style=\"text-align: right;\">\n      <th></th>\n      <th>checkin</th>\n      <th>city_id</th>\n      <th>device_class</th>\n      <th>affiliate_id</th>\n      <th>booker_country</th>\n      <th>hotel_country</th>\n      <th>utrip_id</th>\n      <th>duration</th>\n    </tr>\n  </thead>\n  <tbody>\n    <tr>\n      <th>0</th>\n      <td>2016-04-09</td>\n      <td>31114</td>\n      <td>desktop</td>\n      <td>384</td>\n      <td>Gondal</td>\n      <td>Gondal</td>\n      <td>1006220_1</td>\n      <td>2</td>\n    </tr>\n    <tr>\n      <th>1</th>\n      <td>2016-04-11</td>\n      <td>39641</td>\n      <td>desktop</td>\n      <td>384</td>\n      <td>Gondal</td>\n      <td>Gondal</td>\n      <td>1006220_1</td>\n      <td>1</td>\n    </tr>\n    <tr>\n      <th>2</th>\n      <td>2016-04-12</td>\n      <td>20232</td>\n      <td>desktop</td>\n      <td>384</td>\n      <td>Gondal</td>\n      <td>Glubbdubdrib</td>\n      <td>1006220_1</td>\n      <td>4</td>\n    </tr>\n    <tr>\n      <th>3</th>\n      <td>2016-04-16</td>\n      <td>24144</td>\n      <td>desktop</td>\n      <td>384</td>\n      <td>Gondal</td>\n      <td>Gondal</td>\n      <td>1006220_1</td>\n      <td>1</td>\n    </tr>\n    <tr>\n      <th>4</th>\n      <td>2016-07-09</td>\n      <td>5325</td>\n      <td>mobile</td>\n      <td>359</td>\n      <td>The Devilfire Empire</td>\n      <td>Cobra Island</td>\n      <td>1010293_1</td>\n      <td>1</td>\n    </tr>\n  </tbody>\n</table>\n</div>"
     },
     "metadata": {},
     "execution_count": 73
    }
   ],
   "source": [
    "df = data\n",
    "del df['user_id']\n",
    "del df['checkout']\n",
    "df.head()"
   ]
  },
  {
   "cell_type": "code",
   "execution_count": 78,
   "metadata": {},
   "outputs": [
    {
     "output_type": "execute_result",
     "data": {
      "text/plain": [
       "Empty DataFrame\n",
       "Columns: [checkin, city_id, device_class, affiliate_id, booker_country, hotel_country, utrip_id, duration]\n",
       "Index: []"
      ],
      "text/html": "<div>\n<style scoped>\n    .dataframe tbody tr th:only-of-type {\n        vertical-align: middle;\n    }\n\n    .dataframe tbody tr th {\n        vertical-align: top;\n    }\n\n    .dataframe thead th {\n        text-align: right;\n    }\n</style>\n<table border=\"1\" class=\"dataframe\">\n  <thead>\n    <tr style=\"text-align: right;\">\n      <th></th>\n      <th>checkin</th>\n      <th>city_id</th>\n      <th>device_class</th>\n      <th>affiliate_id</th>\n      <th>booker_country</th>\n      <th>hotel_country</th>\n      <th>utrip_id</th>\n      <th>duration</th>\n    </tr>\n  </thead>\n  <tbody>\n  </tbody>\n</table>\n</div>"
     },
     "metadata": {},
     "execution_count": 78
    }
   ],
   "source": [
    "##Checking for nulls\n",
    "df[df.isnull().any(axis=1)]   #none"
   ]
  },
  {
   "cell_type": "code",
   "execution_count": 79,
   "metadata": {},
   "outputs": [
    {
     "output_type": "stream",
     "name": "stdout",
     "text": [
      "<class 'pandas.core.frame.DataFrame'>\nInt64Index: 1166835 entries, 0 to 1166834\nData columns (total 8 columns):\n #   Column          Non-Null Count    Dtype   \n---  ------          --------------    -----   \n 0   checkin         1166835 non-null  object  \n 1   city_id         1166835 non-null  int64   \n 2   device_class    1166835 non-null  category\n 3   affiliate_id    1166835 non-null  int64   \n 4   booker_country  1166835 non-null  category\n 5   hotel_country   1166835 non-null  category\n 6   utrip_id        1166835 non-null  object  \n 7   duration        1166835 non-null  int64   \ndtypes: category(3), int64(3), object(2)\nmemory usage: 57.9+ MB\n"
     ]
    }
   ],
   "source": [
    "df['device_class'] = df['device_class'].astype('category')\n",
    "df[\"booker_country\"] = df['booker_country'].astype('category')\n",
    "df['hotel_country'] = df['hotel_country'].astype('category')\n",
    "df.info()"
   ]
  },
  {
   "cell_type": "code",
   "execution_count": 80,
   "metadata": {},
   "outputs": [
    {
     "output_type": "execute_result",
     "data": {
      "text/plain": [
       "      checkin  city_id  device_class  affiliate_id  booker_country  \\\n",
       "0  2016-04-09    31114             0           384               2   \n",
       "1  2016-04-11    39641             0           384               2   \n",
       "2  2016-04-12    20232             0           384               2   \n",
       "3  2016-04-16    24144             0           384               2   \n",
       "4  2016-07-09     5325             1           359               4   \n",
       "\n",
       "   hotel_country   utrip_id  duration  \n",
       "0             60  1006220_1         2  \n",
       "1             60  1006220_1         1  \n",
       "2             59  1006220_1         4  \n",
       "3             60  1006220_1         1  \n",
       "4             36  1010293_1         1  "
      ],
      "text/html": "<div>\n<style scoped>\n    .dataframe tbody tr th:only-of-type {\n        vertical-align: middle;\n    }\n\n    .dataframe tbody tr th {\n        vertical-align: top;\n    }\n\n    .dataframe thead th {\n        text-align: right;\n    }\n</style>\n<table border=\"1\" class=\"dataframe\">\n  <thead>\n    <tr style=\"text-align: right;\">\n      <th></th>\n      <th>checkin</th>\n      <th>city_id</th>\n      <th>device_class</th>\n      <th>affiliate_id</th>\n      <th>booker_country</th>\n      <th>hotel_country</th>\n      <th>utrip_id</th>\n      <th>duration</th>\n    </tr>\n  </thead>\n  <tbody>\n    <tr>\n      <th>0</th>\n      <td>2016-04-09</td>\n      <td>31114</td>\n      <td>0</td>\n      <td>384</td>\n      <td>2</td>\n      <td>60</td>\n      <td>1006220_1</td>\n      <td>2</td>\n    </tr>\n    <tr>\n      <th>1</th>\n      <td>2016-04-11</td>\n      <td>39641</td>\n      <td>0</td>\n      <td>384</td>\n      <td>2</td>\n      <td>60</td>\n      <td>1006220_1</td>\n      <td>1</td>\n    </tr>\n    <tr>\n      <th>2</th>\n      <td>2016-04-12</td>\n      <td>20232</td>\n      <td>0</td>\n      <td>384</td>\n      <td>2</td>\n      <td>59</td>\n      <td>1006220_1</td>\n      <td>4</td>\n    </tr>\n    <tr>\n      <th>3</th>\n      <td>2016-04-16</td>\n      <td>24144</td>\n      <td>0</td>\n      <td>384</td>\n      <td>2</td>\n      <td>60</td>\n      <td>1006220_1</td>\n      <td>1</td>\n    </tr>\n    <tr>\n      <th>4</th>\n      <td>2016-07-09</td>\n      <td>5325</td>\n      <td>1</td>\n      <td>359</td>\n      <td>4</td>\n      <td>36</td>\n      <td>1010293_1</td>\n      <td>1</td>\n    </tr>\n  </tbody>\n</table>\n</div>"
     },
     "metadata": {},
     "execution_count": 80
    }
   ],
   "source": [
    "df['device_class'] = df['device_class'].cat.codes\n",
    "df[\"booker_country\"] = df['booker_country'].cat.codes\n",
    "df['hotel_country'] = df['hotel_country'].cat.codes\n",
    "df.head()"
   ]
  },
  {
   "cell_type": "code",
   "execution_count": 81,
   "metadata": {},
   "outputs": [
    {
     "output_type": "execute_result",
     "data": {
      "text/plain": [
       "      checkin  city_id  device_class  affiliate_id  booker_country  \\\n",
       "0  2016-04-09    31114             0           384               2   \n",
       "1  2016-04-11    39641             0           384               2   \n",
       "2  2016-04-12    20232             0           384               2   \n",
       "3  2016-04-16    24144             0           384               2   \n",
       "4  2016-07-09     5325             1           359               4   \n",
       "\n",
       "   hotel_country  utrip_id  duration  \n",
       "0             60       248         2  \n",
       "1             60       248         1  \n",
       "2             59       248         4  \n",
       "3             60       248         1  \n",
       "4             36       410         1  "
      ],
      "text/html": "<div>\n<style scoped>\n    .dataframe tbody tr th:only-of-type {\n        vertical-align: middle;\n    }\n\n    .dataframe tbody tr th {\n        vertical-align: top;\n    }\n\n    .dataframe thead th {\n        text-align: right;\n    }\n</style>\n<table border=\"1\" class=\"dataframe\">\n  <thead>\n    <tr style=\"text-align: right;\">\n      <th></th>\n      <th>checkin</th>\n      <th>city_id</th>\n      <th>device_class</th>\n      <th>affiliate_id</th>\n      <th>booker_country</th>\n      <th>hotel_country</th>\n      <th>utrip_id</th>\n      <th>duration</th>\n    </tr>\n  </thead>\n  <tbody>\n    <tr>\n      <th>0</th>\n      <td>2016-04-09</td>\n      <td>31114</td>\n      <td>0</td>\n      <td>384</td>\n      <td>2</td>\n      <td>60</td>\n      <td>248</td>\n      <td>2</td>\n    </tr>\n    <tr>\n      <th>1</th>\n      <td>2016-04-11</td>\n      <td>39641</td>\n      <td>0</td>\n      <td>384</td>\n      <td>2</td>\n      <td>60</td>\n      <td>248</td>\n      <td>1</td>\n    </tr>\n    <tr>\n      <th>2</th>\n      <td>2016-04-12</td>\n      <td>20232</td>\n      <td>0</td>\n      <td>384</td>\n      <td>2</td>\n      <td>59</td>\n      <td>248</td>\n      <td>4</td>\n    </tr>\n    <tr>\n      <th>3</th>\n      <td>2016-04-16</td>\n      <td>24144</td>\n      <td>0</td>\n      <td>384</td>\n      <td>2</td>\n      <td>60</td>\n      <td>248</td>\n      <td>1</td>\n    </tr>\n    <tr>\n      <th>4</th>\n      <td>2016-07-09</td>\n      <td>5325</td>\n      <td>1</td>\n      <td>359</td>\n      <td>4</td>\n      <td>36</td>\n      <td>410</td>\n      <td>1</td>\n    </tr>\n  </tbody>\n</table>\n</div>"
     },
     "metadata": {},
     "execution_count": 81
    }
   ],
   "source": [
    "df['utrip_id'] = df['utrip_id'].astype('category')\n",
    "df['utrip_id'] = df['utrip_id'].cat.codes\n",
    "df.head()"
   ]
  },
  {
   "cell_type": "code",
   "execution_count": 82,
   "metadata": {},
   "outputs": [
    {
     "output_type": "stream",
     "name": "stdout",
     "text": [
      "<class 'pandas.core.frame.DataFrame'>\nInt64Index: 1166835 entries, 0 to 1166834\nData columns (total 8 columns):\n #   Column          Non-Null Count    Dtype \n---  ------          --------------    ----- \n 0   checkin         1166835 non-null  object\n 1   city_id         1166835 non-null  int64 \n 2   device_class    1166835 non-null  int8  \n 3   affiliate_id    1166835 non-null  int64 \n 4   booker_country  1166835 non-null  int8  \n 5   hotel_country   1166835 non-null  int16 \n 6   utrip_id        1166835 non-null  int32 \n 7   duration        1166835 non-null  int64 \ndtypes: int16(1), int32(1), int64(3), int8(2), object(1)\nmemory usage: 53.4+ MB\n"
     ]
    }
   ],
   "source": [
    "df.info()"
   ]
  },
  {
   "cell_type": "code",
   "execution_count": 83,
   "metadata": {},
   "outputs": [
    {
     "output_type": "execute_result",
     "data": {
      "text/plain": [
       "[1, 1, 2, 2, 2, 3, 3, 3, 4, 4, 4, 1]"
      ]
     },
     "metadata": {},
     "execution_count": 83
    }
   ],
   "source": [
    "#Spring 1, Summer 2, Autumn 3, Winter 4\n",
    "[month%12 // 3 + 1 for month in range(1, 13)]"
   ]
  },
  {
   "cell_type": "code",
   "execution_count": 84,
   "metadata": {},
   "outputs": [
    {
     "output_type": "execute_result",
     "data": {
      "text/plain": [
       "   checkin  city_id  device_class  affiliate_id  booker_country  \\\n",
       "0        2    31114             0           384               2   \n",
       "1        2    39641             0           384               2   \n",
       "2        2    20232             0           384               2   \n",
       "3        2    24144             0           384               2   \n",
       "4        3     5325             1           359               4   \n",
       "\n",
       "   hotel_country  utrip_id  duration  \n",
       "0             60       248         2  \n",
       "1             60       248         1  \n",
       "2             59       248         4  \n",
       "3             60       248         1  \n",
       "4             36       410         1  "
      ],
      "text/html": "<div>\n<style scoped>\n    .dataframe tbody tr th:only-of-type {\n        vertical-align: middle;\n    }\n\n    .dataframe tbody tr th {\n        vertical-align: top;\n    }\n\n    .dataframe thead th {\n        text-align: right;\n    }\n</style>\n<table border=\"1\" class=\"dataframe\">\n  <thead>\n    <tr style=\"text-align: right;\">\n      <th></th>\n      <th>checkin</th>\n      <th>city_id</th>\n      <th>device_class</th>\n      <th>affiliate_id</th>\n      <th>booker_country</th>\n      <th>hotel_country</th>\n      <th>utrip_id</th>\n      <th>duration</th>\n    </tr>\n  </thead>\n  <tbody>\n    <tr>\n      <th>0</th>\n      <td>2</td>\n      <td>31114</td>\n      <td>0</td>\n      <td>384</td>\n      <td>2</td>\n      <td>60</td>\n      <td>248</td>\n      <td>2</td>\n    </tr>\n    <tr>\n      <th>1</th>\n      <td>2</td>\n      <td>39641</td>\n      <td>0</td>\n      <td>384</td>\n      <td>2</td>\n      <td>60</td>\n      <td>248</td>\n      <td>1</td>\n    </tr>\n    <tr>\n      <th>2</th>\n      <td>2</td>\n      <td>20232</td>\n      <td>0</td>\n      <td>384</td>\n      <td>2</td>\n      <td>59</td>\n      <td>248</td>\n      <td>4</td>\n    </tr>\n    <tr>\n      <th>3</th>\n      <td>2</td>\n      <td>24144</td>\n      <td>0</td>\n      <td>384</td>\n      <td>2</td>\n      <td>60</td>\n      <td>248</td>\n      <td>1</td>\n    </tr>\n    <tr>\n      <th>4</th>\n      <td>3</td>\n      <td>5325</td>\n      <td>1</td>\n      <td>359</td>\n      <td>4</td>\n      <td>36</td>\n      <td>410</td>\n      <td>1</td>\n    </tr>\n  </tbody>\n</table>\n</div>"
     },
     "metadata": {},
     "execution_count": 84
    }
   ],
   "source": [
    "df['checkin'] = pd.to_datetime(df['checkin'],format='%Y-%m-%d')\n",
    "df['checkin'] = df['checkin'].dt.month%12 // 3 + 1\n",
    "df.head()"
   ]
  },
  {
   "cell_type": "code",
   "execution_count": 85,
   "metadata": {},
   "outputs": [
    {
     "output_type": "stream",
     "name": "stdout",
     "text": [
      "<class 'pandas.core.frame.DataFrame'>\nInt64Index: 1166835 entries, 0 to 1166834\nData columns (total 8 columns):\n #   Column          Non-Null Count    Dtype\n---  ------          --------------    -----\n 0   checkin         1166835 non-null  int64\n 1   city_id         1166835 non-null  int64\n 2   device_class    1166835 non-null  int8 \n 3   affiliate_id    1166835 non-null  int64\n 4   booker_country  1166835 non-null  int8 \n 5   hotel_country   1166835 non-null  int16\n 6   utrip_id        1166835 non-null  int32\n 7   duration        1166835 non-null  int64\ndtypes: int16(1), int32(1), int64(4), int8(2)\nmemory usage: 53.4 MB\n"
     ]
    }
   ],
   "source": [
    "df.info()"
   ]
  },
  {
   "cell_type": "code",
   "execution_count": null,
   "metadata": {},
   "outputs": [],
   "source": []
  }
 ]
}
{
 "metadata": {
  "language_info": {
   "codemirror_mode": {
    "name": "ipython",
    "version": 3
   },
   "file_extension": ".py",
   "mimetype": "text/x-python",
   "name": "python",
   "nbconvert_exporter": "python",
   "pygments_lexer": "ipython3",
   "version": "3.8.3-final"
  },
  "orig_nbformat": 2,
  "kernelspec": {
   "name": "python38364bit850a066139d0462d8015500887b614ea",
   "display_name": "Python 3.8.3 64-bit",
   "language": "python"
  }
 },
 "nbformat": 4,
 "nbformat_minor": 2,
 "cells": [
  {
   "cell_type": "code",
   "execution_count": 1,
   "metadata": {},
   "outputs": [],
   "source": [
    "import pandas as pd\n",
    "import numpy as np\n",
    "import matplotlib.pyplot as plt\n",
    "import seaborn as sns"
   ]
  },
  {
   "cell_type": "code",
   "execution_count": 2,
   "metadata": {},
   "outputs": [
    {
     "output_type": "execute_result",
     "data": {
      "text/plain": [
       "(1166835, 9)"
      ]
     },
     "metadata": {},
     "execution_count": 2
    }
   ],
   "source": [
    "data = pd.read_csv(\"booking_train_set.csv\", index_col=0)\n",
    "data.shape"
   ]
  },
  {
   "cell_type": "code",
   "execution_count": 3,
   "metadata": {},
   "outputs": [
    {
     "output_type": "execute_result",
     "data": {
      "text/plain": [
       "   user_id     checkin    checkout  city_id device_class  affiliate_id  \\\n",
       "0  1006220  2016-04-09  2016-04-11    31114      desktop           384   \n",
       "1  1006220  2016-04-11  2016-04-12    39641      desktop           384   \n",
       "2  1006220  2016-04-12  2016-04-16    20232      desktop           384   \n",
       "3  1006220  2016-04-16  2016-04-17    24144      desktop           384   \n",
       "4  1010293  2016-07-09  2016-07-10     5325       mobile           359   \n",
       "5  1010293  2016-07-10  2016-07-11       55       mobile           359   \n",
       "6  1010293  2016-07-12  2016-07-13    23921       mobile           359   \n",
       "7  1010293  2016-07-13  2016-07-15    65322      desktop          9924   \n",
       "8  1010293  2016-07-15  2016-07-16    23921      desktop          9924   \n",
       "9  1010293  2016-07-16  2016-07-17    20545      desktop         10573   \n",
       "\n",
       "         booker_country hotel_country   utrip_id  \n",
       "0                Gondal        Gondal  1006220_1  \n",
       "1                Gondal        Gondal  1006220_1  \n",
       "2                Gondal  Glubbdubdrib  1006220_1  \n",
       "3                Gondal        Gondal  1006220_1  \n",
       "4  The Devilfire Empire  Cobra Island  1010293_1  \n",
       "5  The Devilfire Empire  Cobra Island  1010293_1  \n",
       "6  The Devilfire Empire  Cobra Island  1010293_1  \n",
       "7  The Devilfire Empire  Cobra Island  1010293_1  \n",
       "8  The Devilfire Empire  Cobra Island  1010293_1  \n",
       "9  The Devilfire Empire  Cobra Island  1010293_1  "
      ],
      "text/html": "<div>\n<style scoped>\n    .dataframe tbody tr th:only-of-type {\n        vertical-align: middle;\n    }\n\n    .dataframe tbody tr th {\n        vertical-align: top;\n    }\n\n    .dataframe thead th {\n        text-align: right;\n    }\n</style>\n<table border=\"1\" class=\"dataframe\">\n  <thead>\n    <tr style=\"text-align: right;\">\n      <th></th>\n      <th>user_id</th>\n      <th>checkin</th>\n      <th>checkout</th>\n      <th>city_id</th>\n      <th>device_class</th>\n      <th>affiliate_id</th>\n      <th>booker_country</th>\n      <th>hotel_country</th>\n      <th>utrip_id</th>\n    </tr>\n  </thead>\n  <tbody>\n    <tr>\n      <th>0</th>\n      <td>1006220</td>\n      <td>2016-04-09</td>\n      <td>2016-04-11</td>\n      <td>31114</td>\n      <td>desktop</td>\n      <td>384</td>\n      <td>Gondal</td>\n      <td>Gondal</td>\n      <td>1006220_1</td>\n    </tr>\n    <tr>\n      <th>1</th>\n      <td>1006220</td>\n      <td>2016-04-11</td>\n      <td>2016-04-12</td>\n      <td>39641</td>\n      <td>desktop</td>\n      <td>384</td>\n      <td>Gondal</td>\n      <td>Gondal</td>\n      <td>1006220_1</td>\n    </tr>\n    <tr>\n      <th>2</th>\n      <td>1006220</td>\n      <td>2016-04-12</td>\n      <td>2016-04-16</td>\n      <td>20232</td>\n      <td>desktop</td>\n      <td>384</td>\n      <td>Gondal</td>\n      <td>Glubbdubdrib</td>\n      <td>1006220_1</td>\n    </tr>\n    <tr>\n      <th>3</th>\n      <td>1006220</td>\n      <td>2016-04-16</td>\n      <td>2016-04-17</td>\n      <td>24144</td>\n      <td>desktop</td>\n      <td>384</td>\n      <td>Gondal</td>\n      <td>Gondal</td>\n      <td>1006220_1</td>\n    </tr>\n    <tr>\n      <th>4</th>\n      <td>1010293</td>\n      <td>2016-07-09</td>\n      <td>2016-07-10</td>\n      <td>5325</td>\n      <td>mobile</td>\n      <td>359</td>\n      <td>The Devilfire Empire</td>\n      <td>Cobra Island</td>\n      <td>1010293_1</td>\n    </tr>\n    <tr>\n      <th>5</th>\n      <td>1010293</td>\n      <td>2016-07-10</td>\n      <td>2016-07-11</td>\n      <td>55</td>\n      <td>mobile</td>\n      <td>359</td>\n      <td>The Devilfire Empire</td>\n      <td>Cobra Island</td>\n      <td>1010293_1</td>\n    </tr>\n    <tr>\n      <th>6</th>\n      <td>1010293</td>\n      <td>2016-07-12</td>\n      <td>2016-07-13</td>\n      <td>23921</td>\n      <td>mobile</td>\n      <td>359</td>\n      <td>The Devilfire Empire</td>\n      <td>Cobra Island</td>\n      <td>1010293_1</td>\n    </tr>\n    <tr>\n      <th>7</th>\n      <td>1010293</td>\n      <td>2016-07-13</td>\n      <td>2016-07-15</td>\n      <td>65322</td>\n      <td>desktop</td>\n      <td>9924</td>\n      <td>The Devilfire Empire</td>\n      <td>Cobra Island</td>\n      <td>1010293_1</td>\n    </tr>\n    <tr>\n      <th>8</th>\n      <td>1010293</td>\n      <td>2016-07-15</td>\n      <td>2016-07-16</td>\n      <td>23921</td>\n      <td>desktop</td>\n      <td>9924</td>\n      <td>The Devilfire Empire</td>\n      <td>Cobra Island</td>\n      <td>1010293_1</td>\n    </tr>\n    <tr>\n      <th>9</th>\n      <td>1010293</td>\n      <td>2016-07-16</td>\n      <td>2016-07-17</td>\n      <td>20545</td>\n      <td>desktop</td>\n      <td>10573</td>\n      <td>The Devilfire Empire</td>\n      <td>Cobra Island</td>\n      <td>1010293_1</td>\n    </tr>\n  </tbody>\n</table>\n</div>"
     },
     "metadata": {},
     "execution_count": 3
    }
   ],
   "source": [
    "data.head(10)"
   ]
  },
  {
   "cell_type": "code",
   "execution_count": 4,
   "metadata": {},
   "outputs": [
    {
     "output_type": "execute_result",
     "data": {
      "text/plain": [
       "         user_id     checkin    checkout  city_id device_class  affiliate_id  \\\n",
       "1166830   999261  2016-09-13  2016-09-15    14197       tablet         10332   \n",
       "1166831   999755  2016-12-13  2016-12-16     4476      desktop          2661   \n",
       "1166832   999755  2016-12-16  2016-12-17     1034      desktop          7974   \n",
       "1166833   999755  2016-12-22  2016-12-25    64876      desktop          7974   \n",
       "1166834   999755  2016-12-25  2016-12-28     9608      desktop          9924   \n",
       "\n",
       "               booker_country hotel_country  utrip_id  \n",
       "1166830                Gondal   Fook Island  999261_1  \n",
       "1166831  The Devilfire Empire        Gondal  999755_1  \n",
       "1166832  The Devilfire Empire        Gondal  999755_1  \n",
       "1166833  The Devilfire Empire   Fook Island  999755_1  \n",
       "1166834  The Devilfire Empire   Fook Island  999755_1  "
      ],
      "text/html": "<div>\n<style scoped>\n    .dataframe tbody tr th:only-of-type {\n        vertical-align: middle;\n    }\n\n    .dataframe tbody tr th {\n        vertical-align: top;\n    }\n\n    .dataframe thead th {\n        text-align: right;\n    }\n</style>\n<table border=\"1\" class=\"dataframe\">\n  <thead>\n    <tr style=\"text-align: right;\">\n      <th></th>\n      <th>user_id</th>\n      <th>checkin</th>\n      <th>checkout</th>\n      <th>city_id</th>\n      <th>device_class</th>\n      <th>affiliate_id</th>\n      <th>booker_country</th>\n      <th>hotel_country</th>\n      <th>utrip_id</th>\n    </tr>\n  </thead>\n  <tbody>\n    <tr>\n      <th>1166830</th>\n      <td>999261</td>\n      <td>2016-09-13</td>\n      <td>2016-09-15</td>\n      <td>14197</td>\n      <td>tablet</td>\n      <td>10332</td>\n      <td>Gondal</td>\n      <td>Fook Island</td>\n      <td>999261_1</td>\n    </tr>\n    <tr>\n      <th>1166831</th>\n      <td>999755</td>\n      <td>2016-12-13</td>\n      <td>2016-12-16</td>\n      <td>4476</td>\n      <td>desktop</td>\n      <td>2661</td>\n      <td>The Devilfire Empire</td>\n      <td>Gondal</td>\n      <td>999755_1</td>\n    </tr>\n    <tr>\n      <th>1166832</th>\n      <td>999755</td>\n      <td>2016-12-16</td>\n      <td>2016-12-17</td>\n      <td>1034</td>\n      <td>desktop</td>\n      <td>7974</td>\n      <td>The Devilfire Empire</td>\n      <td>Gondal</td>\n      <td>999755_1</td>\n    </tr>\n    <tr>\n      <th>1166833</th>\n      <td>999755</td>\n      <td>2016-12-22</td>\n      <td>2016-12-25</td>\n      <td>64876</td>\n      <td>desktop</td>\n      <td>7974</td>\n      <td>The Devilfire Empire</td>\n      <td>Fook Island</td>\n      <td>999755_1</td>\n    </tr>\n    <tr>\n      <th>1166834</th>\n      <td>999755</td>\n      <td>2016-12-25</td>\n      <td>2016-12-28</td>\n      <td>9608</td>\n      <td>desktop</td>\n      <td>9924</td>\n      <td>The Devilfire Empire</td>\n      <td>Fook Island</td>\n      <td>999755_1</td>\n    </tr>\n  </tbody>\n</table>\n</div>"
     },
     "metadata": {},
     "execution_count": 4
    }
   ],
   "source": [
    "data.tail()"
   ]
  },
  {
   "cell_type": "code",
   "execution_count": 5,
   "metadata": {},
   "outputs": [
    {
     "output_type": "execute_result",
     "data": {
      "text/plain": [
       "Index(['user_id', 'checkin', 'checkout', 'city_id', 'device_class',\n",
       "       'affiliate_id', 'booker_country', 'hotel_country', 'utrip_id'],\n",
       "      dtype='object')"
      ]
     },
     "metadata": {},
     "execution_count": 5
    }
   ],
   "source": [
    "data.columns"
   ]
  },
  {
   "cell_type": "code",
   "execution_count": 6,
   "metadata": {},
   "outputs": [
    {
     "output_type": "stream",
     "name": "stdout",
     "text": [
      "Columns with missing value: \n",
      "[]\n"
     ]
    }
   ],
   "source": [
    "#Find columns with Nans \n",
    "print(\"Columns with missing value: \")\n",
    "print(data.columns[data.isnull().any()].tolist())"
   ]
  },
  {
   "cell_type": "code",
   "execution_count": 7,
   "metadata": {},
   "outputs": [
    {
     "output_type": "stream",
     "name": "stdout",
     "text": [
      "user_id           0\ncheckin           0\ncheckout          0\ncity_id           0\ndevice_class      0\naffiliate_id      0\nbooker_country    0\nhotel_country     0\nutrip_id          0\ndtype: int64\n"
     ]
    }
   ],
   "source": [
    "print(data.isnull().sum())"
   ]
  },
  {
   "cell_type": "code",
   "execution_count": 8,
   "metadata": {},
   "outputs": [
    {
     "output_type": "stream",
     "name": "stdout",
     "text": [
      "<class 'pandas.core.frame.DataFrame'>\nInt64Index: 1166835 entries, 0 to 1166834\nData columns (total 9 columns):\n #   Column          Non-Null Count    Dtype \n---  ------          --------------    ----- \n 0   user_id         1166835 non-null  int64 \n 1   checkin         1166835 non-null  object\n 2   checkout        1166835 non-null  object\n 3   city_id         1166835 non-null  int64 \n 4   device_class    1166835 non-null  object\n 5   affiliate_id    1166835 non-null  int64 \n 6   booker_country  1166835 non-null  object\n 7   hotel_country   1166835 non-null  object\n 8   utrip_id        1166835 non-null  object\ndtypes: int64(3), object(6)\nmemory usage: 89.0+ MB\n"
     ]
    }
   ],
   "source": [
    "data.info()"
   ]
  },
  {
   "cell_type": "code",
   "execution_count": 9,
   "metadata": {},
   "outputs": [
    {
     "output_type": "stream",
     "name": "stdout",
     "text": [
      "Unique Vaue Count: \n",
      "user_id = 200153\n",
      "checkin = 425\n",
      "checkout = 425\n",
      "city_id = 39901\n",
      "device_class = 3\n",
      "affiliate_id = 3254\n",
      "booker_country = 5\n",
      "hotel_country = 195\n",
      "utrip_id = 217686\n"
     ]
    }
   ],
   "source": [
    "print(\"Unique Vaue Count: \")\n",
    "cols = data.columns.tolist()\n",
    "for col in cols:\n",
    "    print(col+ \" = \" + str(len(data[col].unique())))"
   ]
  },
  {
   "cell_type": "code",
   "execution_count": 10,
   "metadata": {},
   "outputs": [
    {
     "output_type": "execute_result",
     "data": {
      "text/plain": [
       "            user_id       city_id  affiliate_id\n",
       "count  1.166835e+06  1.166835e+06  1.166835e+06\n",
       "mean   3.129535e+06  3.347059e+04  5.719503e+03\n",
       "std    1.808045e+06  1.958255e+04  3.964435e+03\n",
       "min    2.900000e+01  2.000000e+00  5.000000e+00\n",
       "25%    1.562185e+06  1.701300e+04  9.340000e+02\n",
       "50%    3.126222e+06  3.228200e+04  6.309000e+03\n",
       "75%    4.701432e+06  5.112800e+04  9.924000e+03\n",
       "max    6.258087e+06  6.756500e+04  1.069700e+04"
      ],
      "text/html": "<div>\n<style scoped>\n    .dataframe tbody tr th:only-of-type {\n        vertical-align: middle;\n    }\n\n    .dataframe tbody tr th {\n        vertical-align: top;\n    }\n\n    .dataframe thead th {\n        text-align: right;\n    }\n</style>\n<table border=\"1\" class=\"dataframe\">\n  <thead>\n    <tr style=\"text-align: right;\">\n      <th></th>\n      <th>user_id</th>\n      <th>city_id</th>\n      <th>affiliate_id</th>\n    </tr>\n  </thead>\n  <tbody>\n    <tr>\n      <th>count</th>\n      <td>1.166835e+06</td>\n      <td>1.166835e+06</td>\n      <td>1.166835e+06</td>\n    </tr>\n    <tr>\n      <th>mean</th>\n      <td>3.129535e+06</td>\n      <td>3.347059e+04</td>\n      <td>5.719503e+03</td>\n    </tr>\n    <tr>\n      <th>std</th>\n      <td>1.808045e+06</td>\n      <td>1.958255e+04</td>\n      <td>3.964435e+03</td>\n    </tr>\n    <tr>\n      <th>min</th>\n      <td>2.900000e+01</td>\n      <td>2.000000e+00</td>\n      <td>5.000000e+00</td>\n    </tr>\n    <tr>\n      <th>25%</th>\n      <td>1.562185e+06</td>\n      <td>1.701300e+04</td>\n      <td>9.340000e+02</td>\n    </tr>\n    <tr>\n      <th>50%</th>\n      <td>3.126222e+06</td>\n      <td>3.228200e+04</td>\n      <td>6.309000e+03</td>\n    </tr>\n    <tr>\n      <th>75%</th>\n      <td>4.701432e+06</td>\n      <td>5.112800e+04</td>\n      <td>9.924000e+03</td>\n    </tr>\n    <tr>\n      <th>max</th>\n      <td>6.258087e+06</td>\n      <td>6.756500e+04</td>\n      <td>1.069700e+04</td>\n    </tr>\n  </tbody>\n</table>\n</div>"
     },
     "metadata": {},
     "execution_count": 10
    }
   ],
   "source": [
    "data.describe()"
   ]
  },
  {
   "cell_type": "code",
   "execution_count": 11,
   "metadata": {},
   "outputs": [
    {
     "output_type": "error",
     "ename": "TypeError",
     "evalue": "Neither the `x` nor `y` variable appears to be numeric.",
     "traceback": [
      "\u001b[1;31m---------------------------------------------------------------------------\u001b[0m",
      "\u001b[1;31mTypeError\u001b[0m                                 Traceback (most recent call last)",
      "\u001b[1;32m<ipython-input-11-cf6684ddca15>\u001b[0m in \u001b[0;36m<module>\u001b[1;34m\u001b[0m\n\u001b[1;32m----> 1\u001b[1;33m \u001b[0max\u001b[0m \u001b[1;33m=\u001b[0m \u001b[0msns\u001b[0m\u001b[1;33m.\u001b[0m\u001b[0mbarplot\u001b[0m\u001b[1;33m(\u001b[0m\u001b[0mx\u001b[0m\u001b[1;33m=\u001b[0m\u001b[1;34m\"booker_country\"\u001b[0m\u001b[1;33m,\u001b[0m \u001b[0my\u001b[0m\u001b[1;33m=\u001b[0m\u001b[1;34m\"hotel_country\"\u001b[0m\u001b[1;33m,\u001b[0m \u001b[0mdata\u001b[0m\u001b[1;33m=\u001b[0m\u001b[0mdata\u001b[0m\u001b[1;33m)\u001b[0m\u001b[1;33m\u001b[0m\u001b[1;33m\u001b[0m\u001b[0m\n\u001b[0m\u001b[0;32m      2\u001b[0m \u001b[0mprint\u001b[0m\u001b[1;33m(\u001b[0m\u001b[0max\u001b[0m\u001b[1;33m)\u001b[0m\u001b[1;33m\u001b[0m\u001b[1;33m\u001b[0m\u001b[0m\n",
      "\u001b[1;32m~\\AppData\\Local\\Programs\\Python\\Python38\\lib\\site-packages\\seaborn\\_decorators.py\u001b[0m in \u001b[0;36minner_f\u001b[1;34m(*args, **kwargs)\u001b[0m\n\u001b[0;32m     44\u001b[0m             )\n\u001b[0;32m     45\u001b[0m         \u001b[0mkwargs\u001b[0m\u001b[1;33m.\u001b[0m\u001b[0mupdate\u001b[0m\u001b[1;33m(\u001b[0m\u001b[1;33m{\u001b[0m\u001b[0mk\u001b[0m\u001b[1;33m:\u001b[0m \u001b[0marg\u001b[0m \u001b[1;32mfor\u001b[0m \u001b[0mk\u001b[0m\u001b[1;33m,\u001b[0m \u001b[0marg\u001b[0m \u001b[1;32min\u001b[0m \u001b[0mzip\u001b[0m\u001b[1;33m(\u001b[0m\u001b[0msig\u001b[0m\u001b[1;33m.\u001b[0m\u001b[0mparameters\u001b[0m\u001b[1;33m,\u001b[0m \u001b[0margs\u001b[0m\u001b[1;33m)\u001b[0m\u001b[1;33m}\u001b[0m\u001b[1;33m)\u001b[0m\u001b[1;33m\u001b[0m\u001b[1;33m\u001b[0m\u001b[0m\n\u001b[1;32m---> 46\u001b[1;33m         \u001b[1;32mreturn\u001b[0m \u001b[0mf\u001b[0m\u001b[1;33m(\u001b[0m\u001b[1;33m**\u001b[0m\u001b[0mkwargs\u001b[0m\u001b[1;33m)\u001b[0m\u001b[1;33m\u001b[0m\u001b[1;33m\u001b[0m\u001b[0m\n\u001b[0m\u001b[0;32m     47\u001b[0m     \u001b[1;32mreturn\u001b[0m \u001b[0minner_f\u001b[0m\u001b[1;33m\u001b[0m\u001b[1;33m\u001b[0m\u001b[0m\n\u001b[0;32m     48\u001b[0m \u001b[1;33m\u001b[0m\u001b[0m\n",
      "\u001b[1;32m~\\AppData\\Local\\Programs\\Python\\Python38\\lib\\site-packages\\seaborn\\categorical.py\u001b[0m in \u001b[0;36mbarplot\u001b[1;34m(x, y, hue, data, order, hue_order, estimator, ci, n_boot, units, seed, orient, color, palette, saturation, errcolor, errwidth, capsize, dodge, ax, **kwargs)\u001b[0m\n\u001b[0;32m   3167\u001b[0m ):\n\u001b[0;32m   3168\u001b[0m \u001b[1;33m\u001b[0m\u001b[0m\n\u001b[1;32m-> 3169\u001b[1;33m     plotter = _BarPlotter(x, y, hue, data, order, hue_order,\n\u001b[0m\u001b[0;32m   3170\u001b[0m                           \u001b[0mestimator\u001b[0m\u001b[1;33m,\u001b[0m \u001b[0mci\u001b[0m\u001b[1;33m,\u001b[0m \u001b[0mn_boot\u001b[0m\u001b[1;33m,\u001b[0m \u001b[0munits\u001b[0m\u001b[1;33m,\u001b[0m \u001b[0mseed\u001b[0m\u001b[1;33m,\u001b[0m\u001b[1;33m\u001b[0m\u001b[1;33m\u001b[0m\u001b[0m\n\u001b[0;32m   3171\u001b[0m                           \u001b[0morient\u001b[0m\u001b[1;33m,\u001b[0m \u001b[0mcolor\u001b[0m\u001b[1;33m,\u001b[0m \u001b[0mpalette\u001b[0m\u001b[1;33m,\u001b[0m \u001b[0msaturation\u001b[0m\u001b[1;33m,\u001b[0m\u001b[1;33m\u001b[0m\u001b[1;33m\u001b[0m\u001b[0m\n",
      "\u001b[1;32m~\\AppData\\Local\\Programs\\Python\\Python38\\lib\\site-packages\\seaborn\\categorical.py\u001b[0m in \u001b[0;36m__init__\u001b[1;34m(self, x, y, hue, data, order, hue_order, estimator, ci, n_boot, units, seed, orient, color, palette, saturation, errcolor, errwidth, capsize, dodge)\u001b[0m\n\u001b[0;32m   1582\u001b[0m                  errwidth, capsize, dodge):\n\u001b[0;32m   1583\u001b[0m         \u001b[1;34m\"\"\"Initialize the plotter.\"\"\"\u001b[0m\u001b[1;33m\u001b[0m\u001b[1;33m\u001b[0m\u001b[0m\n\u001b[1;32m-> 1584\u001b[1;33m         self.establish_variables(x, y, hue, data, orient,\n\u001b[0m\u001b[0;32m   1585\u001b[0m                                  order, hue_order, units)\n\u001b[0;32m   1586\u001b[0m         \u001b[0mself\u001b[0m\u001b[1;33m.\u001b[0m\u001b[0mestablish_colors\u001b[0m\u001b[1;33m(\u001b[0m\u001b[0mcolor\u001b[0m\u001b[1;33m,\u001b[0m \u001b[0mpalette\u001b[0m\u001b[1;33m,\u001b[0m \u001b[0msaturation\u001b[0m\u001b[1;33m)\u001b[0m\u001b[1;33m\u001b[0m\u001b[1;33m\u001b[0m\u001b[0m\n",
      "\u001b[1;32m~\\AppData\\Local\\Programs\\Python\\Python38\\lib\\site-packages\\seaborn\\categorical.py\u001b[0m in \u001b[0;36mestablish_variables\u001b[1;34m(self, x, y, hue, data, orient, order, hue_order, units)\u001b[0m\n\u001b[0;32m    154\u001b[0m \u001b[1;33m\u001b[0m\u001b[0m\n\u001b[0;32m    155\u001b[0m             \u001b[1;31m# Figure out the plotting orientation\u001b[0m\u001b[1;33m\u001b[0m\u001b[1;33m\u001b[0m\u001b[1;33m\u001b[0m\u001b[0m\n\u001b[1;32m--> 156\u001b[1;33m             orient = infer_orient(\n\u001b[0m\u001b[0;32m    157\u001b[0m                 \u001b[0mx\u001b[0m\u001b[1;33m,\u001b[0m \u001b[0my\u001b[0m\u001b[1;33m,\u001b[0m \u001b[0morient\u001b[0m\u001b[1;33m,\u001b[0m \u001b[0mrequire_numeric\u001b[0m\u001b[1;33m=\u001b[0m\u001b[0mself\u001b[0m\u001b[1;33m.\u001b[0m\u001b[0mrequire_numeric\u001b[0m\u001b[1;33m\u001b[0m\u001b[1;33m\u001b[0m\u001b[0m\n\u001b[0;32m    158\u001b[0m             )\n",
      "\u001b[1;32m~\\AppData\\Local\\Programs\\Python\\Python38\\lib\\site-packages\\seaborn\\_core.py\u001b[0m in \u001b[0;36minfer_orient\u001b[1;34m(x, y, orient, require_numeric)\u001b[0m\n\u001b[0;32m   1327\u001b[0m     \u001b[1;32melif\u001b[0m \u001b[0mrequire_numeric\u001b[0m \u001b[1;32mand\u001b[0m \u001b[1;34m\"numeric\"\u001b[0m \u001b[1;32mnot\u001b[0m \u001b[1;32min\u001b[0m \u001b[1;33m(\u001b[0m\u001b[0mx_type\u001b[0m\u001b[1;33m,\u001b[0m \u001b[0my_type\u001b[0m\u001b[1;33m)\u001b[0m\u001b[1;33m:\u001b[0m\u001b[1;33m\u001b[0m\u001b[1;33m\u001b[0m\u001b[0m\n\u001b[0;32m   1328\u001b[0m         \u001b[0merr\u001b[0m \u001b[1;33m=\u001b[0m \u001b[1;34m\"Neither the `x` nor `y` variable appears to be numeric.\"\u001b[0m\u001b[1;33m\u001b[0m\u001b[1;33m\u001b[0m\u001b[0m\n\u001b[1;32m-> 1329\u001b[1;33m         \u001b[1;32mraise\u001b[0m \u001b[0mTypeError\u001b[0m\u001b[1;33m(\u001b[0m\u001b[0merr\u001b[0m\u001b[1;33m)\u001b[0m\u001b[1;33m\u001b[0m\u001b[1;33m\u001b[0m\u001b[0m\n\u001b[0m\u001b[0;32m   1330\u001b[0m \u001b[1;33m\u001b[0m\u001b[0m\n\u001b[0;32m   1331\u001b[0m     \u001b[1;32melse\u001b[0m\u001b[1;33m:\u001b[0m\u001b[1;33m\u001b[0m\u001b[1;33m\u001b[0m\u001b[0m\n",
      "\u001b[1;31mTypeError\u001b[0m: Neither the `x` nor `y` variable appears to be numeric."
     ]
    }
   ],
   "source": [
    "ax = sns.barplot(x=\"booker_country\", y=\"hotel_country\", data=data)\n",
    "print(ax)"
   ]
  },
  {
   "cell_type": "code",
   "execution_count": null,
   "metadata": {},
   "outputs": [],
   "source": []
  }
 ]
}
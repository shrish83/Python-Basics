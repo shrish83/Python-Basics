{
 "metadata": {
  "language_info": {
   "codemirror_mode": {
    "name": "ipython",
    "version": 3
   },
   "file_extension": ".py",
   "mimetype": "text/x-python",
   "name": "python",
   "nbconvert_exporter": "python",
   "pygments_lexer": "ipython3",
   "version": "3.8.3-final"
  },
  "orig_nbformat": 2,
  "kernelspec": {
   "name": "python38364bit850a066139d0462d8015500887b614ea",
   "display_name": "Python 3.8.3 64-bit",
   "language": "python"
  }
 },
 "nbformat": 4,
 "nbformat_minor": 2,
 "cells": [
  {
   "cell_type": "code",
   "execution_count": 1,
   "metadata": {},
   "outputs": [],
   "source": [
    "import pandas as pd\n",
    "import numpy as np\n",
    "import matplotlib.pyplot as plt\n",
    "import seaborn as sns\n",
    "from datetime import datetime as dt "
   ]
  },
  {
   "cell_type": "code",
   "execution_count": 2,
   "metadata": {},
   "outputs": [
    {
     "output_type": "execute_result",
     "data": {
      "text/plain": [
       "(1166835, 9)"
      ]
     },
     "metadata": {},
     "execution_count": 2
    }
   ],
   "source": [
    "data = pd.read_csv(\"booking_train_set.csv\", index_col=0)\n",
    "data.shape"
   ]
  },
  {
   "cell_type": "code",
   "execution_count": 3,
   "metadata": {},
   "outputs": [
    {
     "output_type": "execute_result",
     "data": {
      "text/plain": [
       "   user_id     checkin    checkout  city_id device_class  affiliate_id  \\\n",
       "0  1006220  2016-04-09  2016-04-11    31114      desktop           384   \n",
       "1  1006220  2016-04-11  2016-04-12    39641      desktop           384   \n",
       "2  1006220  2016-04-12  2016-04-16    20232      desktop           384   \n",
       "3  1006220  2016-04-16  2016-04-17    24144      desktop           384   \n",
       "4  1010293  2016-07-09  2016-07-10     5325       mobile           359   \n",
       "5  1010293  2016-07-10  2016-07-11       55       mobile           359   \n",
       "6  1010293  2016-07-12  2016-07-13    23921       mobile           359   \n",
       "7  1010293  2016-07-13  2016-07-15    65322      desktop          9924   \n",
       "8  1010293  2016-07-15  2016-07-16    23921      desktop          9924   \n",
       "9  1010293  2016-07-16  2016-07-17    20545      desktop         10573   \n",
       "\n",
       "         booker_country hotel_country   utrip_id  \n",
       "0                Gondal        Gondal  1006220_1  \n",
       "1                Gondal        Gondal  1006220_1  \n",
       "2                Gondal  Glubbdubdrib  1006220_1  \n",
       "3                Gondal        Gondal  1006220_1  \n",
       "4  The Devilfire Empire  Cobra Island  1010293_1  \n",
       "5  The Devilfire Empire  Cobra Island  1010293_1  \n",
       "6  The Devilfire Empire  Cobra Island  1010293_1  \n",
       "7  The Devilfire Empire  Cobra Island  1010293_1  \n",
       "8  The Devilfire Empire  Cobra Island  1010293_1  \n",
       "9  The Devilfire Empire  Cobra Island  1010293_1  "
      ],
      "text/html": "<div>\n<style scoped>\n    .dataframe tbody tr th:only-of-type {\n        vertical-align: middle;\n    }\n\n    .dataframe tbody tr th {\n        vertical-align: top;\n    }\n\n    .dataframe thead th {\n        text-align: right;\n    }\n</style>\n<table border=\"1\" class=\"dataframe\">\n  <thead>\n    <tr style=\"text-align: right;\">\n      <th></th>\n      <th>user_id</th>\n      <th>checkin</th>\n      <th>checkout</th>\n      <th>city_id</th>\n      <th>device_class</th>\n      <th>affiliate_id</th>\n      <th>booker_country</th>\n      <th>hotel_country</th>\n      <th>utrip_id</th>\n    </tr>\n  </thead>\n  <tbody>\n    <tr>\n      <th>0</th>\n      <td>1006220</td>\n      <td>2016-04-09</td>\n      <td>2016-04-11</td>\n      <td>31114</td>\n      <td>desktop</td>\n      <td>384</td>\n      <td>Gondal</td>\n      <td>Gondal</td>\n      <td>1006220_1</td>\n    </tr>\n    <tr>\n      <th>1</th>\n      <td>1006220</td>\n      <td>2016-04-11</td>\n      <td>2016-04-12</td>\n      <td>39641</td>\n      <td>desktop</td>\n      <td>384</td>\n      <td>Gondal</td>\n      <td>Gondal</td>\n      <td>1006220_1</td>\n    </tr>\n    <tr>\n      <th>2</th>\n      <td>1006220</td>\n      <td>2016-04-12</td>\n      <td>2016-04-16</td>\n      <td>20232</td>\n      <td>desktop</td>\n      <td>384</td>\n      <td>Gondal</td>\n      <td>Glubbdubdrib</td>\n      <td>1006220_1</td>\n    </tr>\n    <tr>\n      <th>3</th>\n      <td>1006220</td>\n      <td>2016-04-16</td>\n      <td>2016-04-17</td>\n      <td>24144</td>\n      <td>desktop</td>\n      <td>384</td>\n      <td>Gondal</td>\n      <td>Gondal</td>\n      <td>1006220_1</td>\n    </tr>\n    <tr>\n      <th>4</th>\n      <td>1010293</td>\n      <td>2016-07-09</td>\n      <td>2016-07-10</td>\n      <td>5325</td>\n      <td>mobile</td>\n      <td>359</td>\n      <td>The Devilfire Empire</td>\n      <td>Cobra Island</td>\n      <td>1010293_1</td>\n    </tr>\n    <tr>\n      <th>5</th>\n      <td>1010293</td>\n      <td>2016-07-10</td>\n      <td>2016-07-11</td>\n      <td>55</td>\n      <td>mobile</td>\n      <td>359</td>\n      <td>The Devilfire Empire</td>\n      <td>Cobra Island</td>\n      <td>1010293_1</td>\n    </tr>\n    <tr>\n      <th>6</th>\n      <td>1010293</td>\n      <td>2016-07-12</td>\n      <td>2016-07-13</td>\n      <td>23921</td>\n      <td>mobile</td>\n      <td>359</td>\n      <td>The Devilfire Empire</td>\n      <td>Cobra Island</td>\n      <td>1010293_1</td>\n    </tr>\n    <tr>\n      <th>7</th>\n      <td>1010293</td>\n      <td>2016-07-13</td>\n      <td>2016-07-15</td>\n      <td>65322</td>\n      <td>desktop</td>\n      <td>9924</td>\n      <td>The Devilfire Empire</td>\n      <td>Cobra Island</td>\n      <td>1010293_1</td>\n    </tr>\n    <tr>\n      <th>8</th>\n      <td>1010293</td>\n      <td>2016-07-15</td>\n      <td>2016-07-16</td>\n      <td>23921</td>\n      <td>desktop</td>\n      <td>9924</td>\n      <td>The Devilfire Empire</td>\n      <td>Cobra Island</td>\n      <td>1010293_1</td>\n    </tr>\n    <tr>\n      <th>9</th>\n      <td>1010293</td>\n      <td>2016-07-16</td>\n      <td>2016-07-17</td>\n      <td>20545</td>\n      <td>desktop</td>\n      <td>10573</td>\n      <td>The Devilfire Empire</td>\n      <td>Cobra Island</td>\n      <td>1010293_1</td>\n    </tr>\n  </tbody>\n</table>\n</div>"
     },
     "metadata": {},
     "execution_count": 3
    }
   ],
   "source": [
    "data.head(10)"
   ]
  },
  {
   "cell_type": "code",
   "execution_count": 4,
   "metadata": {},
   "outputs": [
    {
     "output_type": "execute_result",
     "data": {
      "text/plain": [
       "         user_id     checkin    checkout  city_id device_class  affiliate_id  \\\n",
       "1166830   999261  2016-09-13  2016-09-15    14197       tablet         10332   \n",
       "1166831   999755  2016-12-13  2016-12-16     4476      desktop          2661   \n",
       "1166832   999755  2016-12-16  2016-12-17     1034      desktop          7974   \n",
       "1166833   999755  2016-12-22  2016-12-25    64876      desktop          7974   \n",
       "1166834   999755  2016-12-25  2016-12-28     9608      desktop          9924   \n",
       "\n",
       "               booker_country hotel_country  utrip_id  \n",
       "1166830                Gondal   Fook Island  999261_1  \n",
       "1166831  The Devilfire Empire        Gondal  999755_1  \n",
       "1166832  The Devilfire Empire        Gondal  999755_1  \n",
       "1166833  The Devilfire Empire   Fook Island  999755_1  \n",
       "1166834  The Devilfire Empire   Fook Island  999755_1  "
      ],
      "text/html": "<div>\n<style scoped>\n    .dataframe tbody tr th:only-of-type {\n        vertical-align: middle;\n    }\n\n    .dataframe tbody tr th {\n        vertical-align: top;\n    }\n\n    .dataframe thead th {\n        text-align: right;\n    }\n</style>\n<table border=\"1\" class=\"dataframe\">\n  <thead>\n    <tr style=\"text-align: right;\">\n      <th></th>\n      <th>user_id</th>\n      <th>checkin</th>\n      <th>checkout</th>\n      <th>city_id</th>\n      <th>device_class</th>\n      <th>affiliate_id</th>\n      <th>booker_country</th>\n      <th>hotel_country</th>\n      <th>utrip_id</th>\n    </tr>\n  </thead>\n  <tbody>\n    <tr>\n      <th>1166830</th>\n      <td>999261</td>\n      <td>2016-09-13</td>\n      <td>2016-09-15</td>\n      <td>14197</td>\n      <td>tablet</td>\n      <td>10332</td>\n      <td>Gondal</td>\n      <td>Fook Island</td>\n      <td>999261_1</td>\n    </tr>\n    <tr>\n      <th>1166831</th>\n      <td>999755</td>\n      <td>2016-12-13</td>\n      <td>2016-12-16</td>\n      <td>4476</td>\n      <td>desktop</td>\n      <td>2661</td>\n      <td>The Devilfire Empire</td>\n      <td>Gondal</td>\n      <td>999755_1</td>\n    </tr>\n    <tr>\n      <th>1166832</th>\n      <td>999755</td>\n      <td>2016-12-16</td>\n      <td>2016-12-17</td>\n      <td>1034</td>\n      <td>desktop</td>\n      <td>7974</td>\n      <td>The Devilfire Empire</td>\n      <td>Gondal</td>\n      <td>999755_1</td>\n    </tr>\n    <tr>\n      <th>1166833</th>\n      <td>999755</td>\n      <td>2016-12-22</td>\n      <td>2016-12-25</td>\n      <td>64876</td>\n      <td>desktop</td>\n      <td>7974</td>\n      <td>The Devilfire Empire</td>\n      <td>Fook Island</td>\n      <td>999755_1</td>\n    </tr>\n    <tr>\n      <th>1166834</th>\n      <td>999755</td>\n      <td>2016-12-25</td>\n      <td>2016-12-28</td>\n      <td>9608</td>\n      <td>desktop</td>\n      <td>9924</td>\n      <td>The Devilfire Empire</td>\n      <td>Fook Island</td>\n      <td>999755_1</td>\n    </tr>\n  </tbody>\n</table>\n</div>"
     },
     "metadata": {},
     "execution_count": 4
    }
   ],
   "source": [
    "data.tail()"
   ]
  },
  {
   "cell_type": "code",
   "execution_count": 5,
   "metadata": {},
   "outputs": [
    {
     "output_type": "execute_result",
     "data": {
      "text/plain": [
       "Index(['user_id', 'checkin', 'checkout', 'city_id', 'device_class',\n",
       "       'affiliate_id', 'booker_country', 'hotel_country', 'utrip_id'],\n",
       "      dtype='object')"
      ]
     },
     "metadata": {},
     "execution_count": 5
    }
   ],
   "source": [
    "data.columns"
   ]
  },
  {
   "cell_type": "code",
   "execution_count": 6,
   "metadata": {},
   "outputs": [
    {
     "output_type": "stream",
     "name": "stdout",
     "text": [
      "Columns with missing value: \n",
      "[]\n"
     ]
    }
   ],
   "source": [
    "#Find columns with Nans \n",
    "print(\"Columns with missing value: \")\n",
    "print(data.columns[data.isnull().any()].tolist())"
   ]
  },
  {
   "cell_type": "code",
   "execution_count": 7,
   "metadata": {},
   "outputs": [
    {
     "output_type": "stream",
     "name": "stdout",
     "text": [
      "user_id           0\ncheckin           0\ncheckout          0\ncity_id           0\ndevice_class      0\naffiliate_id      0\nbooker_country    0\nhotel_country     0\nutrip_id          0\ndtype: int64\n"
     ]
    }
   ],
   "source": [
    "print(data.isnull().sum())"
   ]
  },
  {
   "cell_type": "code",
   "execution_count": 8,
   "metadata": {},
   "outputs": [
    {
     "output_type": "stream",
     "name": "stdout",
     "text": [
      "<class 'pandas.core.frame.DataFrame'>\nInt64Index: 1166835 entries, 0 to 1166834\nData columns (total 9 columns):\n #   Column          Non-Null Count    Dtype \n---  ------          --------------    ----- \n 0   user_id         1166835 non-null  int64 \n 1   checkin         1166835 non-null  object\n 2   checkout        1166835 non-null  object\n 3   city_id         1166835 non-null  int64 \n 4   device_class    1166835 non-null  object\n 5   affiliate_id    1166835 non-null  int64 \n 6   booker_country  1166835 non-null  object\n 7   hotel_country   1166835 non-null  object\n 8   utrip_id        1166835 non-null  object\ndtypes: int64(3), object(6)\nmemory usage: 89.0+ MB\n"
     ]
    }
   ],
   "source": [
    "data.info()"
   ]
  },
  {
   "cell_type": "code",
   "execution_count": 9,
   "metadata": {},
   "outputs": [
    {
     "output_type": "stream",
     "name": "stdout",
     "text": [
      "Unique Vaue Count: \n",
      "user_id = 200153\n",
      "checkin = 425\n",
      "checkout = 425\n",
      "city_id = 39901\n",
      "device_class = 3\n",
      "affiliate_id = 3254\n",
      "booker_country = 5\n",
      "hotel_country = 195\n",
      "utrip_id = 217686\n"
     ]
    }
   ],
   "source": [
    "print(\"Unique Vaue Count: \")\n",
    "cols = data.columns.tolist()\n",
    "for col in cols:\n",
    "    print(col+ \" = \" + str(len(data[col].unique())))"
   ]
  },
  {
   "cell_type": "code",
   "execution_count": 10,
   "metadata": {},
   "outputs": [
    {
     "output_type": "execute_result",
     "data": {
      "text/plain": [
       "            user_id       city_id  affiliate_id\n",
       "count  1.166835e+06  1.166835e+06  1.166835e+06\n",
       "mean   3.129535e+06  3.347059e+04  5.719503e+03\n",
       "std    1.808045e+06  1.958255e+04  3.964435e+03\n",
       "min    2.900000e+01  2.000000e+00  5.000000e+00\n",
       "25%    1.562185e+06  1.701300e+04  9.340000e+02\n",
       "50%    3.126222e+06  3.228200e+04  6.309000e+03\n",
       "75%    4.701432e+06  5.112800e+04  9.924000e+03\n",
       "max    6.258087e+06  6.756500e+04  1.069700e+04"
      ],
      "text/html": "<div>\n<style scoped>\n    .dataframe tbody tr th:only-of-type {\n        vertical-align: middle;\n    }\n\n    .dataframe tbody tr th {\n        vertical-align: top;\n    }\n\n    .dataframe thead th {\n        text-align: right;\n    }\n</style>\n<table border=\"1\" class=\"dataframe\">\n  <thead>\n    <tr style=\"text-align: right;\">\n      <th></th>\n      <th>user_id</th>\n      <th>city_id</th>\n      <th>affiliate_id</th>\n    </tr>\n  </thead>\n  <tbody>\n    <tr>\n      <th>count</th>\n      <td>1.166835e+06</td>\n      <td>1.166835e+06</td>\n      <td>1.166835e+06</td>\n    </tr>\n    <tr>\n      <th>mean</th>\n      <td>3.129535e+06</td>\n      <td>3.347059e+04</td>\n      <td>5.719503e+03</td>\n    </tr>\n    <tr>\n      <th>std</th>\n      <td>1.808045e+06</td>\n      <td>1.958255e+04</td>\n      <td>3.964435e+03</td>\n    </tr>\n    <tr>\n      <th>min</th>\n      <td>2.900000e+01</td>\n      <td>2.000000e+00</td>\n      <td>5.000000e+00</td>\n    </tr>\n    <tr>\n      <th>25%</th>\n      <td>1.562185e+06</td>\n      <td>1.701300e+04</td>\n      <td>9.340000e+02</td>\n    </tr>\n    <tr>\n      <th>50%</th>\n      <td>3.126222e+06</td>\n      <td>3.228200e+04</td>\n      <td>6.309000e+03</td>\n    </tr>\n    <tr>\n      <th>75%</th>\n      <td>4.701432e+06</td>\n      <td>5.112800e+04</td>\n      <td>9.924000e+03</td>\n    </tr>\n    <tr>\n      <th>max</th>\n      <td>6.258087e+06</td>\n      <td>6.756500e+04</td>\n      <td>1.069700e+04</td>\n    </tr>\n  </tbody>\n</table>\n</div>"
     },
     "metadata": {},
     "execution_count": 10
    }
   ],
   "source": [
    "data.describe()"
   ]
  },
  {
   "cell_type": "code",
   "execution_count": 11,
   "metadata": {},
   "outputs": [
    {
     "output_type": "execute_result",
     "data": {
      "text/plain": [
       "         user_id     checkin    checkout  city_id device_class  affiliate_id  \\\n",
       "1166831   999755  2016-12-13  2016-12-16     4476      desktop          2661   \n",
       "1166832   999755  2016-12-16  2016-12-17     1034      desktop          7974   \n",
       "1166833   999755  2016-12-22  2016-12-25    64876      desktop          7974   \n",
       "1166834   999755  2016-12-25  2016-12-28     9608      desktop          9924   \n",
       "\n",
       "               booker_country hotel_country  utrip_id  \n",
       "1166831  The Devilfire Empire        Gondal  999755_1  \n",
       "1166832  The Devilfire Empire        Gondal  999755_1  \n",
       "1166833  The Devilfire Empire   Fook Island  999755_1  \n",
       "1166834  The Devilfire Empire   Fook Island  999755_1  "
      ],
      "text/html": "<div>\n<style scoped>\n    .dataframe tbody tr th:only-of-type {\n        vertical-align: middle;\n    }\n\n    .dataframe tbody tr th {\n        vertical-align: top;\n    }\n\n    .dataframe thead th {\n        text-align: right;\n    }\n</style>\n<table border=\"1\" class=\"dataframe\">\n  <thead>\n    <tr style=\"text-align: right;\">\n      <th></th>\n      <th>user_id</th>\n      <th>checkin</th>\n      <th>checkout</th>\n      <th>city_id</th>\n      <th>device_class</th>\n      <th>affiliate_id</th>\n      <th>booker_country</th>\n      <th>hotel_country</th>\n      <th>utrip_id</th>\n    </tr>\n  </thead>\n  <tbody>\n    <tr>\n      <th>1166831</th>\n      <td>999755</td>\n      <td>2016-12-13</td>\n      <td>2016-12-16</td>\n      <td>4476</td>\n      <td>desktop</td>\n      <td>2661</td>\n      <td>The Devilfire Empire</td>\n      <td>Gondal</td>\n      <td>999755_1</td>\n    </tr>\n    <tr>\n      <th>1166832</th>\n      <td>999755</td>\n      <td>2016-12-16</td>\n      <td>2016-12-17</td>\n      <td>1034</td>\n      <td>desktop</td>\n      <td>7974</td>\n      <td>The Devilfire Empire</td>\n      <td>Gondal</td>\n      <td>999755_1</td>\n    </tr>\n    <tr>\n      <th>1166833</th>\n      <td>999755</td>\n      <td>2016-12-22</td>\n      <td>2016-12-25</td>\n      <td>64876</td>\n      <td>desktop</td>\n      <td>7974</td>\n      <td>The Devilfire Empire</td>\n      <td>Fook Island</td>\n      <td>999755_1</td>\n    </tr>\n    <tr>\n      <th>1166834</th>\n      <td>999755</td>\n      <td>2016-12-25</td>\n      <td>2016-12-28</td>\n      <td>9608</td>\n      <td>desktop</td>\n      <td>9924</td>\n      <td>The Devilfire Empire</td>\n      <td>Fook Island</td>\n      <td>999755_1</td>\n    </tr>\n  </tbody>\n</table>\n</div>"
     },
     "metadata": {},
     "execution_count": 11
    }
   ],
   "source": [
    "data.loc[data['utrip_id'] == '999755_1']  #So. they visited two different cities in Gondal and another two in Fook Island since city_id is different and so are the check in and check out dates."
   ]
  },
  {
   "cell_type": "code",
   "execution_count": 12,
   "metadata": {},
   "outputs": [
    {
     "output_type": "execute_result",
     "data": {
      "text/plain": [
       "   user_id     checkin    checkout  city_id device_class  affiliate_id  \\\n",
       "0  1006220  2016-04-09  2016-04-11    31114      desktop           384   \n",
       "1  1006220  2016-04-11  2016-04-12    39641      desktop           384   \n",
       "2  1006220  2016-04-12  2016-04-16    20232      desktop           384   \n",
       "3  1006220  2016-04-16  2016-04-17    24144      desktop           384   \n",
       "4  1010293  2016-07-09  2016-07-10     5325       mobile           359   \n",
       "5  1010293  2016-07-10  2016-07-11       55       mobile           359   \n",
       "6  1010293  2016-07-12  2016-07-13    23921       mobile           359   \n",
       "7  1010293  2016-07-13  2016-07-15    65322      desktop          9924   \n",
       "8  1010293  2016-07-15  2016-07-16    23921      desktop          9924   \n",
       "9  1010293  2016-07-16  2016-07-17    20545      desktop         10573   \n",
       "\n",
       "         booker_country hotel_country   utrip_id duration  \n",
       "0                Gondal        Gondal  1006220_1   2 days  \n",
       "1                Gondal        Gondal  1006220_1   1 days  \n",
       "2                Gondal  Glubbdubdrib  1006220_1   4 days  \n",
       "3                Gondal        Gondal  1006220_1   1 days  \n",
       "4  The Devilfire Empire  Cobra Island  1010293_1   1 days  \n",
       "5  The Devilfire Empire  Cobra Island  1010293_1   1 days  \n",
       "6  The Devilfire Empire  Cobra Island  1010293_1   1 days  \n",
       "7  The Devilfire Empire  Cobra Island  1010293_1   2 days  \n",
       "8  The Devilfire Empire  Cobra Island  1010293_1   1 days  \n",
       "9  The Devilfire Empire  Cobra Island  1010293_1   1 days  "
      ],
      "text/html": "<div>\n<style scoped>\n    .dataframe tbody tr th:only-of-type {\n        vertical-align: middle;\n    }\n\n    .dataframe tbody tr th {\n        vertical-align: top;\n    }\n\n    .dataframe thead th {\n        text-align: right;\n    }\n</style>\n<table border=\"1\" class=\"dataframe\">\n  <thead>\n    <tr style=\"text-align: right;\">\n      <th></th>\n      <th>user_id</th>\n      <th>checkin</th>\n      <th>checkout</th>\n      <th>city_id</th>\n      <th>device_class</th>\n      <th>affiliate_id</th>\n      <th>booker_country</th>\n      <th>hotel_country</th>\n      <th>utrip_id</th>\n      <th>duration</th>\n    </tr>\n  </thead>\n  <tbody>\n    <tr>\n      <th>0</th>\n      <td>1006220</td>\n      <td>2016-04-09</td>\n      <td>2016-04-11</td>\n      <td>31114</td>\n      <td>desktop</td>\n      <td>384</td>\n      <td>Gondal</td>\n      <td>Gondal</td>\n      <td>1006220_1</td>\n      <td>2 days</td>\n    </tr>\n    <tr>\n      <th>1</th>\n      <td>1006220</td>\n      <td>2016-04-11</td>\n      <td>2016-04-12</td>\n      <td>39641</td>\n      <td>desktop</td>\n      <td>384</td>\n      <td>Gondal</td>\n      <td>Gondal</td>\n      <td>1006220_1</td>\n      <td>1 days</td>\n    </tr>\n    <tr>\n      <th>2</th>\n      <td>1006220</td>\n      <td>2016-04-12</td>\n      <td>2016-04-16</td>\n      <td>20232</td>\n      <td>desktop</td>\n      <td>384</td>\n      <td>Gondal</td>\n      <td>Glubbdubdrib</td>\n      <td>1006220_1</td>\n      <td>4 days</td>\n    </tr>\n    <tr>\n      <th>3</th>\n      <td>1006220</td>\n      <td>2016-04-16</td>\n      <td>2016-04-17</td>\n      <td>24144</td>\n      <td>desktop</td>\n      <td>384</td>\n      <td>Gondal</td>\n      <td>Gondal</td>\n      <td>1006220_1</td>\n      <td>1 days</td>\n    </tr>\n    <tr>\n      <th>4</th>\n      <td>1010293</td>\n      <td>2016-07-09</td>\n      <td>2016-07-10</td>\n      <td>5325</td>\n      <td>mobile</td>\n      <td>359</td>\n      <td>The Devilfire Empire</td>\n      <td>Cobra Island</td>\n      <td>1010293_1</td>\n      <td>1 days</td>\n    </tr>\n    <tr>\n      <th>5</th>\n      <td>1010293</td>\n      <td>2016-07-10</td>\n      <td>2016-07-11</td>\n      <td>55</td>\n      <td>mobile</td>\n      <td>359</td>\n      <td>The Devilfire Empire</td>\n      <td>Cobra Island</td>\n      <td>1010293_1</td>\n      <td>1 days</td>\n    </tr>\n    <tr>\n      <th>6</th>\n      <td>1010293</td>\n      <td>2016-07-12</td>\n      <td>2016-07-13</td>\n      <td>23921</td>\n      <td>mobile</td>\n      <td>359</td>\n      <td>The Devilfire Empire</td>\n      <td>Cobra Island</td>\n      <td>1010293_1</td>\n      <td>1 days</td>\n    </tr>\n    <tr>\n      <th>7</th>\n      <td>1010293</td>\n      <td>2016-07-13</td>\n      <td>2016-07-15</td>\n      <td>65322</td>\n      <td>desktop</td>\n      <td>9924</td>\n      <td>The Devilfire Empire</td>\n      <td>Cobra Island</td>\n      <td>1010293_1</td>\n      <td>2 days</td>\n    </tr>\n    <tr>\n      <th>8</th>\n      <td>1010293</td>\n      <td>2016-07-15</td>\n      <td>2016-07-16</td>\n      <td>23921</td>\n      <td>desktop</td>\n      <td>9924</td>\n      <td>The Devilfire Empire</td>\n      <td>Cobra Island</td>\n      <td>1010293_1</td>\n      <td>1 days</td>\n    </tr>\n    <tr>\n      <th>9</th>\n      <td>1010293</td>\n      <td>2016-07-16</td>\n      <td>2016-07-17</td>\n      <td>20545</td>\n      <td>desktop</td>\n      <td>10573</td>\n      <td>The Devilfire Empire</td>\n      <td>Cobra Island</td>\n      <td>1010293_1</td>\n      <td>1 days</td>\n    </tr>\n  </tbody>\n</table>\n</div>"
     },
     "metadata": {},
     "execution_count": 12
    }
   ],
   "source": [
    "#print ('Current date/time: {}'.format(dt.now()))\n",
    "checkin = pd.to_datetime(data['checkin'],format='%Y-%m-%d')\n",
    "checkout = pd.to_datetime(data['checkout'],format='%Y-%m-%d')\n",
    "\n",
    "data['duration'] = checkout - checkin\n",
    "#data['month'] = pd.to_datetime(data['checkout'],format='%m')\n",
    "#data['year'] = pd.to_datetime(data['checkout'],format='%Y')\n",
    "\n",
    "data.head(10)"
   ]
  },
  {
   "cell_type": "code",
   "execution_count": 17,
   "metadata": {},
   "outputs": [
    {
     "output_type": "execute_result",
     "data": {
      "text/plain": [
       "     user_id     checkin    checkout  city_id device_class  affiliate_id  \\\n",
       "0    1006220  2016-04-09  2016-04-11    31114      desktop           384   \n",
       "1    1006220  2016-04-11  2016-04-12    39641      desktop           384   \n",
       "3    1006220  2016-04-16  2016-04-17    24144      desktop           384   \n",
       "37   1047687  2016-08-21  2016-08-22    67353       mobile          8132   \n",
       "38   1047687  2016-08-22  2016-08-23    14145       mobile          8132   \n",
       "39   1047687  2016-08-23  2016-08-24    11531       mobile          8132   \n",
       "40   1047687  2016-08-24  2016-08-25    57167       mobile          9924   \n",
       "41   1047687  2016-08-25  2016-08-26    29770       mobile          9924   \n",
       "57    106415  2016-05-10  2016-05-11    36063       mobile          5755   \n",
       "58    106415  2016-05-11  2016-05-12    36063       mobile          9598   \n",
       "59    106415  2016-05-12  2016-05-13    36063       mobile          9598   \n",
       "60    106415  2016-05-13  2016-05-14    36063       mobile          9598   \n",
       "61    106415  2016-05-14  2016-05-15    36063       mobile          9598   \n",
       "62    106415  2016-05-15  2016-05-16    36063       mobile          9598   \n",
       "63    106415  2016-05-16  2016-05-17    36063       mobile          9598   \n",
       "95   1118748  2016-08-12  2016-08-13    49412      desktop          9924   \n",
       "137  1182903  2016-11-22  2016-11-23    35990       mobile          4503   \n",
       "243  1318264  2016-12-11  2016-12-12     5085       mobile          9924   \n",
       "244  1318264  2016-12-12  2016-12-13     1034       mobile          9924   \n",
       "245  1318264  2016-12-13  2016-12-14    19425       mobile          9924   \n",
       "\n",
       "    booker_country hotel_country    utrip_id duration  \n",
       "0           Gondal        Gondal   1006220_1   2 days  \n",
       "1           Gondal        Gondal   1006220_1   1 days  \n",
       "3           Gondal        Gondal   1006220_1   1 days  \n",
       "37         Elbonia       Elbonia   1047687_3   1 days  \n",
       "38         Elbonia       Elbonia   1047687_3   1 days  \n",
       "39         Elbonia       Elbonia   1047687_3   1 days  \n",
       "40         Elbonia       Elbonia   1047687_3   1 days  \n",
       "41         Elbonia       Elbonia   1047687_3   1 days  \n",
       "57          Gondal        Gondal   106415_10   1 days  \n",
       "58          Gondal        Gondal   106415_10   1 days  \n",
       "59          Gondal        Gondal   106415_10   1 days  \n",
       "60          Gondal        Gondal   106415_10   1 days  \n",
       "61          Gondal        Gondal   106415_10   1 days  \n",
       "62          Gondal        Gondal   106415_10   1 days  \n",
       "63          Gondal        Gondal   106415_10   1 days  \n",
       "95         Elbonia       Elbonia   1118748_1   1 days  \n",
       "137         Gondal        Gondal   1182903_2   1 days  \n",
       "243         Gondal        Gondal  1318264_11   1 days  \n",
       "244         Gondal        Gondal  1318264_11   1 days  \n",
       "245         Gondal        Gondal  1318264_11   1 days  "
      ],
      "text/html": "<div>\n<style scoped>\n    .dataframe tbody tr th:only-of-type {\n        vertical-align: middle;\n    }\n\n    .dataframe tbody tr th {\n        vertical-align: top;\n    }\n\n    .dataframe thead th {\n        text-align: right;\n    }\n</style>\n<table border=\"1\" class=\"dataframe\">\n  <thead>\n    <tr style=\"text-align: right;\">\n      <th></th>\n      <th>user_id</th>\n      <th>checkin</th>\n      <th>checkout</th>\n      <th>city_id</th>\n      <th>device_class</th>\n      <th>affiliate_id</th>\n      <th>booker_country</th>\n      <th>hotel_country</th>\n      <th>utrip_id</th>\n      <th>duration</th>\n    </tr>\n  </thead>\n  <tbody>\n    <tr>\n      <th>0</th>\n      <td>1006220</td>\n      <td>2016-04-09</td>\n      <td>2016-04-11</td>\n      <td>31114</td>\n      <td>desktop</td>\n      <td>384</td>\n      <td>Gondal</td>\n      <td>Gondal</td>\n      <td>1006220_1</td>\n      <td>2 days</td>\n    </tr>\n    <tr>\n      <th>1</th>\n      <td>1006220</td>\n      <td>2016-04-11</td>\n      <td>2016-04-12</td>\n      <td>39641</td>\n      <td>desktop</td>\n      <td>384</td>\n      <td>Gondal</td>\n      <td>Gondal</td>\n      <td>1006220_1</td>\n      <td>1 days</td>\n    </tr>\n    <tr>\n      <th>3</th>\n      <td>1006220</td>\n      <td>2016-04-16</td>\n      <td>2016-04-17</td>\n      <td>24144</td>\n      <td>desktop</td>\n      <td>384</td>\n      <td>Gondal</td>\n      <td>Gondal</td>\n      <td>1006220_1</td>\n      <td>1 days</td>\n    </tr>\n    <tr>\n      <th>37</th>\n      <td>1047687</td>\n      <td>2016-08-21</td>\n      <td>2016-08-22</td>\n      <td>67353</td>\n      <td>mobile</td>\n      <td>8132</td>\n      <td>Elbonia</td>\n      <td>Elbonia</td>\n      <td>1047687_3</td>\n      <td>1 days</td>\n    </tr>\n    <tr>\n      <th>38</th>\n      <td>1047687</td>\n      <td>2016-08-22</td>\n      <td>2016-08-23</td>\n      <td>14145</td>\n      <td>mobile</td>\n      <td>8132</td>\n      <td>Elbonia</td>\n      <td>Elbonia</td>\n      <td>1047687_3</td>\n      <td>1 days</td>\n    </tr>\n    <tr>\n      <th>39</th>\n      <td>1047687</td>\n      <td>2016-08-23</td>\n      <td>2016-08-24</td>\n      <td>11531</td>\n      <td>mobile</td>\n      <td>8132</td>\n      <td>Elbonia</td>\n      <td>Elbonia</td>\n      <td>1047687_3</td>\n      <td>1 days</td>\n    </tr>\n    <tr>\n      <th>40</th>\n      <td>1047687</td>\n      <td>2016-08-24</td>\n      <td>2016-08-25</td>\n      <td>57167</td>\n      <td>mobile</td>\n      <td>9924</td>\n      <td>Elbonia</td>\n      <td>Elbonia</td>\n      <td>1047687_3</td>\n      <td>1 days</td>\n    </tr>\n    <tr>\n      <th>41</th>\n      <td>1047687</td>\n      <td>2016-08-25</td>\n      <td>2016-08-26</td>\n      <td>29770</td>\n      <td>mobile</td>\n      <td>9924</td>\n      <td>Elbonia</td>\n      <td>Elbonia</td>\n      <td>1047687_3</td>\n      <td>1 days</td>\n    </tr>\n    <tr>\n      <th>57</th>\n      <td>106415</td>\n      <td>2016-05-10</td>\n      <td>2016-05-11</td>\n      <td>36063</td>\n      <td>mobile</td>\n      <td>5755</td>\n      <td>Gondal</td>\n      <td>Gondal</td>\n      <td>106415_10</td>\n      <td>1 days</td>\n    </tr>\n    <tr>\n      <th>58</th>\n      <td>106415</td>\n      <td>2016-05-11</td>\n      <td>2016-05-12</td>\n      <td>36063</td>\n      <td>mobile</td>\n      <td>9598</td>\n      <td>Gondal</td>\n      <td>Gondal</td>\n      <td>106415_10</td>\n      <td>1 days</td>\n    </tr>\n    <tr>\n      <th>59</th>\n      <td>106415</td>\n      <td>2016-05-12</td>\n      <td>2016-05-13</td>\n      <td>36063</td>\n      <td>mobile</td>\n      <td>9598</td>\n      <td>Gondal</td>\n      <td>Gondal</td>\n      <td>106415_10</td>\n      <td>1 days</td>\n    </tr>\n    <tr>\n      <th>60</th>\n      <td>106415</td>\n      <td>2016-05-13</td>\n      <td>2016-05-14</td>\n      <td>36063</td>\n      <td>mobile</td>\n      <td>9598</td>\n      <td>Gondal</td>\n      <td>Gondal</td>\n      <td>106415_10</td>\n      <td>1 days</td>\n    </tr>\n    <tr>\n      <th>61</th>\n      <td>106415</td>\n      <td>2016-05-14</td>\n      <td>2016-05-15</td>\n      <td>36063</td>\n      <td>mobile</td>\n      <td>9598</td>\n      <td>Gondal</td>\n      <td>Gondal</td>\n      <td>106415_10</td>\n      <td>1 days</td>\n    </tr>\n    <tr>\n      <th>62</th>\n      <td>106415</td>\n      <td>2016-05-15</td>\n      <td>2016-05-16</td>\n      <td>36063</td>\n      <td>mobile</td>\n      <td>9598</td>\n      <td>Gondal</td>\n      <td>Gondal</td>\n      <td>106415_10</td>\n      <td>1 days</td>\n    </tr>\n    <tr>\n      <th>63</th>\n      <td>106415</td>\n      <td>2016-05-16</td>\n      <td>2016-05-17</td>\n      <td>36063</td>\n      <td>mobile</td>\n      <td>9598</td>\n      <td>Gondal</td>\n      <td>Gondal</td>\n      <td>106415_10</td>\n      <td>1 days</td>\n    </tr>\n    <tr>\n      <th>95</th>\n      <td>1118748</td>\n      <td>2016-08-12</td>\n      <td>2016-08-13</td>\n      <td>49412</td>\n      <td>desktop</td>\n      <td>9924</td>\n      <td>Elbonia</td>\n      <td>Elbonia</td>\n      <td>1118748_1</td>\n      <td>1 days</td>\n    </tr>\n    <tr>\n      <th>137</th>\n      <td>1182903</td>\n      <td>2016-11-22</td>\n      <td>2016-11-23</td>\n      <td>35990</td>\n      <td>mobile</td>\n      <td>4503</td>\n      <td>Gondal</td>\n      <td>Gondal</td>\n      <td>1182903_2</td>\n      <td>1 days</td>\n    </tr>\n    <tr>\n      <th>243</th>\n      <td>1318264</td>\n      <td>2016-12-11</td>\n      <td>2016-12-12</td>\n      <td>5085</td>\n      <td>mobile</td>\n      <td>9924</td>\n      <td>Gondal</td>\n      <td>Gondal</td>\n      <td>1318264_11</td>\n      <td>1 days</td>\n    </tr>\n    <tr>\n      <th>244</th>\n      <td>1318264</td>\n      <td>2016-12-12</td>\n      <td>2016-12-13</td>\n      <td>1034</td>\n      <td>mobile</td>\n      <td>9924</td>\n      <td>Gondal</td>\n      <td>Gondal</td>\n      <td>1318264_11</td>\n      <td>1 days</td>\n    </tr>\n    <tr>\n      <th>245</th>\n      <td>1318264</td>\n      <td>2016-12-13</td>\n      <td>2016-12-14</td>\n      <td>19425</td>\n      <td>mobile</td>\n      <td>9924</td>\n      <td>Gondal</td>\n      <td>Gondal</td>\n      <td>1318264_11</td>\n      <td>1 days</td>\n    </tr>\n  </tbody>\n</table>\n</div>"
     },
     "metadata": {},
     "execution_count": 17
    }
   ],
   "source": [
    "##Local tourists\n",
    "localData = data.loc[data['hotel_country']==data['booker_country']]\n",
    "localData.head(20)"
   ]
  },
  {
   "cell_type": "code",
   "execution_count": 24,
   "metadata": {},
   "outputs": [
    {
     "output_type": "execute_result",
     "data": {
      "text/plain": [
       "(111890, 10)"
      ]
     },
     "metadata": {},
     "execution_count": 24
    }
   ],
   "source": [
    "localData.shape"
   ]
  },
  {
   "cell_type": "code",
   "execution_count": 13,
   "metadata": {},
   "outputs": [
    {
     "output_type": "execute_result",
     "data": {
      "text/plain": [
       "    user_id     checkin    checkout  city_id device_class  affiliate_id  \\\n",
       "2   1006220  2016-04-12  2016-04-16    20232      desktop           384   \n",
       "4   1010293  2016-07-09  2016-07-10     5325       mobile           359   \n",
       "5   1010293  2016-07-10  2016-07-11       55       mobile           359   \n",
       "6   1010293  2016-07-12  2016-07-13    23921       mobile           359   \n",
       "7   1010293  2016-07-13  2016-07-15    65322      desktop          9924   \n",
       "8   1010293  2016-07-15  2016-07-16    23921      desktop          9924   \n",
       "9   1010293  2016-07-16  2016-07-17    20545      desktop         10573   \n",
       "10  1012680  2016-10-23  2016-10-25    37709      desktop           384   \n",
       "11  1012680  2016-10-25  2016-10-27    11837      desktop           384   \n",
       "12  1012680  2016-10-27  2016-10-30    19626      desktop           384   \n",
       "\n",
       "          booker_country hotel_country   utrip_id duration  \n",
       "2                 Gondal  Glubbdubdrib  1006220_1   4 days  \n",
       "4   The Devilfire Empire  Cobra Island  1010293_1   1 days  \n",
       "5   The Devilfire Empire  Cobra Island  1010293_1   1 days  \n",
       "6   The Devilfire Empire  Cobra Island  1010293_1   1 days  \n",
       "7   The Devilfire Empire  Cobra Island  1010293_1   2 days  \n",
       "8   The Devilfire Empire  Cobra Island  1010293_1   1 days  \n",
       "9   The Devilfire Empire  Cobra Island  1010293_1   1 days  \n",
       "10                Gondal         Yerba  1012680_1   2 days  \n",
       "11                Gondal         Panem  1012680_1   2 days  \n",
       "12                Gondal         Yerba  1012680_1   3 days  "
      ],
      "text/html": "<div>\n<style scoped>\n    .dataframe tbody tr th:only-of-type {\n        vertical-align: middle;\n    }\n\n    .dataframe tbody tr th {\n        vertical-align: top;\n    }\n\n    .dataframe thead th {\n        text-align: right;\n    }\n</style>\n<table border=\"1\" class=\"dataframe\">\n  <thead>\n    <tr style=\"text-align: right;\">\n      <th></th>\n      <th>user_id</th>\n      <th>checkin</th>\n      <th>checkout</th>\n      <th>city_id</th>\n      <th>device_class</th>\n      <th>affiliate_id</th>\n      <th>booker_country</th>\n      <th>hotel_country</th>\n      <th>utrip_id</th>\n      <th>duration</th>\n    </tr>\n  </thead>\n  <tbody>\n    <tr>\n      <th>2</th>\n      <td>1006220</td>\n      <td>2016-04-12</td>\n      <td>2016-04-16</td>\n      <td>20232</td>\n      <td>desktop</td>\n      <td>384</td>\n      <td>Gondal</td>\n      <td>Glubbdubdrib</td>\n      <td>1006220_1</td>\n      <td>4 days</td>\n    </tr>\n    <tr>\n      <th>4</th>\n      <td>1010293</td>\n      <td>2016-07-09</td>\n      <td>2016-07-10</td>\n      <td>5325</td>\n      <td>mobile</td>\n      <td>359</td>\n      <td>The Devilfire Empire</td>\n      <td>Cobra Island</td>\n      <td>1010293_1</td>\n      <td>1 days</td>\n    </tr>\n    <tr>\n      <th>5</th>\n      <td>1010293</td>\n      <td>2016-07-10</td>\n      <td>2016-07-11</td>\n      <td>55</td>\n      <td>mobile</td>\n      <td>359</td>\n      <td>The Devilfire Empire</td>\n      <td>Cobra Island</td>\n      <td>1010293_1</td>\n      <td>1 days</td>\n    </tr>\n    <tr>\n      <th>6</th>\n      <td>1010293</td>\n      <td>2016-07-12</td>\n      <td>2016-07-13</td>\n      <td>23921</td>\n      <td>mobile</td>\n      <td>359</td>\n      <td>The Devilfire Empire</td>\n      <td>Cobra Island</td>\n      <td>1010293_1</td>\n      <td>1 days</td>\n    </tr>\n    <tr>\n      <th>7</th>\n      <td>1010293</td>\n      <td>2016-07-13</td>\n      <td>2016-07-15</td>\n      <td>65322</td>\n      <td>desktop</td>\n      <td>9924</td>\n      <td>The Devilfire Empire</td>\n      <td>Cobra Island</td>\n      <td>1010293_1</td>\n      <td>2 days</td>\n    </tr>\n    <tr>\n      <th>8</th>\n      <td>1010293</td>\n      <td>2016-07-15</td>\n      <td>2016-07-16</td>\n      <td>23921</td>\n      <td>desktop</td>\n      <td>9924</td>\n      <td>The Devilfire Empire</td>\n      <td>Cobra Island</td>\n      <td>1010293_1</td>\n      <td>1 days</td>\n    </tr>\n    <tr>\n      <th>9</th>\n      <td>1010293</td>\n      <td>2016-07-16</td>\n      <td>2016-07-17</td>\n      <td>20545</td>\n      <td>desktop</td>\n      <td>10573</td>\n      <td>The Devilfire Empire</td>\n      <td>Cobra Island</td>\n      <td>1010293_1</td>\n      <td>1 days</td>\n    </tr>\n    <tr>\n      <th>10</th>\n      <td>1012680</td>\n      <td>2016-10-23</td>\n      <td>2016-10-25</td>\n      <td>37709</td>\n      <td>desktop</td>\n      <td>384</td>\n      <td>Gondal</td>\n      <td>Yerba</td>\n      <td>1012680_1</td>\n      <td>2 days</td>\n    </tr>\n    <tr>\n      <th>11</th>\n      <td>1012680</td>\n      <td>2016-10-25</td>\n      <td>2016-10-27</td>\n      <td>11837</td>\n      <td>desktop</td>\n      <td>384</td>\n      <td>Gondal</td>\n      <td>Panem</td>\n      <td>1012680_1</td>\n      <td>2 days</td>\n    </tr>\n    <tr>\n      <th>12</th>\n      <td>1012680</td>\n      <td>2016-10-27</td>\n      <td>2016-10-30</td>\n      <td>19626</td>\n      <td>desktop</td>\n      <td>384</td>\n      <td>Gondal</td>\n      <td>Yerba</td>\n      <td>1012680_1</td>\n      <td>3 days</td>\n    </tr>\n  </tbody>\n</table>\n</div>"
     },
     "metadata": {},
     "execution_count": 13
    }
   ],
   "source": [
    "#non local tourists\n",
    "nonLocalData = data.loc[data['hotel_country']!=data['booker_country']]\n",
    "nonLocalData.head(10)"
   ]
  },
  {
   "cell_type": "code",
   "execution_count": 14,
   "metadata": {},
   "outputs": [
    {
     "output_type": "execute_result",
     "data": {
      "text/plain": [
       "       user_id  checkin  checkout  city_id  device_class  affiliate_id  \\\n",
       "False  1054945  1054945   1054945  1054945       1054945       1054945   \n",
       "True    111890   111890    111890   111890        111890        111890   \n",
       "\n",
       "       booker_country  hotel_country  utrip_id  duration  \n",
       "False         1054945        1054945   1054945   1054945  \n",
       "True           111890         111890    111890    111890  "
      ],
      "text/html": "<div>\n<style scoped>\n    .dataframe tbody tr th:only-of-type {\n        vertical-align: middle;\n    }\n\n    .dataframe tbody tr th {\n        vertical-align: top;\n    }\n\n    .dataframe thead th {\n        text-align: right;\n    }\n</style>\n<table border=\"1\" class=\"dataframe\">\n  <thead>\n    <tr style=\"text-align: right;\">\n      <th></th>\n      <th>user_id</th>\n      <th>checkin</th>\n      <th>checkout</th>\n      <th>city_id</th>\n      <th>device_class</th>\n      <th>affiliate_id</th>\n      <th>booker_country</th>\n      <th>hotel_country</th>\n      <th>utrip_id</th>\n      <th>duration</th>\n    </tr>\n  </thead>\n  <tbody>\n    <tr>\n      <th>False</th>\n      <td>1054945</td>\n      <td>1054945</td>\n      <td>1054945</td>\n      <td>1054945</td>\n      <td>1054945</td>\n      <td>1054945</td>\n      <td>1054945</td>\n      <td>1054945</td>\n      <td>1054945</td>\n      <td>1054945</td>\n    </tr>\n    <tr>\n      <th>True</th>\n      <td>111890</td>\n      <td>111890</td>\n      <td>111890</td>\n      <td>111890</td>\n      <td>111890</td>\n      <td>111890</td>\n      <td>111890</td>\n      <td>111890</td>\n      <td>111890</td>\n      <td>111890</td>\n    </tr>\n  </tbody>\n</table>\n</div>"
     },
     "metadata": {},
     "execution_count": 14
    }
   ],
   "source": [
    "data.groupby(data['hotel_country']==data['booker_country']).count()  ## total no. of entries: 1166835 (true+false)\n",
    "                                                                     ##True: no. local tourists entries: 111890\n",
    "                                                                     ##False: non -local tourists entries: 1054945 "
   ]
  },
  {
   "cell_type": "code",
   "execution_count": 15,
   "metadata": {},
   "outputs": [
    {
     "output_type": "execute_result",
     "data": {
      "text/plain": [
       "           user_id  checkin  checkout  city_id  device_class  affiliate_id  \\\n",
       "utrip_id                                                                     \n",
       "1000027_1        4        4         4        4             4             4   \n",
       "1000033_1        5        5         5        5             5             5   \n",
       "1000045_1        7        7         7        7             7             7   \n",
       "1000083_1        4        4         4        4             4             4   \n",
       "100008_1         5        5         5        5             5             5   \n",
       "...            ...      ...       ...      ...           ...           ...   \n",
       "999776_1         4        4         4        4             4             4   \n",
       "999839_1         4        4         4        4             4             4   \n",
       "999842_1         4        4         4        4             4             4   \n",
       "999855_1        15       15        15       15            15            15   \n",
       "999944_1         4        4         4        4             4             4   \n",
       "\n",
       "           booker_country  hotel_country  duration  \n",
       "utrip_id                                            \n",
       "1000027_1               4              4         4  \n",
       "1000033_1               5              5         5  \n",
       "1000045_1               7              7         7  \n",
       "1000083_1               4              4         4  \n",
       "100008_1                5              5         5  \n",
       "...                   ...            ...       ...  \n",
       "999776_1                4              4         4  \n",
       "999839_1                4              4         4  \n",
       "999842_1                4              4         4  \n",
       "999855_1               15             15        15  \n",
       "999944_1                4              4         4  \n",
       "\n",
       "[217686 rows x 9 columns]"
      ],
      "text/html": "<div>\n<style scoped>\n    .dataframe tbody tr th:only-of-type {\n        vertical-align: middle;\n    }\n\n    .dataframe tbody tr th {\n        vertical-align: top;\n    }\n\n    .dataframe thead th {\n        text-align: right;\n    }\n</style>\n<table border=\"1\" class=\"dataframe\">\n  <thead>\n    <tr style=\"text-align: right;\">\n      <th></th>\n      <th>user_id</th>\n      <th>checkin</th>\n      <th>checkout</th>\n      <th>city_id</th>\n      <th>device_class</th>\n      <th>affiliate_id</th>\n      <th>booker_country</th>\n      <th>hotel_country</th>\n      <th>duration</th>\n    </tr>\n    <tr>\n      <th>utrip_id</th>\n      <th></th>\n      <th></th>\n      <th></th>\n      <th></th>\n      <th></th>\n      <th></th>\n      <th></th>\n      <th></th>\n      <th></th>\n    </tr>\n  </thead>\n  <tbody>\n    <tr>\n      <th>1000027_1</th>\n      <td>4</td>\n      <td>4</td>\n      <td>4</td>\n      <td>4</td>\n      <td>4</td>\n      <td>4</td>\n      <td>4</td>\n      <td>4</td>\n      <td>4</td>\n    </tr>\n    <tr>\n      <th>1000033_1</th>\n      <td>5</td>\n      <td>5</td>\n      <td>5</td>\n      <td>5</td>\n      <td>5</td>\n      <td>5</td>\n      <td>5</td>\n      <td>5</td>\n      <td>5</td>\n    </tr>\n    <tr>\n      <th>1000045_1</th>\n      <td>7</td>\n      <td>7</td>\n      <td>7</td>\n      <td>7</td>\n      <td>7</td>\n      <td>7</td>\n      <td>7</td>\n      <td>7</td>\n      <td>7</td>\n    </tr>\n    <tr>\n      <th>1000083_1</th>\n      <td>4</td>\n      <td>4</td>\n      <td>4</td>\n      <td>4</td>\n      <td>4</td>\n      <td>4</td>\n      <td>4</td>\n      <td>4</td>\n      <td>4</td>\n    </tr>\n    <tr>\n      <th>100008_1</th>\n      <td>5</td>\n      <td>5</td>\n      <td>5</td>\n      <td>5</td>\n      <td>5</td>\n      <td>5</td>\n      <td>5</td>\n      <td>5</td>\n      <td>5</td>\n    </tr>\n    <tr>\n      <th>...</th>\n      <td>...</td>\n      <td>...</td>\n      <td>...</td>\n      <td>...</td>\n      <td>...</td>\n      <td>...</td>\n      <td>...</td>\n      <td>...</td>\n      <td>...</td>\n    </tr>\n    <tr>\n      <th>999776_1</th>\n      <td>4</td>\n      <td>4</td>\n      <td>4</td>\n      <td>4</td>\n      <td>4</td>\n      <td>4</td>\n      <td>4</td>\n      <td>4</td>\n      <td>4</td>\n    </tr>\n    <tr>\n      <th>999839_1</th>\n      <td>4</td>\n      <td>4</td>\n      <td>4</td>\n      <td>4</td>\n      <td>4</td>\n      <td>4</td>\n      <td>4</td>\n      <td>4</td>\n      <td>4</td>\n    </tr>\n    <tr>\n      <th>999842_1</th>\n      <td>4</td>\n      <td>4</td>\n      <td>4</td>\n      <td>4</td>\n      <td>4</td>\n      <td>4</td>\n      <td>4</td>\n      <td>4</td>\n      <td>4</td>\n    </tr>\n    <tr>\n      <th>999855_1</th>\n      <td>15</td>\n      <td>15</td>\n      <td>15</td>\n      <td>15</td>\n      <td>15</td>\n      <td>15</td>\n      <td>15</td>\n      <td>15</td>\n      <td>15</td>\n    </tr>\n    <tr>\n      <th>999944_1</th>\n      <td>4</td>\n      <td>4</td>\n      <td>4</td>\n      <td>4</td>\n      <td>4</td>\n      <td>4</td>\n      <td>4</td>\n      <td>4</td>\n      <td>4</td>\n    </tr>\n  </tbody>\n</table>\n<p>217686 rows × 9 columns</p>\n</div>"
     },
     "metadata": {},
     "execution_count": 15
    }
   ],
   "source": [
    "data.groupby(['utrip_id']).count()   ##unique or no. of multi destination trips = 217686 or no. of unique users "
   ]
  },
  {
   "cell_type": "code",
   "execution_count": 18,
   "metadata": {},
   "outputs": [
    {
     "output_type": "execute_result",
     "data": {
      "text/plain": [
       "     utrip_id\n",
       "0   1006220_1\n",
       "1   1047687_3\n",
       "2   106415_10\n",
       "3   1118748_1\n",
       "4   1182903_2\n",
       "5  1318264_11\n",
       "6    133917_7\n",
       "7    136586_1\n",
       "8   1483553_1\n",
       "9   1505696_2"
      ],
      "text/html": "<div>\n<style scoped>\n    .dataframe tbody tr th:only-of-type {\n        vertical-align: middle;\n    }\n\n    .dataframe tbody tr th {\n        vertical-align: top;\n    }\n\n    .dataframe thead th {\n        text-align: right;\n    }\n</style>\n<table border=\"1\" class=\"dataframe\">\n  <thead>\n    <tr style=\"text-align: right;\">\n      <th></th>\n      <th>utrip_id</th>\n    </tr>\n  </thead>\n  <tbody>\n    <tr>\n      <th>0</th>\n      <td>1006220_1</td>\n    </tr>\n    <tr>\n      <th>1</th>\n      <td>1047687_3</td>\n    </tr>\n    <tr>\n      <th>2</th>\n      <td>106415_10</td>\n    </tr>\n    <tr>\n      <th>3</th>\n      <td>1118748_1</td>\n    </tr>\n    <tr>\n      <th>4</th>\n      <td>1182903_2</td>\n    </tr>\n    <tr>\n      <th>5</th>\n      <td>1318264_11</td>\n    </tr>\n    <tr>\n      <th>6</th>\n      <td>133917_7</td>\n    </tr>\n    <tr>\n      <th>7</th>\n      <td>136586_1</td>\n    </tr>\n    <tr>\n      <th>8</th>\n      <td>1483553_1</td>\n    </tr>\n    <tr>\n      <th>9</th>\n      <td>1505696_2</td>\n    </tr>\n  </tbody>\n</table>\n</div>"
     },
     "metadata": {},
     "execution_count": 18
    }
   ],
   "source": [
    "#local tourists unique ids: unique no of trips\n",
    "#local =pd.DataFrame()\n",
    "local = localData['utrip_id'].unique()\n",
    "#local\n",
    "local_df = pd.DataFrame(local,columns=['utrip_id'])\n",
    "local_df.head(10)"
   ]
  },
  {
   "cell_type": "code",
   "execution_count": 19,
   "metadata": {},
   "outputs": [
    {
     "output_type": "execute_result",
     "data": {
      "text/plain": [
       "(33920, 1)"
      ]
     },
     "metadata": {},
     "execution_count": 19
    }
   ],
   "source": [
    "local_df.shape"
   ]
  },
  {
   "cell_type": "code",
   "execution_count": 20,
   "metadata": {
    "tags": []
   },
   "outputs": [
    {
     "output_type": "execute_result",
     "data": {
      "text/plain": [
       "Gondal                  77574\n",
       "Elbonia                 22972\n",
       "The Devilfire Empire     4005\n",
       "Bartovia                 3888\n",
       "Tcherkistan              3451\n",
       "Name: booker_country, dtype: int64"
      ]
     },
     "metadata": {},
     "execution_count": 20
    }
   ],
   "source": [
    "####LOCAL TOURISTS####\n",
    "localData['booker_country'].value_counts()    #local tourists mostly Gondal is the country and least from Tcherkistan"
   ]
  },
  {
   "cell_type": "code",
   "execution_count": 21,
   "metadata": {},
   "outputs": [
    {
     "output_type": "execute_result",
     "data": {
      "text/plain": [
       "36063    3694\n",
       "44869    1147\n",
       "58178    1028\n",
       "44320     999\n",
       "29770     986\n",
       "         ... \n",
       "352         1\n",
       "2401        1\n",
       "10597       1\n",
       "57724       1\n",
       "28686       1\n",
       "Name: city_id, Length: 9807, dtype: int64"
      ]
     },
     "metadata": {},
     "execution_count": 21
    }
   ],
   "source": [
    "localData['city_id'].value_counts()   ##most visited city id 36063"
   ]
  },
  {
   "cell_type": "code",
   "execution_count": 29,
   "metadata": {},
   "outputs": [
    {
     "output_type": "execute_result",
     "data": {
      "text/plain": [
       "    utrip_id\n",
       "0  1006220_1\n",
       "1  1010293_1\n",
       "2  1012680_1\n",
       "3  1017326_1\n",
       "4  1024544_2\n",
       "5   103011_1\n",
       "6  1032262_2\n",
       "7   103327_1\n",
       "8  1057628_1\n",
       "9  1062443_1"
      ],
      "text/html": "<div>\n<style scoped>\n    .dataframe tbody tr th:only-of-type {\n        vertical-align: middle;\n    }\n\n    .dataframe tbody tr th {\n        vertical-align: top;\n    }\n\n    .dataframe thead th {\n        text-align: right;\n    }\n</style>\n<table border=\"1\" class=\"dataframe\">\n  <thead>\n    <tr style=\"text-align: right;\">\n      <th></th>\n      <th>utrip_id</th>\n    </tr>\n  </thead>\n  <tbody>\n    <tr>\n      <th>0</th>\n      <td>1006220_1</td>\n    </tr>\n    <tr>\n      <th>1</th>\n      <td>1010293_1</td>\n    </tr>\n    <tr>\n      <th>2</th>\n      <td>1012680_1</td>\n    </tr>\n    <tr>\n      <th>3</th>\n      <td>1017326_1</td>\n    </tr>\n    <tr>\n      <th>4</th>\n      <td>1024544_2</td>\n    </tr>\n    <tr>\n      <th>5</th>\n      <td>103011_1</td>\n    </tr>\n    <tr>\n      <th>6</th>\n      <td>1032262_2</td>\n    </tr>\n    <tr>\n      <th>7</th>\n      <td>103327_1</td>\n    </tr>\n    <tr>\n      <th>8</th>\n      <td>1057628_1</td>\n    </tr>\n    <tr>\n      <th>9</th>\n      <td>1062443_1</td>\n    </tr>\n  </tbody>\n</table>\n</div>"
     },
     "metadata": {},
     "execution_count": 29
    }
   ],
   "source": [
    "#non local tourists unique ids: unique no of trips\n",
    "non_local = nonLocalData['utrip_id'].unique()\n",
    "#non_local\n",
    "nonlocal_df = pd.DataFrame(non_local,columns=['utrip_id'])\n",
    "nonlocal_df.head(10)"
   ]
  },
  {
   "cell_type": "code",
   "execution_count": 30,
   "metadata": {},
   "outputs": [
    {
     "output_type": "execute_result",
     "data": {
      "text/plain": [
       "(199976, 1)"
      ]
     },
     "metadata": {},
     "execution_count": 30
    }
   ],
   "source": [
    "nonlocal_df.shape"
   ]
  },
  {
   "cell_type": "code",
   "execution_count": 45,
   "metadata": {},
   "outputs": [
    {
     "output_type": "execute_result",
     "data": {
      "text/plain": [
       "47499    11242\n",
       "23921    10511\n",
       "17013     9011\n",
       "29319     8179\n",
       "64876     7784\n",
       "         ...  \n",
       "51692        1\n",
       "57833        1\n",
       "35300        1\n",
       "41441        1\n",
       "2049         1\n",
       "Name: city_id, Length: 34788, dtype: int64"
      ]
     },
     "metadata": {},
     "execution_count": 45
    }
   ],
   "source": [
    "###NON LOCAL\n",
    "nonLocalData['city_id'].value_counts()   ##most visited city id 47499"
   ]
  },
  {
   "cell_type": "code",
   "execution_count": 47,
   "metadata": {},
   "outputs": [
    {
     "output_type": "execute_result",
     "data": {
      "text/plain": [
       "Cobra Island    137791\n",
       "Fook Island     117717\n",
       "Glubbdubdrib     74840\n",
       "Borginia         45629\n",
       "Kangan           44876\n",
       "                 ...  \n",
       "Buenaventura         1\n",
       "Sardovia             1\n",
       "Maltovia             1\n",
       "Rhelasia             1\n",
       "Nuevo Rico           1\n",
       "Name: hotel_country, Length: 195, dtype: int64"
      ]
     },
     "metadata": {},
     "execution_count": 47
    }
   ],
   "source": [
    "nonLocalData['hotel_country'].value_counts()   ##tourists mostly stayed at Cobra Island"
   ]
  },
  {
   "cell_type": "code",
   "execution_count": 49,
   "metadata": {},
   "outputs": [
    {
     "output_type": "execute_result",
     "data": {
      "text/plain": [
       "Gondal                  458462\n",
       "The Devilfire Empire    282239\n",
       "Elbonia                 212372\n",
       "Tcherkistan              77122\n",
       "Bartovia                 24750\n",
       "Name: booker_country, dtype: int64"
      ]
     },
     "metadata": {},
     "execution_count": 49
    }
   ],
   "source": [
    "nonLocalData['booker_country'].value_counts()   ##tourists mostly booked from Gondal"
   ]
  },
  {
   "cell_type": "code",
   "execution_count": null,
   "metadata": {},
   "outputs": [],
   "source": []
  }
 ]
}
{
 "metadata": {
  "language_info": {
   "codemirror_mode": {
    "name": "ipython",
    "version": 3
   },
   "file_extension": ".py",
   "mimetype": "text/x-python",
   "name": "python",
   "nbconvert_exporter": "python",
   "pygments_lexer": "ipython3",
   "version": "3.8.3-final"
  },
  "orig_nbformat": 2,
  "kernelspec": {
   "name": "python38364bit850a066139d0462d8015500887b614ea",
   "display_name": "Python 3.8.3 64-bit",
   "language": "python"
  }
 },
 "nbformat": 4,
 "nbformat_minor": 2,
 "cells": [
  {
   "cell_type": "code",
   "execution_count": 5,
   "metadata": {},
   "outputs": [],
   "source": [
    "import pandas as pd\n",
    "import numpy as np\n",
    "import seaborn as sns\n",
    "import matplotlib.pyplot as plt\n",
    "from datetime import datetime as dt \n",
    "import time"
   ]
  },
  {
   "cell_type": "code",
   "execution_count": 6,
   "metadata": {},
   "outputs": [],
   "source": [
    "testdata = pd.read_csv(\"booking_test_set.csv\", index_col=0)\n",
    "traindata = pd.read_csv(\"booking_train_set.csv\", index_col=0)"
   ]
  },
  {
   "cell_type": "code",
   "execution_count": 7,
   "metadata": {},
   "outputs": [],
   "source": [
    "# cast dates to datetime format\n",
    "for df in [traindata, testdata]:\n",
    "    df['checkin'] = pd.to_datetime(df['checkin'])\n",
    "    df['checkout'] = pd.to_datetime(df['checkout'])"
   ]
  },
  {
   "cell_type": "code",
   "execution_count": 8,
   "metadata": {},
   "outputs": [
    {
     "output_type": "execute_result",
     "data": {
      "text/plain": [
       "   user_id    checkin   checkout  city_id device_class  affiliate_id  \\\n",
       "0  1006220 2016-04-09 2016-04-11    31114      desktop           384   \n",
       "1  1006220 2016-04-11 2016-04-12    39641      desktop           384   \n",
       "2  1006220 2016-04-12 2016-04-16    20232      desktop           384   \n",
       "3  1006220 2016-04-16 2016-04-17    24144      desktop           384   \n",
       "4  1010293 2016-07-09 2016-07-10     5325       mobile           359   \n",
       "5  1010293 2016-07-10 2016-07-11       55       mobile           359   \n",
       "6  1010293 2016-07-12 2016-07-13    23921       mobile           359   \n",
       "7  1010293 2016-07-13 2016-07-15    65322      desktop          9924   \n",
       "8  1010293 2016-07-15 2016-07-16    23921      desktop          9924   \n",
       "9  1010293 2016-07-16 2016-07-17    20545      desktop         10573   \n",
       "\n",
       "         booker_country hotel_country   utrip_id  \n",
       "0                Gondal        Gondal  1006220_1  \n",
       "1                Gondal        Gondal  1006220_1  \n",
       "2                Gondal  Glubbdubdrib  1006220_1  \n",
       "3                Gondal        Gondal  1006220_1  \n",
       "4  The Devilfire Empire  Cobra Island  1010293_1  \n",
       "5  The Devilfire Empire  Cobra Island  1010293_1  \n",
       "6  The Devilfire Empire  Cobra Island  1010293_1  \n",
       "7  The Devilfire Empire  Cobra Island  1010293_1  \n",
       "8  The Devilfire Empire  Cobra Island  1010293_1  \n",
       "9  The Devilfire Empire  Cobra Island  1010293_1  "
      ],
      "text/html": "<div>\n<style scoped>\n    .dataframe tbody tr th:only-of-type {\n        vertical-align: middle;\n    }\n\n    .dataframe tbody tr th {\n        vertical-align: top;\n    }\n\n    .dataframe thead th {\n        text-align: right;\n    }\n</style>\n<table border=\"1\" class=\"dataframe\">\n  <thead>\n    <tr style=\"text-align: right;\">\n      <th></th>\n      <th>user_id</th>\n      <th>checkin</th>\n      <th>checkout</th>\n      <th>city_id</th>\n      <th>device_class</th>\n      <th>affiliate_id</th>\n      <th>booker_country</th>\n      <th>hotel_country</th>\n      <th>utrip_id</th>\n    </tr>\n  </thead>\n  <tbody>\n    <tr>\n      <th>0</th>\n      <td>1006220</td>\n      <td>2016-04-09</td>\n      <td>2016-04-11</td>\n      <td>31114</td>\n      <td>desktop</td>\n      <td>384</td>\n      <td>Gondal</td>\n      <td>Gondal</td>\n      <td>1006220_1</td>\n    </tr>\n    <tr>\n      <th>1</th>\n      <td>1006220</td>\n      <td>2016-04-11</td>\n      <td>2016-04-12</td>\n      <td>39641</td>\n      <td>desktop</td>\n      <td>384</td>\n      <td>Gondal</td>\n      <td>Gondal</td>\n      <td>1006220_1</td>\n    </tr>\n    <tr>\n      <th>2</th>\n      <td>1006220</td>\n      <td>2016-04-12</td>\n      <td>2016-04-16</td>\n      <td>20232</td>\n      <td>desktop</td>\n      <td>384</td>\n      <td>Gondal</td>\n      <td>Glubbdubdrib</td>\n      <td>1006220_1</td>\n    </tr>\n    <tr>\n      <th>3</th>\n      <td>1006220</td>\n      <td>2016-04-16</td>\n      <td>2016-04-17</td>\n      <td>24144</td>\n      <td>desktop</td>\n      <td>384</td>\n      <td>Gondal</td>\n      <td>Gondal</td>\n      <td>1006220_1</td>\n    </tr>\n    <tr>\n      <th>4</th>\n      <td>1010293</td>\n      <td>2016-07-09</td>\n      <td>2016-07-10</td>\n      <td>5325</td>\n      <td>mobile</td>\n      <td>359</td>\n      <td>The Devilfire Empire</td>\n      <td>Cobra Island</td>\n      <td>1010293_1</td>\n    </tr>\n    <tr>\n      <th>5</th>\n      <td>1010293</td>\n      <td>2016-07-10</td>\n      <td>2016-07-11</td>\n      <td>55</td>\n      <td>mobile</td>\n      <td>359</td>\n      <td>The Devilfire Empire</td>\n      <td>Cobra Island</td>\n      <td>1010293_1</td>\n    </tr>\n    <tr>\n      <th>6</th>\n      <td>1010293</td>\n      <td>2016-07-12</td>\n      <td>2016-07-13</td>\n      <td>23921</td>\n      <td>mobile</td>\n      <td>359</td>\n      <td>The Devilfire Empire</td>\n      <td>Cobra Island</td>\n      <td>1010293_1</td>\n    </tr>\n    <tr>\n      <th>7</th>\n      <td>1010293</td>\n      <td>2016-07-13</td>\n      <td>2016-07-15</td>\n      <td>65322</td>\n      <td>desktop</td>\n      <td>9924</td>\n      <td>The Devilfire Empire</td>\n      <td>Cobra Island</td>\n      <td>1010293_1</td>\n    </tr>\n    <tr>\n      <th>8</th>\n      <td>1010293</td>\n      <td>2016-07-15</td>\n      <td>2016-07-16</td>\n      <td>23921</td>\n      <td>desktop</td>\n      <td>9924</td>\n      <td>The Devilfire Empire</td>\n      <td>Cobra Island</td>\n      <td>1010293_1</td>\n    </tr>\n    <tr>\n      <th>9</th>\n      <td>1010293</td>\n      <td>2016-07-16</td>\n      <td>2016-07-17</td>\n      <td>20545</td>\n      <td>desktop</td>\n      <td>10573</td>\n      <td>The Devilfire Empire</td>\n      <td>Cobra Island</td>\n      <td>1010293_1</td>\n    </tr>\n  </tbody>\n</table>\n</div>"
     },
     "metadata": {},
     "execution_count": 8
    }
   ],
   "source": [
    "traindata.head(10)"
   ]
  },
  {
   "cell_type": "code",
   "execution_count": 36,
   "metadata": {},
   "outputs": [
    {
     "output_type": "execute_result",
     "data": {
      "text/plain": [
       "utrip_id\n",
       "1000027_1                     [Gondal, Gondal, Gondal, Gondal]\n",
       "1000033_1    [Cobra Island, Cobra Island, Cobra Island, Cob...\n",
       "1000045_1    [Fook Island, Fook Island, Fook Island, Carpat...\n",
       "1000083_1            [Osterlich, Osterlich, Osterlich, Gondal]\n",
       "100008_1     [Kamistan, Kamistan, Kamistan, Kamistan, Kamis...\n",
       "                                   ...                        \n",
       "999776_1      [Novistrana, Novistrana, Novistrana, Novistrana]\n",
       "999839_1     [Cobra Island, Cobra Island, Cobra Island, Cob...\n",
       "999842_1     [Glubbdubdrib, Glubbdubdrib, Glubbdubdrib, Alv...\n",
       "999855_1     [Fook Island, Fook Island, Fook Island, Fook I...\n",
       "999944_1     [Glubbdubdrib, Glubbdubdrib, Glubbdubdrib, Glu...\n",
       "Name: hotel_country, Length: 217686, dtype: object"
      ]
     },
     "metadata": {},
     "execution_count": 36
    }
   ],
   "source": [
    "# series that holds a list of countries visited on each trip\n",
    "orderofcountriesvisitedpertrip = traindata.groupby('utrip_id')['hotel_country'].agg(lambda x: list(x))"
   ]
  },
  {
   "cell_type": "code",
   "execution_count": 45,
   "metadata": {},
   "outputs": [
    {
     "output_type": "execute_result",
     "data": {
      "text/plain": [
       "utrip_id\n",
       "1000027_1                     [Gondal, Gondal, Gondal, Gondal]\n",
       "1000033_1    [Cobra Island, Cobra Island, Cobra Island, Cob...\n",
       "1000045_1    [Fook Island, Fook Island, Fook Island, Carpat...\n",
       "1000083_1            [Osterlich, Osterlich, Osterlich, Gondal]\n",
       "100008_1     [Kamistan, Kamistan, Kamistan, Kamistan, Kamis...\n",
       "                                   ...                        \n",
       "999776_1      [Novistrana, Novistrana, Novistrana, Novistrana]\n",
       "999839_1     [Cobra Island, Cobra Island, Cobra Island, Cob...\n",
       "999842_1     [Glubbdubdrib, Glubbdubdrib, Glubbdubdrib, Alv...\n",
       "999855_1     [Fook Island, Fook Island, Fook Island, Fook I...\n",
       "999944_1     [Glubbdubdrib, Glubbdubdrib, Glubbdubdrib, Glu...\n",
       "Name: hotel_country, Length: 217686, dtype: object"
      ]
     },
     "metadata": {},
     "execution_count": 45
    }
   ],
   "source": [
    "orderofcountriesvisitedpertrip"
   ]
  },
  {
   "cell_type": "code",
   "execution_count": 43,
   "metadata": {},
   "outputs": [],
   "source": [
    "# series that holds a list of cities visited on each trip\n",
    "orderofcitiesvisitedpertrip = traindata.groupby('utrip_id')['city_id'].agg(lambda x: list(x))"
   ]
  },
  {
   "cell_type": "code",
   "execution_count": 44,
   "metadata": {},
   "outputs": [
    {
     "output_type": "execute_result",
     "data": {
      "text/plain": [
       "utrip_id\n",
       "1000027_1                          [8183, 15626, 60902, 30628]\n",
       "1000033_1                  [38677, 52089, 21328, 27485, 38677]\n",
       "1000045_1     [64876, 55128, 9608, 31817, 36170, 58178, 36063]\n",
       "1000083_1                         [55990, 14705, 35160, 36063]\n",
       "100008_1                     [11306, 12096, 6761, 6779, 65690]\n",
       "                                   ...                        \n",
       "999776_1                          [17775, 66634, 17775, 17775]\n",
       "999839_1                            [8335, 21328, 8335, 48968]\n",
       "999842_1                          [51291, 66969, 67169, 24036]\n",
       "999855_1     [382, 38509, 18930, 38509, 51145, 11179, 61881...\n",
       "999944_1                            [17944, 47075, 228, 62930]\n",
       "Name: city_id, Length: 217686, dtype: object"
      ]
     },
     "metadata": {},
     "execution_count": 44
    }
   ],
   "source": [
    "orderofcitiesvisitedpertrip"
   ]
  },
  {
   "cell_type": "code",
   "execution_count": 52,
   "metadata": {},
   "outputs": [],
   "source": [
    "data = {'utrip_id':orderofcitiesvisitedpertrip.keys(), \n",
    "        'orderofcitiesvisitedpertrip':orderofcitiesvisitedpertrip.values,\n",
    "     'orderofcountriesvisitedpertrip':orderofcountriesvisitedpertrip.values}\n",
    "data = pd.DataFrame(data)"
   ]
  },
  {
   "cell_type": "code",
   "execution_count": 55,
   "metadata": {},
   "outputs": [
    {
     "output_type": "execute_result",
     "data": {
      "text/plain": [
       "    utrip_id                        orderofcitiesvisitedpertrip  \\\n",
       "0  1000027_1                        [8183, 15626, 60902, 30628]   \n",
       "1  1000033_1                [38677, 52089, 21328, 27485, 38677]   \n",
       "2  1000045_1   [64876, 55128, 9608, 31817, 36170, 58178, 36063]   \n",
       "3  1000083_1                       [55990, 14705, 35160, 36063]   \n",
       "4   100008_1                  [11306, 12096, 6761, 6779, 65690]   \n",
       "5  1000097_1  [17127, 31088, 40521, 55128, 21033, 6306, 6788...   \n",
       "6  1000136_1                [62541, 42482, 20345, 33540, 32627]   \n",
       "7  1000145_1                [47499, 27112, 17764, 56651, 35850]   \n",
       "8   100018_1    [17830, 57619, 22065, 2748, 46854, 5797, 57658]   \n",
       "9  1000208_1                  [60143, 1910, 9278, 51999, 56872]   \n",
       "\n",
       "                      orderofcountriesvisitedpertrip  \n",
       "0                   [Gondal, Gondal, Gondal, Gondal]  \n",
       "1  [Cobra Island, Cobra Island, Cobra Island, Cob...  \n",
       "2  [Fook Island, Fook Island, Fook Island, Carpat...  \n",
       "3          [Osterlich, Osterlich, Osterlich, Gondal]  \n",
       "4  [Kamistan, Kamistan, Kamistan, Kamistan, Kamis...  \n",
       "5  [Fook Island, Fook Island, Fook Island, Fook I...  \n",
       "6  [Fook Island, Fook Island, Fook Island, Fook I...  \n",
       "7  [Kangan, Rook Islands, Rook Islands, Rook Isla...  \n",
       "8  [Bartovia, Leutonia, Leutonia, Leutonia, Leuto...  \n",
       "9      [Patusan, Patusan, Patusan, Patusan, Patusan]  "
      ],
      "text/html": "<div>\n<style scoped>\n    .dataframe tbody tr th:only-of-type {\n        vertical-align: middle;\n    }\n\n    .dataframe tbody tr th {\n        vertical-align: top;\n    }\n\n    .dataframe thead th {\n        text-align: right;\n    }\n</style>\n<table border=\"1\" class=\"dataframe\">\n  <thead>\n    <tr style=\"text-align: right;\">\n      <th></th>\n      <th>utrip_id</th>\n      <th>orderofcitiesvisitedpertrip</th>\n      <th>orderofcountriesvisitedpertrip</th>\n    </tr>\n  </thead>\n  <tbody>\n    <tr>\n      <th>0</th>\n      <td>1000027_1</td>\n      <td>[8183, 15626, 60902, 30628]</td>\n      <td>[Gondal, Gondal, Gondal, Gondal]</td>\n    </tr>\n    <tr>\n      <th>1</th>\n      <td>1000033_1</td>\n      <td>[38677, 52089, 21328, 27485, 38677]</td>\n      <td>[Cobra Island, Cobra Island, Cobra Island, Cob...</td>\n    </tr>\n    <tr>\n      <th>2</th>\n      <td>1000045_1</td>\n      <td>[64876, 55128, 9608, 31817, 36170, 58178, 36063]</td>\n      <td>[Fook Island, Fook Island, Fook Island, Carpat...</td>\n    </tr>\n    <tr>\n      <th>3</th>\n      <td>1000083_1</td>\n      <td>[55990, 14705, 35160, 36063]</td>\n      <td>[Osterlich, Osterlich, Osterlich, Gondal]</td>\n    </tr>\n    <tr>\n      <th>4</th>\n      <td>100008_1</td>\n      <td>[11306, 12096, 6761, 6779, 65690]</td>\n      <td>[Kamistan, Kamistan, Kamistan, Kamistan, Kamis...</td>\n    </tr>\n    <tr>\n      <th>5</th>\n      <td>1000097_1</td>\n      <td>[17127, 31088, 40521, 55128, 21033, 6306, 6788...</td>\n      <td>[Fook Island, Fook Island, Fook Island, Fook I...</td>\n    </tr>\n    <tr>\n      <th>6</th>\n      <td>1000136_1</td>\n      <td>[62541, 42482, 20345, 33540, 32627]</td>\n      <td>[Fook Island, Fook Island, Fook Island, Fook I...</td>\n    </tr>\n    <tr>\n      <th>7</th>\n      <td>1000145_1</td>\n      <td>[47499, 27112, 17764, 56651, 35850]</td>\n      <td>[Kangan, Rook Islands, Rook Islands, Rook Isla...</td>\n    </tr>\n    <tr>\n      <th>8</th>\n      <td>100018_1</td>\n      <td>[17830, 57619, 22065, 2748, 46854, 5797, 57658]</td>\n      <td>[Bartovia, Leutonia, Leutonia, Leutonia, Leuto...</td>\n    </tr>\n    <tr>\n      <th>9</th>\n      <td>1000208_1</td>\n      <td>[60143, 1910, 9278, 51999, 56872]</td>\n      <td>[Patusan, Patusan, Patusan, Patusan, Patusan]</td>\n    </tr>\n  </tbody>\n</table>\n</div>"
     },
     "metadata": {},
     "execution_count": 55
    }
   ],
   "source": [
    "data.head(10)"
   ]
  },
  {
   "cell_type": "code",
   "execution_count": 54,
   "metadata": {},
   "outputs": [
    {
     "output_type": "execute_result",
     "data": {
      "text/plain": [
       "hotel_country\n",
       "Absurdistan                       [47440, 52136, 42121, 52136, 62316, 52136, 474...\n",
       "Aldorria                          [64131, 34751, 34751, 20862, 58136, 58136, 457...\n",
       "Aldovia                           [52815, 48905, 33022, 52815, 33022, 48905, 586...\n",
       "Almaigne                          [41220, 41220, 41220, 41220, 41220, 41220, 41220]\n",
       "Altis and Stratis, Republic of    [53731, 51329, 29723, 50260, 50260, 50260, 521...\n",
       "                                                        ...                        \n",
       "Yellow Empire                     [10235, 10235, 25374, 60664, 10235, 22115, 102...\n",
       "Yerba                             [37709, 19626, 62270, 24783, 8587, 31627, 5109...\n",
       "Yudonia                           [18548, 18548, 909, 18548, 34985, 43062, 19011...\n",
       "Zekistan                          [267, 33625, 267, 267, 267, 33625, 267, 33625,...\n",
       "Zephyria                          [64502, 11640, 52564, 64502, 18343, 49475, 494...\n",
       "Name: city_id, Length: 195, dtype: object"
      ]
     },
     "metadata": {},
     "execution_count": 54
    }
   ],
   "source": [
    "# series that holds a list of cities visited on each trip\n",
    "citiesincountry = traindata.groupby('hotel_country')['city_id'].agg(lambda x: list(x))\n",
    "citiesincountry"
   ]
  },
  {
   "cell_type": "code",
   "execution_count": 66,
   "metadata": {},
   "outputs": [
    {
     "output_type": "execute_result",
     "data": {
      "text/plain": [
       "utrip_id\n",
       "1000027_1    60902\n",
       "1000033_1    27485\n",
       "1000045_1    58178\n",
       "1000083_1    35160\n",
       "100008_1      6779\n",
       "             ...  \n",
       "999776_1     17775\n",
       "999839_1      8335\n",
       "999842_1     67169\n",
       "999855_1     44489\n",
       "999944_1       228\n",
       "Name: city_id, Length: 217686, dtype: int64"
      ]
     },
     "metadata": {},
     "execution_count": 66
    }
   ],
   "source": [
    "# pull out the second last city of each utrip_id into a series\n",
    "lastcityoftripseries = orderofcitiesvisitedpertrip.apply(lambda x: x[len(x)-2])\n",
    "lastcityoftripseries\n"
   ]
  },
  {
   "cell_type": "code",
   "execution_count": 1,
   "metadata": {},
   "outputs": [],
   "source": [
    "from sklearn.preprocessing import LabelEncoder\n",
    "from sklearn.preprocessing import OneHotEncoder"
   ]
  },
  {
   "cell_type": "code",
   "execution_count": 2,
   "metadata": {},
   "outputs": [],
   "source": [
    "labelencoder = LabelEncoder()\n",
    "enc = OneHotEncoder(handle_unknown='ignore')"
   ]
  },
  {
   "cell_type": "code",
   "execution_count": 9,
   "metadata": {},
   "outputs": [],
   "source": [
    "traindata['hotel_country_cat'] = labelencoder.fit_transform(traindata['hotel_country']).astype(int)"
   ]
  },
  {
   "cell_type": "code",
   "execution_count": 11,
   "metadata": {},
   "outputs": [
    {
     "output_type": "error",
     "ename": "MemoryError",
     "evalue": "Unable to allocate 1.70 GiB for an array with shape (227532825,) and data type float64",
     "traceback": [
      "\u001b[1;31m---------------------------------------------------------------------------\u001b[0m",
      "\u001b[1;31mMemoryError\u001b[0m                               Traceback (most recent call last)",
      "\u001b[1;32m<ipython-input-11-2105c76822cb>\u001b[0m in \u001b[0;36m<module>\u001b[1;34m\u001b[0m\n\u001b[1;32m----> 1\u001b[1;33m \u001b[0mhotel_country_df\u001b[0m \u001b[1;33m=\u001b[0m \u001b[0mpd\u001b[0m\u001b[1;33m.\u001b[0m\u001b[0mDataFrame\u001b[0m\u001b[1;33m(\u001b[0m\u001b[0menc\u001b[0m\u001b[1;33m.\u001b[0m\u001b[0mfit_transform\u001b[0m\u001b[1;33m(\u001b[0m\u001b[0mtraindata\u001b[0m\u001b[1;33m[\u001b[0m\u001b[1;33m[\u001b[0m\u001b[1;34m'hotel_country_cat'\u001b[0m\u001b[1;33m]\u001b[0m\u001b[1;33m]\u001b[0m\u001b[1;33m)\u001b[0m\u001b[1;33m.\u001b[0m\u001b[0mtoarray\u001b[0m\u001b[1;33m(\u001b[0m\u001b[1;33m)\u001b[0m\u001b[1;33m)\u001b[0m\u001b[1;33m.\u001b[0m\u001b[0mastype\u001b[0m\u001b[1;33m(\u001b[0m\u001b[0mint\u001b[0m\u001b[1;33m)\u001b[0m\u001b[1;33m\u001b[0m\u001b[1;33m\u001b[0m\u001b[0m\n\u001b[0m",
      "\u001b[1;32m~\\AppData\\Local\\Programs\\Python\\Python38\\lib\\site-packages\\pandas\\core\\generic.py\u001b[0m in \u001b[0;36mastype\u001b[1;34m(self, dtype, copy, errors)\u001b[0m\n\u001b[0;32m   5696\u001b[0m         \u001b[1;32melse\u001b[0m\u001b[1;33m:\u001b[0m\u001b[1;33m\u001b[0m\u001b[1;33m\u001b[0m\u001b[0m\n\u001b[0;32m   5697\u001b[0m             \u001b[1;31m# else, only a single dtype is given\u001b[0m\u001b[1;33m\u001b[0m\u001b[1;33m\u001b[0m\u001b[1;33m\u001b[0m\u001b[0m\n\u001b[1;32m-> 5698\u001b[1;33m             \u001b[0mnew_data\u001b[0m \u001b[1;33m=\u001b[0m \u001b[0mself\u001b[0m\u001b[1;33m.\u001b[0m\u001b[0m_data\u001b[0m\u001b[1;33m.\u001b[0m\u001b[0mastype\u001b[0m\u001b[1;33m(\u001b[0m\u001b[0mdtype\u001b[0m\u001b[1;33m=\u001b[0m\u001b[0mdtype\u001b[0m\u001b[1;33m,\u001b[0m \u001b[0mcopy\u001b[0m\u001b[1;33m=\u001b[0m\u001b[0mcopy\u001b[0m\u001b[1;33m,\u001b[0m \u001b[0merrors\u001b[0m\u001b[1;33m=\u001b[0m\u001b[0merrors\u001b[0m\u001b[1;33m)\u001b[0m\u001b[1;33m\u001b[0m\u001b[1;33m\u001b[0m\u001b[0m\n\u001b[0m\u001b[0;32m   5699\u001b[0m             \u001b[1;32mreturn\u001b[0m \u001b[0mself\u001b[0m\u001b[1;33m.\u001b[0m\u001b[0m_constructor\u001b[0m\u001b[1;33m(\u001b[0m\u001b[0mnew_data\u001b[0m\u001b[1;33m)\u001b[0m\u001b[1;33m.\u001b[0m\u001b[0m__finalize__\u001b[0m\u001b[1;33m(\u001b[0m\u001b[0mself\u001b[0m\u001b[1;33m)\u001b[0m\u001b[1;33m\u001b[0m\u001b[1;33m\u001b[0m\u001b[0m\n\u001b[0;32m   5700\u001b[0m \u001b[1;33m\u001b[0m\u001b[0m\n",
      "\u001b[1;32m~\\AppData\\Local\\Programs\\Python\\Python38\\lib\\site-packages\\pandas\\core\\internals\\managers.py\u001b[0m in \u001b[0;36mastype\u001b[1;34m(self, dtype, copy, errors)\u001b[0m\n\u001b[0;32m    580\u001b[0m \u001b[1;33m\u001b[0m\u001b[0m\n\u001b[0;32m    581\u001b[0m     \u001b[1;32mdef\u001b[0m \u001b[0mastype\u001b[0m\u001b[1;33m(\u001b[0m\u001b[0mself\u001b[0m\u001b[1;33m,\u001b[0m \u001b[0mdtype\u001b[0m\u001b[1;33m,\u001b[0m \u001b[0mcopy\u001b[0m\u001b[1;33m:\u001b[0m \u001b[0mbool\u001b[0m \u001b[1;33m=\u001b[0m \u001b[1;32mFalse\u001b[0m\u001b[1;33m,\u001b[0m \u001b[0merrors\u001b[0m\u001b[1;33m:\u001b[0m \u001b[0mstr\u001b[0m \u001b[1;33m=\u001b[0m \u001b[1;34m\"raise\"\u001b[0m\u001b[1;33m)\u001b[0m\u001b[1;33m:\u001b[0m\u001b[1;33m\u001b[0m\u001b[1;33m\u001b[0m\u001b[0m\n\u001b[1;32m--> 582\u001b[1;33m         \u001b[1;32mreturn\u001b[0m \u001b[0mself\u001b[0m\u001b[1;33m.\u001b[0m\u001b[0mapply\u001b[0m\u001b[1;33m(\u001b[0m\u001b[1;34m\"astype\"\u001b[0m\u001b[1;33m,\u001b[0m \u001b[0mdtype\u001b[0m\u001b[1;33m=\u001b[0m\u001b[0mdtype\u001b[0m\u001b[1;33m,\u001b[0m \u001b[0mcopy\u001b[0m\u001b[1;33m=\u001b[0m\u001b[0mcopy\u001b[0m\u001b[1;33m,\u001b[0m \u001b[0merrors\u001b[0m\u001b[1;33m=\u001b[0m\u001b[0merrors\u001b[0m\u001b[1;33m)\u001b[0m\u001b[1;33m\u001b[0m\u001b[1;33m\u001b[0m\u001b[0m\n\u001b[0m\u001b[0;32m    583\u001b[0m \u001b[1;33m\u001b[0m\u001b[0m\n\u001b[0;32m    584\u001b[0m     \u001b[1;32mdef\u001b[0m \u001b[0mconvert\u001b[0m\u001b[1;33m(\u001b[0m\u001b[0mself\u001b[0m\u001b[1;33m,\u001b[0m \u001b[1;33m**\u001b[0m\u001b[0mkwargs\u001b[0m\u001b[1;33m)\u001b[0m\u001b[1;33m:\u001b[0m\u001b[1;33m\u001b[0m\u001b[1;33m\u001b[0m\u001b[0m\n",
      "\u001b[1;32m~\\AppData\\Local\\Programs\\Python\\Python38\\lib\\site-packages\\pandas\\core\\internals\\managers.py\u001b[0m in \u001b[0;36mapply\u001b[1;34m(self, f, filter, **kwargs)\u001b[0m\n\u001b[0;32m    440\u001b[0m                 \u001b[0mapplied\u001b[0m \u001b[1;33m=\u001b[0m \u001b[0mb\u001b[0m\u001b[1;33m.\u001b[0m\u001b[0mapply\u001b[0m\u001b[1;33m(\u001b[0m\u001b[0mf\u001b[0m\u001b[1;33m,\u001b[0m \u001b[1;33m**\u001b[0m\u001b[0mkwargs\u001b[0m\u001b[1;33m)\u001b[0m\u001b[1;33m\u001b[0m\u001b[1;33m\u001b[0m\u001b[0m\n\u001b[0;32m    441\u001b[0m             \u001b[1;32melse\u001b[0m\u001b[1;33m:\u001b[0m\u001b[1;33m\u001b[0m\u001b[1;33m\u001b[0m\u001b[0m\n\u001b[1;32m--> 442\u001b[1;33m                 \u001b[0mapplied\u001b[0m \u001b[1;33m=\u001b[0m \u001b[0mgetattr\u001b[0m\u001b[1;33m(\u001b[0m\u001b[0mb\u001b[0m\u001b[1;33m,\u001b[0m \u001b[0mf\u001b[0m\u001b[1;33m)\u001b[0m\u001b[1;33m(\u001b[0m\u001b[1;33m**\u001b[0m\u001b[0mkwargs\u001b[0m\u001b[1;33m)\u001b[0m\u001b[1;33m\u001b[0m\u001b[1;33m\u001b[0m\u001b[0m\n\u001b[0m\u001b[0;32m    443\u001b[0m             \u001b[0mresult_blocks\u001b[0m \u001b[1;33m=\u001b[0m \u001b[0m_extend_blocks\u001b[0m\u001b[1;33m(\u001b[0m\u001b[0mapplied\u001b[0m\u001b[1;33m,\u001b[0m \u001b[0mresult_blocks\u001b[0m\u001b[1;33m)\u001b[0m\u001b[1;33m\u001b[0m\u001b[1;33m\u001b[0m\u001b[0m\n\u001b[0;32m    444\u001b[0m \u001b[1;33m\u001b[0m\u001b[0m\n",
      "\u001b[1;32m~\\AppData\\Local\\Programs\\Python\\Python38\\lib\\site-packages\\pandas\\core\\internals\\blocks.py\u001b[0m in \u001b[0;36mastype\u001b[1;34m(self, dtype, copy, errors)\u001b[0m\n\u001b[0;32m    621\u001b[0m \u001b[1;33m\u001b[0m\u001b[0m\n\u001b[0;32m    622\u001b[0m             \u001b[1;31m# _astype_nansafe works fine with 1-d only\u001b[0m\u001b[1;33m\u001b[0m\u001b[1;33m\u001b[0m\u001b[1;33m\u001b[0m\u001b[0m\n\u001b[1;32m--> 623\u001b[1;33m             \u001b[0mvals1d\u001b[0m \u001b[1;33m=\u001b[0m \u001b[0mvalues\u001b[0m\u001b[1;33m.\u001b[0m\u001b[0mravel\u001b[0m\u001b[1;33m(\u001b[0m\u001b[1;33m)\u001b[0m\u001b[1;33m\u001b[0m\u001b[1;33m\u001b[0m\u001b[0m\n\u001b[0m\u001b[0;32m    624\u001b[0m             \u001b[1;32mtry\u001b[0m\u001b[1;33m:\u001b[0m\u001b[1;33m\u001b[0m\u001b[1;33m\u001b[0m\u001b[0m\n\u001b[0;32m    625\u001b[0m                 \u001b[0mvalues\u001b[0m \u001b[1;33m=\u001b[0m \u001b[0mastype_nansafe\u001b[0m\u001b[1;33m(\u001b[0m\u001b[0mvals1d\u001b[0m\u001b[1;33m,\u001b[0m \u001b[0mdtype\u001b[0m\u001b[1;33m,\u001b[0m \u001b[0mcopy\u001b[0m\u001b[1;33m=\u001b[0m\u001b[1;32mTrue\u001b[0m\u001b[1;33m)\u001b[0m\u001b[1;33m\u001b[0m\u001b[1;33m\u001b[0m\u001b[0m\n",
      "\u001b[1;31mMemoryError\u001b[0m: Unable to allocate 1.70 GiB for an array with shape (227532825,) and data type float64"
     ]
    }
   ],
   "source": [
    "hotel_country_df = pd.DataFrame(enc.fit_transform(traindata[['hotel_country_cat']]).toarray()).astype(int)"
   ]
  },
  {
   "cell_type": "code",
   "execution_count": null,
   "metadata": {},
   "outputs": [],
   "source": []
  }
 ]
}